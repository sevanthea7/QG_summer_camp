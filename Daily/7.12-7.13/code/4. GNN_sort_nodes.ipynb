{
 "cells": [
  {
   "cell_type": "code",
   "execution_count": 2,
   "id": "initial_id",
   "metadata": {
    "collapsed": true,
    "ExecuteTime": {
     "end_time": "2024-07-13T11:33:04.898931700Z",
     "start_time": "2024-07-13T11:33:00.849659300Z"
    }
   },
   "outputs": [],
   "source": [
    "import torch\n",
    "import torch.nn as nn\n",
    "import torch.nn.functional as F\n",
    "from torch_geometric.datasets import Planetoid\n",
    "from torch_geometric.nn import GCNConv\n",
    "import numpy as np"
   ]
  },
  {
   "cell_type": "code",
   "outputs": [
    {
     "data": {
      "text/plain": "(1433, 7)"
     },
     "execution_count": 3,
     "metadata": {},
     "output_type": "execute_result"
    }
   ],
   "source": [
    "dataset = Planetoid( root = '~/tmp/Cora', name = 'Cora' )\n",
    "data = dataset[0]\n",
    "dataset.num_features, dataset.num_classes"
   ],
   "metadata": {
    "collapsed": false,
    "ExecuteTime": {
     "end_time": "2024-07-13T11:33:04.958289800Z",
     "start_time": "2024-07-13T11:33:04.902953100Z"
    }
   },
   "id": "a894ac2d629822da",
   "execution_count": 3
  },
  {
   "cell_type": "code",
   "outputs": [
    {
     "data": {
      "text/plain": "torch.Size([2, 10556])"
     },
     "execution_count": 4,
     "metadata": {},
     "output_type": "execute_result"
    }
   ],
   "source": [
    "data.edge_index.size()"
   ],
   "metadata": {
    "collapsed": false,
    "ExecuteTime": {
     "end_time": "2024-07-13T11:33:04.959296200Z",
     "start_time": "2024-07-13T11:33:04.922926700Z"
    }
   },
   "id": "fc6c242e286d1262",
   "execution_count": 4
  },
  {
   "cell_type": "code",
   "outputs": [
    {
     "data": {
      "text/plain": "(tensor([ True,  True,  True,  ..., False, False, False]),\n tensor([False, False, False,  ...,  True,  True,  True]),\n 1000)"
     },
     "execution_count": 5,
     "metadata": {},
     "output_type": "execute_result"
    }
   ],
   "source": [
    "data.train_mask, data.test_mask, np.sum( np.array( data.test_mask ) )             # 划分好的训练集测试集"
   ],
   "metadata": {
    "collapsed": false,
    "ExecuteTime": {
     "end_time": "2024-07-13T11:33:04.960287100Z",
     "start_time": "2024-07-13T11:33:04.928807200Z"
    }
   },
   "id": "9255f6fde9357bf",
   "execution_count": 5
  },
  {
   "cell_type": "code",
   "outputs": [
    {
     "data": {
      "text/plain": "(torch.Size([2708, 1433]), torch.Size([2708]))"
     },
     "execution_count": 6,
     "metadata": {},
     "output_type": "execute_result"
    }
   ],
   "source": [
    "data.x.size(), data.y.size()                       # 节点的特征矩阵和标签的"
   ],
   "metadata": {
    "collapsed": false,
    "ExecuteTime": {
     "end_time": "2024-07-13T11:33:04.960287100Z",
     "start_time": "2024-07-13T11:33:04.936414Z"
    }
   },
   "id": "5cd495ea32d303f3",
   "execution_count": 6
  },
  {
   "cell_type": "code",
   "outputs": [],
   "source": [
    "class GNN( nn.Module ):\n",
    "    def __init__( self ):\n",
    "        super( GNN, self ).__init__()\n",
    "        self.conv1 = GCNConv( dataset.num_features, 16 )                # ( 输入特征维度, 隐藏神经元个数 )\n",
    "        self.conv2 = GCNConv( 16, dataset.num_classes )\n",
    "        \n",
    "    def forward( self, x, edge_index ):\n",
    "        x = self.conv1( x, edge_index )\n",
    "        x = F.relu( x )\n",
    "        x = self.conv2( x, edge_index )\n",
    "        return F.log_softmax( x, dim = 1 )\n"
   ],
   "metadata": {
    "collapsed": false,
    "ExecuteTime": {
     "end_time": "2024-07-13T11:33:04.961289100Z",
     "start_time": "2024-07-13T11:33:04.942641400Z"
    }
   },
   "id": "1a0667de806ce33e",
   "execution_count": 7
  },
  {
   "cell_type": "code",
   "outputs": [],
   "source": [
    "net = GNN()\n",
    "optimizer = torch.optim.Adam( net.parameters(), lr = 0.01, weight_decay = 5e-4 ) # weight_decay 正则化，防止模型过拟合"
   ],
   "metadata": {
    "collapsed": false,
    "ExecuteTime": {
     "end_time": "2024-07-13T11:33:05.034446300Z",
     "start_time": "2024-07-13T11:33:04.947758100Z"
    }
   },
   "id": "5835c6e5ddedd506",
   "execution_count": 8
  },
  {
   "cell_type": "code",
   "outputs": [
    {
     "data": {
      "text/plain": "torch.Size([1000, 7])"
     },
     "execution_count": 9,
     "metadata": {},
     "output_type": "execute_result"
    }
   ],
   "source": [
    "for epoch in range( 200 ):\n",
    "    net.train()\n",
    "    optimizer.zero_grad()\n",
    "    out = net( data.x, data.edge_index )                                        # 节点特征和边特征\n",
    "    loss = F.nll_loss( out[data.train_mask], data.y[data.train_mask] )              # 仅计算训练集的损失\n",
    "    loss.backward()\n",
    "    optimizer.step()\n",
    "\n",
    "net.eval()\n",
    "pred = net( data.x, data.edge_index )[ data.test_mask ]\n",
    "\n",
    "pred.size()"
   ],
   "metadata": {
    "collapsed": false,
    "ExecuteTime": {
     "end_time": "2024-07-13T11:33:06.419292300Z",
     "start_time": "2024-07-13T11:33:04.986345100Z"
    }
   },
   "id": "17ff0211a1c02703",
   "execution_count": 9
  },
  {
   "cell_type": "code",
   "outputs": [
    {
     "name": "stdout",
     "output_type": "stream",
     "text": [
      "accuracy: 80.4%\n"
     ]
    }
   ],
   "source": [
    "max_index = torch.argmax( pred, dim = 1 )\n",
    "test_true = data.y[ data.test_mask ]\n",
    "r = 0\n",
    "for i in range( len( max_index ) ):\n",
    "    if max_index[i] == test_true[i]:\n",
    "        r += 1\n",
    "print( 'accuracy: {}%'.format( r * 100 / len( test_true ) ) )"
   ],
   "metadata": {
    "collapsed": false,
    "ExecuteTime": {
     "end_time": "2024-07-13T11:34:46.761751Z",
     "start_time": "2024-07-13T11:34:46.733853100Z"
    }
   },
   "id": "c25b9626270e2f1a",
   "execution_count": 12
  },
  {
   "cell_type": "code",
   "outputs": [],
   "source": [],
   "metadata": {
    "collapsed": false
   },
   "id": "70b9c1edf84657f3"
  }
 ],
 "metadata": {
  "kernelspec": {
   "display_name": "Python 3",
   "language": "python",
   "name": "python3"
  },
  "language_info": {
   "codemirror_mode": {
    "name": "ipython",
    "version": 2
   },
   "file_extension": ".py",
   "mimetype": "text/x-python",
   "name": "python",
   "nbconvert_exporter": "python",
   "pygments_lexer": "ipython2",
   "version": "2.7.6"
  }
 },
 "nbformat": 4,
 "nbformat_minor": 5
}
