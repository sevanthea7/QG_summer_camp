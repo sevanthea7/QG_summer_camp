{
 "cells": [
  {
   "cell_type": "code",
   "execution_count": null,
   "id": "initial_id",
   "metadata": {
    "collapsed": true
   },
   "outputs": [],
   "source": [
    "import torch\n",
    "import torch.nn as nn\n",
    "import torch.nn.functional as F\n",
    "from torch_geometric.nn import GCNConv, global_mean_pool\n",
    "from torch_geometric.datasets import TUDataset\n",
    "from torch_geometric.loader import DataLoader"
   ]
  },
  {
   "cell_type": "code",
   "outputs": [],
   "source": [
    "dataset = TUDataset( root='~/tmp', name = 'ENZYMES' )\n",
    "dlen = len( dataset )"
   ],
   "metadata": {
    "collapsed": false
   },
   "id": "942fc288de56c977",
   "execution_count": null
  },
  {
   "cell_type": "code",
   "outputs": [],
   "source": [
    "dataset.shuffle()\n",
    "\n",
    "perc = 0.9\n",
    "n = int( dlen * perc )\n",
    "train_dataset = dataset[ :n ]\n",
    "test_dataset = dataset[ n: ]\n",
    "\n",
    "train_dataloader = DataLoader( train_dataset, batch_size= 32, shuffle = True )\n",
    "test_dataloader = DataLoader( test_dataset, batch_size = 32, shuffle = False )\n",
    "\n",
    "train_dataset"
   ],
   "metadata": {
    "collapsed": false
   },
   "id": "d9ec6d31c994030c",
   "execution_count": null
  },
  {
   "cell_type": "code",
   "outputs": [],
   "source": [
    "class GCN( nn.Module ):\n",
    "    def __init__( self, hidden_channels ):\n",
    "        super( GCN, self ).__init__()\n",
    "        self.conv1 = GCNConv( dataset.num_node_features, hidden_channels )\n",
    "        self.conv2 = GCNConv( hidden_channels, hidden_channels )\n",
    "        self.conv3 = GCNConv( hidden_channels, hidden_channels )\n",
    "        self.fc = nn.Linear( hidden_channels, dataset.num_classes )\n",
    "        \n",
    "    def forward( self, x, edge_index, batch ):\n",
    "        x = self.conv1( x, edge_index )\n",
    "        x = x.relu()\n",
    "        x = self.conv2( x, edge_index )\n",
    "        x = x.relu()\n",
    "        x = self.conv3( x, edge_index )\n",
    "        x = global_mean_pool( x, batch )                        # 全局平均池化 -> 需要传入batch!!\n",
    "        x = F.dropout( x, p = 0.5, training = self.training )\n",
    "        x = self.fc( x ) \n",
    "        return x"
   ],
   "metadata": {
    "collapsed": false
   },
   "id": "cd1eac2ba490d5ff",
   "execution_count": null
  },
  {
   "cell_type": "code",
   "outputs": [],
   "source": [
    "model = GCN( hidden_channels = 64 )\n",
    "loss_f = nn.CrossEntropyLoss()\n",
    "optimizer = torch.optim.Adam( model.parameters(), lr = 0.01 )"
   ],
   "metadata": {
    "collapsed": false
   },
   "id": "c2d09d5097261578",
   "execution_count": null
  },
  {
   "cell_type": "code",
   "outputs": [],
   "source": [
    "for data in train_dataloader:\n",
    "    print( data.batch.size() )"
   ],
   "metadata": {
    "collapsed": false
   },
   "id": "a9dfed3cc2016021",
   "execution_count": null
  },
  {
   "cell_type": "code",
   "outputs": [],
   "source": [
    "def train():\n",
    "    model.train()\n",
    "    for data in train_dataloader:\n",
    "        optimizer.zero_grad()\n",
    "        out = model( data.x, data.edge_index, data.batch )\n",
    "        loss = loss_f( out, data.y )\n",
    "        loss.backward()\n",
    "        optimizer.step()\n",
    "\n",
    "   \n",
    "def test( loader ): \n",
    "    model.eval()\n",
    "    r = 0\n",
    "    for data in loader:\n",
    "        out = model( data.x, data.edge_index, data.batch )\n",
    "        pred = out.argmax( dim = 1 )\n",
    "        r += int( ( pred == data.y ).sum() )\n",
    "        print( r )\n",
    "    return r / len( loader.dataset )\n",
    "        \n",
    "\n",
    "for epoch in range( 500 ):\n",
    "    train()\n",
    "    acc = test( test_dataloader ) * 100\n",
    "    print( str(acc) + '%' )"
   ],
   "metadata": {
    "collapsed": false
   },
   "id": "d5ef8fcd0837bf92",
   "execution_count": null
  },
  {
   "cell_type": "code",
   "outputs": [],
   "source": [],
   "metadata": {
    "collapsed": false
   },
   "id": "9e7c4d91bafb9baf",
   "execution_count": null
  }
 ],
 "metadata": {
  "kernelspec": {
   "display_name": "Python 3",
   "language": "python",
   "name": "python3"
  },
  "language_info": {
   "codemirror_mode": {
    "name": "ipython",
    "version": 2
   },
   "file_extension": ".py",
   "mimetype": "text/x-python",
   "name": "python",
   "nbconvert_exporter": "python",
   "pygments_lexer": "ipython2",
   "version": "2.7.6"
  }
 },
 "nbformat": 4,
 "nbformat_minor": 5
}
