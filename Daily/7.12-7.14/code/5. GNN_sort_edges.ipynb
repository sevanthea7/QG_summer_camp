{
 "cells": [
  {
   "cell_type": "code",
   "execution_count": null,
   "id": "initial_id",
   "metadata": {
    "collapsed": true
   },
   "outputs": [],
   "source": [
    "import torch\n",
    "import torch.nn as nn\n",
    "import torch.nn.functional as F\n",
    "import numpy as np\n",
    "from torch_geometric import edge_index\n",
    "from torch_geometric.datasets import Planetoid\n",
    "from torch_geometric.nn import GCNConv\n",
    "from torch_geometric.utils import negative_sampling"
   ]
  },
  {
   "cell_type": "code",
   "outputs": [],
   "source": [
    "dataset = Planetoid( root = '~/tmp/Cora', name = 'Cora' )\n",
    "data = dataset[0]"
   ],
   "metadata": {
    "collapsed": false
   },
   "id": "5ed8f610562ee59a",
   "execution_count": null
  },
  {
   "cell_type": "markdown",
   "source": [
    "negative_sampling -> 随机生成不在图的真实边中的负样本，学习不存在的边提高模型的区分能力\n",
    "\n",
    "total_edge_index[0] 和 total_edge_index[1] 分别是每条边的两个端点\n",
    "x[total_edge_index[0]] 和 x[total_edge_index[1]] 分别是边两端点的特征\n",
    "torch.cat([...], dim=1): 将每条边的两端点特征拼接，得到边特征"
   ],
   "metadata": {
    "collapsed": false
   },
   "id": "caade99e435ce418"
  },
  {
   "cell_type": "code",
   "outputs": [],
   "source": [
    "class GNN( nn.Module ):\n",
    "    def __init__( self, in_channels, out_channels ):\n",
    "        super( GNN, self ).__init__()\n",
    "        self.conv = GCNConv( in_channels, out_channels )\n",
    "        self.fc = nn.Linear( 2 * out_channels, 2 )              # 边的特征值 -> *2\n",
    "        \n",
    "    def forward( self, x, edge_index ):\n",
    "        x = self.conv( x, edge_index )\n",
    "        x = F.relu( x )\n",
    "        pos_edge_index = edge_index                             # 正样本边索引 -> 真实边\n",
    "        total_edge_index = torch.cat( [ pos_edge_index, \n",
    "                                        negative_sampling( edge_index, num_neg_samples = pos_edge_index.size(1) ) ],\n",
    "                                        dim = 1 )\n",
    "        edge_features = torch.cat( [x[ total_edge_index[0] ], x[ total_edge_index[1] ]], dim = 1 )\n",
    "        print( total_edge_index.size() )\n",
    "        return self.fc( edge_features )\n",
    "    "
   ],
   "metadata": {
    "collapsed": false
   },
   "id": "85ebc1864775f3eb",
   "execution_count": null
  },
  {
   "cell_type": "code",
   "outputs": [],
   "source": [
    "net = GNN( dataset.num_features, 64 )\n",
    "optimizer = torch.optim.Adam( net.parameters(), lr = 0.01, weight_decay = 5e-4 )"
   ],
   "metadata": {
    "collapsed": false
   },
   "id": "b64b7e22de54efa6",
   "execution_count": null
  },
  {
   "cell_type": "code",
   "outputs": [],
   "source": [
    "data.edge_index.size(1)"
   ],
   "metadata": {
    "collapsed": false
   },
   "id": "e8b68d793f8ab2c4",
   "execution_count": null
  },
  {
   "cell_type": "code",
   "outputs": [],
   "source": [
    "for epoch in range( 1000 ):\n",
    "    net.train()\n",
    "    optimizer.zero_grad()\n",
    "    logits = net( data.x, data.edge_index )\n",
    "    pos_edge_index = data.edge_index\n",
    "    pos_labels = torch.ones( pos_edge_index.size(1), dtype=torch.long )\n",
    "    neg_labels = torch.zeros( pos_edge_index.size(1), dtype=torch.long )\n",
    "    labels = torch.cat( [pos_labels, neg_labels], dim = 0 )\n",
    "    new_train_mask = torch.cat( [data.train_mask, data.train_mask], dim = 0 )\n",
    "    loss = F.cross_entropy( logits[ new_train_mask ], labels[ new_train_mask ] )\n",
    "    loss.backward()\n",
    "    optimizer.step()\n",
    "    print( loss.item() )\n",
    "    \n",
    "    with torch.no_grad():\n",
    "        net.eval()\n",
    "        logits = net( data.x, data.edge_index )\n",
    "        pos_edge_index = data.edge_index\n",
    "        pos_labels = torch.ones( pos_edge_index.size(1), dtype = torch.long )\n",
    "        neg_labels = torch.zeros( pos_edge_index.size(1), dtype = torch.long )\n",
    "        labels = torch.cat( [pos_labels, neg_labels], dim = 0 )\n",
    "        new_test_mask = torch.cat( [ data.test_mask, data.test_mask ], dim = 0 )\n",
    "        "
   ],
   "metadata": {
    "collapsed": false
   },
   "id": "d8bd4c407562aca",
   "execution_count": null
  },
  {
   "cell_type": "code",
   "outputs": [],
   "source": [
    "'''\n",
    "pos_edge_index = data.edge_index\n",
    "pos_labels = torch.ones(pos_edge_index.size(1), dtype=torch.long)\n",
    "neg_labels = torch.zeros(pos_edge_index.size(1), dtype=torch.long)\n",
    "labels = torch.cat([pos_labels, neg_labels], dim=0)\n",
    "labels\n",
    "'''"
   ],
   "metadata": {
    "collapsed": false
   },
   "id": "df7d715e8f897093",
   "execution_count": null
  },
  {
   "cell_type": "code",
   "outputs": [],
   "source": [],
   "metadata": {
    "collapsed": false
   },
   "id": "f63cadc771ad0b78"
  }
 ],
 "metadata": {
  "kernelspec": {
   "display_name": "Python 3",
   "language": "python",
   "name": "python3"
  },
  "language_info": {
   "codemirror_mode": {
    "name": "ipython",
    "version": 2
   },
   "file_extension": ".py",
   "mimetype": "text/x-python",
   "name": "python",
   "nbconvert_exporter": "python",
   "pygments_lexer": "ipython2",
   "version": "2.7.6"
  }
 },
 "nbformat": 4,
 "nbformat_minor": 5
}
