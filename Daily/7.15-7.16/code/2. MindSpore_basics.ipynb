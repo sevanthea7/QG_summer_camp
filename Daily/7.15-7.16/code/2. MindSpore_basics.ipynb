{
 "cells": [
  {
   "cell_type": "code",
   "execution_count": 67,
   "id": "initial_id",
   "metadata": {
    "collapsed": true,
    "ExecuteTime": {
     "end_time": "2024-07-17T02:30:22.827042300Z",
     "start_time": "2024-07-17T02:30:22.789487100Z"
    }
   },
   "outputs": [],
   "source": [
    "import mindspore\n",
    "import numpy as np\n",
    "from mindspore import ops\n",
    "from mindspore import Tensor, CSRTensor, COOTensor"
   ]
  },
  {
   "cell_type": "code",
   "outputs": [
    {
     "data": {
      "text/plain": "(Tensor(shape=[2, 4], dtype=Int64, value=\n [[1, 0, 1, 0],\n  [0, 1, 0, 1]]),\n (2, 4),\n mindspore.int64)"
     },
     "execution_count": 68,
     "metadata": {},
     "output_type": "execute_result"
    }
   ],
   "source": [
    "data = [[ 1, 0, 1, 0 ],\n",
    "        [0, 1, 0, 1 ]]\n",
    "t_data = Tensor( data )\n",
    "\n",
    "t_data, t_data.shape, t_data.dtype"
   ],
   "metadata": {
    "collapsed": false,
    "ExecuteTime": {
     "end_time": "2024-07-17T02:30:22.847075600Z",
     "start_time": "2024-07-17T02:30:22.832045100Z"
    }
   },
   "id": "60f038ca55d9342c",
   "execution_count": 68
  },
  {
   "cell_type": "code",
   "outputs": [
    {
     "data": {
      "text/plain": "(Tensor(shape=[2, 4], dtype=Int64, value=\n [[1, 0, 1, 0],\n  [0, 1, 0, 1]]),\n (2, 4),\n mindspore.int64)"
     },
     "execution_count": 69,
     "metadata": {},
     "output_type": "execute_result"
    }
   ],
   "source": [
    "np_data = np.array( data )\n",
    "t_np_data = Tensor( np_data )\n",
    "\n",
    "t_np_data, t_np_data.shape, t_np_data.dtype"
   ],
   "metadata": {
    "collapsed": false,
    "ExecuteTime": {
     "end_time": "2024-07-17T02:30:22.905044200Z",
     "start_time": "2024-07-17T02:30:22.851060100Z"
    }
   },
   "id": "ba7096f3942843c4",
   "execution_count": 69
  },
  {
   "cell_type": "code",
   "outputs": [
    {
     "data": {
      "text/plain": "Tensor(shape=[2, 2], dtype=Float32, value=\n<uninitialized>)"
     },
     "execution_count": 70,
     "metadata": {},
     "output_type": "execute_result"
    }
   ],
   "source": [
    "from mindspore.common.initializer import One, Normal\n",
    "tensor1 = mindspore.Tensor( shape = ( 2, 2 ), dtype = mindspore.float32, init = One() )\n",
    "tensor1"
   ],
   "metadata": {
    "collapsed": false,
    "ExecuteTime": {
     "end_time": "2024-07-17T02:30:22.909045200Z",
     "start_time": "2024-07-17T02:30:22.861549200Z"
    }
   },
   "id": "1bc6a91891eb4c06",
   "execution_count": 70
  },
  {
   "cell_type": "code",
   "outputs": [
    {
     "data": {
      "text/plain": "(Tensor(shape=[2, 2], dtype=Float32, value=\n [[-0.00689525,  0.02008991],\n  [-0.01765644, -0.00119581]]),\n Tensor(shape=[2, 2], dtype=Float32, value=\n [[-0.00689525,  0.02008991],\n  [-0.01765644, -0.00119581]]))"
     },
     "execution_count": 71,
     "metadata": {},
     "output_type": "execute_result"
    }
   ],
   "source": [
    "tensor2 = mindspore.Tensor( shape = ( 2, 2 ), dtype = mindspore.float32, init = Normal() )\n",
    "tensor2, tensor2.init_data()"
   ],
   "metadata": {
    "collapsed": false,
    "ExecuteTime": {
     "end_time": "2024-07-17T02:30:22.910044200Z",
     "start_time": "2024-07-17T02:30:22.876528500Z"
    }
   },
   "id": "b52181e904f0425a",
   "execution_count": 71
  },
  {
   "cell_type": "code",
   "outputs": [
    {
     "data": {
      "text/plain": "(Tensor(shape=[4], dtype=Int64, value= [1, 1, 1, 1]),\n Tensor(shape=[4], dtype=Int64, value= [0, 0, 0, 0]))"
     },
     "execution_count": 72,
     "metadata": {},
     "output_type": "execute_result"
    }
   ],
   "source": [
    "x_data = Tensor( [ 1, 2, 3, 4 ] )\n",
    "x_ones = ops.ones_like( x_data )\n",
    "x_zeros = ops.zeros_like( x_data )\n",
    "\n",
    "x_ones, x_zeros"
   ],
   "metadata": {
    "collapsed": false,
    "ExecuteTime": {
     "end_time": "2024-07-17T02:30:22.981797900Z",
     "start_time": "2024-07-17T02:30:22.913292200Z"
    }
   },
   "id": "9ffd4fe4642d8e26",
   "execution_count": 72
  },
  {
   "cell_type": "code",
   "outputs": [
    {
     "data": {
      "text/plain": "Tensor(shape=[3, 3], dtype=Int64, value=\n[[0, 1, 2],\n [3, 4, 5],\n [6, 7, 8]])"
     },
     "execution_count": 73,
     "metadata": {},
     "output_type": "execute_result"
    }
   ],
   "source": [
    "t = Tensor( np.array( [ i for i in range( 9 ) ] ).reshape( 3, 3 ) )\n",
    "t"
   ],
   "metadata": {
    "collapsed": false,
    "ExecuteTime": {
     "end_time": "2024-07-17T02:30:23.018750600Z",
     "start_time": "2024-07-17T02:30:22.962800600Z"
    }
   },
   "id": "e2cd6759fccfb0ca",
   "execution_count": 73
  },
  {
   "cell_type": "code",
   "outputs": [
    {
     "data": {
      "text/plain": "Tensor(shape=[3], dtype=Int64, value= [0, 1, 2])"
     },
     "execution_count": 74,
     "metadata": {},
     "output_type": "execute_result"
    }
   ],
   "source": [
    "t[0]"
   ],
   "metadata": {
    "collapsed": false,
    "ExecuteTime": {
     "end_time": "2024-07-17T02:30:23.041726100Z",
     "start_time": "2024-07-17T02:30:23.023657700Z"
    }
   },
   "id": "97752dfd45d1527c",
   "execution_count": 74
  },
  {
   "cell_type": "code",
   "outputs": [
    {
     "data": {
      "text/plain": "Tensor(shape=[], dtype=Int64, value= 4)"
     },
     "execution_count": 75,
     "metadata": {},
     "output_type": "execute_result"
    }
   ],
   "source": [
    "t[ 1, 1 ]"
   ],
   "metadata": {
    "collapsed": false,
    "ExecuteTime": {
     "end_time": "2024-07-17T02:30:23.083965600Z",
     "start_time": "2024-07-17T02:30:23.044133900Z"
    }
   },
   "id": "472b7322f4204c50",
   "execution_count": 75
  },
  {
   "cell_type": "code",
   "outputs": [
    {
     "data": {
      "text/plain": "Tensor(shape=[3], dtype=Int64, value= [0, 3, 6])"
     },
     "execution_count": 76,
     "metadata": {},
     "output_type": "execute_result"
    }
   ],
   "source": [
    "t[ :, 0 ]"
   ],
   "metadata": {
    "collapsed": false,
    "ExecuteTime": {
     "end_time": "2024-07-17T02:30:23.126160800Z",
     "start_time": "2024-07-17T02:30:23.086966Z"
    }
   },
   "id": "173084dd893587f6",
   "execution_count": 76
  },
  {
   "cell_type": "code",
   "outputs": [
    {
     "data": {
      "text/plain": "Tensor(shape=[3], dtype=Int64, value= [0, 3, 6])"
     },
     "execution_count": 77,
     "metadata": {},
     "output_type": "execute_result"
    }
   ],
   "source": [
    "t[ ..., 0 ]"
   ],
   "metadata": {
    "collapsed": false,
    "ExecuteTime": {
     "end_time": "2024-07-17T02:30:23.163910700Z",
     "start_time": "2024-07-17T02:30:23.128724200Z"
    }
   },
   "id": "afe4bd97643b6ba8",
   "execution_count": 77
  },
  {
   "cell_type": "code",
   "outputs": [
    {
     "data": {
      "text/plain": "Tensor(shape=[3], dtype=Float32, value= [ 5.00000000e+00,  7.00000000e+00,  9.00000000e+00])"
     },
     "execution_count": 78,
     "metadata": {},
     "output_type": "execute_result"
    }
   ],
   "source": [
    "x = Tensor( np.array( [ 1, 2, 3 ] ), mindspore.float32 )\n",
    "y = Tensor( np.array( [ 4, 5, 6 ] ), mindspore.float32 )\n",
    "\n",
    "add = x + y\n",
    "add"
   ],
   "metadata": {
    "collapsed": false,
    "ExecuteTime": {
     "end_time": "2024-07-17T02:30:23.220676700Z",
     "start_time": "2024-07-17T02:30:23.167776600Z"
    }
   },
   "id": "65d0c26a69ef9f15",
   "execution_count": 78
  },
  {
   "cell_type": "code",
   "outputs": [
    {
     "data": {
      "text/plain": "Tensor(shape=[3], dtype=Float32, value= [-3.00000000e+00, -3.00000000e+00, -3.00000000e+00])"
     },
     "execution_count": 79,
     "metadata": {},
     "output_type": "execute_result"
    }
   ],
   "source": [
    "sub = x - y\n",
    "sub"
   ],
   "metadata": {
    "collapsed": false,
    "ExecuteTime": {
     "end_time": "2024-07-17T02:30:23.246027500Z",
     "start_time": "2024-07-17T02:30:23.222977500Z"
    }
   },
   "id": "f33818a235c7ee8",
   "execution_count": 79
  },
  {
   "cell_type": "code",
   "outputs": [
    {
     "data": {
      "text/plain": "Tensor(shape=[3], dtype=Float32, value= [ 4.00000000e+00,  1.00000000e+01,  1.80000000e+01])"
     },
     "execution_count": 80,
     "metadata": {},
     "output_type": "execute_result"
    }
   ],
   "source": [
    "mul = x * y\n",
    "mul"
   ],
   "metadata": {
    "collapsed": false,
    "ExecuteTime": {
     "end_time": "2024-07-17T02:30:23.319594400Z",
     "start_time": "2024-07-17T02:30:23.248451700Z"
    }
   },
   "id": "230d167d36889238",
   "execution_count": 80
  },
  {
   "cell_type": "code",
   "outputs": [
    {
     "data": {
      "text/plain": "Tensor(shape=[3], dtype=Float32, value= [ 4.00000000e+00,  2.50000000e+00,  2.00000000e+00])"
     },
     "execution_count": 81,
     "metadata": {},
     "output_type": "execute_result"
    }
   ],
   "source": [
    "div = y / x\n",
    "div"
   ],
   "metadata": {
    "collapsed": false,
    "ExecuteTime": {
     "end_time": "2024-07-17T02:30:23.322596500Z",
     "start_time": "2024-07-17T02:30:23.275098800Z"
    }
   },
   "id": "f6f61a9ad239e560",
   "execution_count": 81
  },
  {
   "cell_type": "code",
   "outputs": [
    {
     "data": {
      "text/plain": "Tensor(shape=[3], dtype=Float32, value= [ 4.00000000e+00,  2.00000000e+00,  2.00000000e+00])"
     },
     "execution_count": 82,
     "metadata": {},
     "output_type": "execute_result"
    }
   ],
   "source": [
    "fdiv = y // x\n",
    "fdiv"
   ],
   "metadata": {
    "collapsed": false,
    "ExecuteTime": {
     "end_time": "2024-07-17T02:30:23.397976800Z",
     "start_time": "2024-07-17T02:30:23.331917700Z"
    }
   },
   "id": "a2bfd047d47315eb",
   "execution_count": 82
  },
  {
   "cell_type": "code",
   "outputs": [
    {
     "data": {
      "text/plain": "(Tensor(shape=[4, 2], dtype=Int64, value=\n [[1, 2],\n  [3, 4],\n  [5, 6],\n  [7, 8]]),\n Tensor(shape=[2, 4], dtype=Int64, value=\n [[1, 2, 5, 6],\n  [3, 4, 7, 8]]))"
     },
     "execution_count": 83,
     "metadata": {},
     "output_type": "execute_result"
    }
   ],
   "source": [
    "data1 = Tensor( np.array( [ i for i in range( 1, 5 ) ] ).reshape( 2, 2 ) )\n",
    "data2 = Tensor( np.array( [ i for i in range( 5, 9 ) ] ).reshape( 2, 2 ) )\n",
    "\n",
    "cc1 = ops.concat( ( data1, data2 ), axis = 0 )\n",
    "cc2 = ops.concat( ( data1, data2 ), axis = 1 )\n",
    "cc1, cc2"
   ],
   "metadata": {
    "collapsed": false,
    "ExecuteTime": {
     "end_time": "2024-07-17T02:30:23.428987100Z",
     "start_time": "2024-07-17T02:30:23.384753500Z"
    }
   },
   "id": "d1559f75efb2fff9",
   "execution_count": 83
  },
  {
   "cell_type": "code",
   "outputs": [
    {
     "data": {
      "text/plain": "Tensor(shape=[2, 2, 2], dtype=Int64, value=\n[[[1, 2],\n  [3, 4]],\n [[5, 6],\n  [7, 8]]])"
     },
     "execution_count": 84,
     "metadata": {},
     "output_type": "execute_result"
    }
   ],
   "source": [
    "cc3 = ops.stack( [ data1, data2 ] )\n",
    "cc3"
   ],
   "metadata": {
    "collapsed": false,
    "ExecuteTime": {
     "end_time": "2024-07-17T02:30:23.490922800Z",
     "start_time": "2024-07-17T02:30:23.434190200Z"
    }
   },
   "id": "3b36447366140f06",
   "execution_count": 84
  },
  {
   "cell_type": "code",
   "outputs": [
    {
     "data": {
      "text/plain": "numpy.ndarray"
     },
     "execution_count": 85,
     "metadata": {},
     "output_type": "execute_result"
    }
   ],
   "source": [
    "t = Tensor( [ 1, 2, 3, 4, 5 ] )\n",
    "n = t.asnumpy()\n",
    "type( n )"
   ],
   "metadata": {
    "collapsed": false,
    "ExecuteTime": {
     "end_time": "2024-07-17T02:30:23.491924800Z",
     "start_time": "2024-07-17T02:30:23.455195700Z"
    }
   },
   "id": "e956d50e9a5aa41d",
   "execution_count": 85
  },
  {
   "cell_type": "code",
   "outputs": [
    {
     "data": {
      "text/plain": "mindspore.common.tensor.Tensor"
     },
     "execution_count": 86,
     "metadata": {},
     "output_type": "execute_result"
    }
   ],
   "source": [
    "t = Tensor.from_numpy( n )\n",
    "type( t )"
   ],
   "metadata": {
    "collapsed": false,
    "ExecuteTime": {
     "end_time": "2024-07-17T02:30:23.586919900Z",
     "start_time": "2024-07-17T02:30:23.499927100Z"
    }
   },
   "id": "a3645b340465e149",
   "execution_count": 86
  },
  {
   "cell_type": "code",
   "outputs": [],
   "source": [
    "from mindspore.dataset import vision\n",
    "from mindspore.dataset import MnistDataset, GeneratorDataset\n",
    "import matplotlib.pyplot as plt\n",
    "from download import download"
   ],
   "metadata": {
    "collapsed": false,
    "ExecuteTime": {
     "end_time": "2024-07-17T02:30:23.616628400Z",
     "start_time": "2024-07-17T02:30:23.548189500Z"
    }
   },
   "id": "aa8c402867f64c1d",
   "execution_count": 87
  },
  {
   "cell_type": "code",
   "outputs": [
    {
     "name": "stdout",
     "output_type": "stream",
     "text": [
      "Downloading data from https://mindspore-website.obs.cn-north-4.myhuaweicloud.com/notebook/datasets/MNIST_Data.zip (10.3 MB)\n",
      "\n",
      "file_sizes: 100%|██████████████████████████| 10.8M/10.8M [00:01<00:00, 6.00MB/s]\n",
      "Extracting zip file...\n",
      "Successfully downloaded / unzipped to ../data\n"
     ]
    }
   ],
   "source": [
    "url = \"https://mindspore-website.obs.cn-north-4.myhuaweicloud.com/\" \\\n",
    "      \"notebook/datasets/MNIST_Data.zip\"\n",
    "path = download( url, \"../data\", kind=\"zip\", replace=True )"
   ],
   "metadata": {
    "collapsed": false,
    "ExecuteTime": {
     "end_time": "2024-07-17T02:30:26.739517200Z",
     "start_time": "2024-07-17T02:30:23.621459900Z"
    }
   },
   "id": "94f242cb8e2515ed",
   "execution_count": 88
  },
  {
   "cell_type": "code",
   "outputs": [
    {
     "data": {
      "text/plain": "mindspore.dataset.engine.datasets_vision.MnistDataset"
     },
     "execution_count": 89,
     "metadata": {},
     "output_type": "execute_result"
    }
   ],
   "source": [
    "train_dataset = MnistDataset( '../data/MNIST_Data/train', shuffle = False )\n",
    "type( train_dataset )"
   ],
   "metadata": {
    "collapsed": false,
    "ExecuteTime": {
     "end_time": "2024-07-17T02:30:26.762233500Z",
     "start_time": "2024-07-17T02:30:26.742520300Z"
    }
   },
   "id": "676b59b8d7cd401d",
   "execution_count": 89
  },
  {
   "cell_type": "code",
   "outputs": [],
   "source": [
    "def visualize( dataset ):\n",
    "        figure = plt.figure( figsize = ( 4, 4 ) )\n",
    "        cols, rows = 3, 3\n",
    "    \n",
    "        plt.subplots_adjust( wspace = 0.5, hspace = 0.5 )\n",
    "    \n",
    "        for i, ( img, label ) in enumerate( dataset.create_tuple_iterator() ):\n",
    "                figure.add_subplot( rows, cols, i + 1 )\n",
    "                plt.title( int( label ) )\n",
    "                plt.imshow( img.asnumpy().squeeze(), cmap = 'gray' )\n",
    "                if i == cols * rows - 1:\n",
    "                        break\n",
    "        plt.show()"
   ],
   "metadata": {
    "collapsed": false,
    "ExecuteTime": {
     "end_time": "2024-07-17T02:30:26.778122500Z",
     "start_time": "2024-07-17T02:30:26.761219900Z"
    }
   },
   "id": "a81e14b3ea8f6030",
   "execution_count": 90
  },
  {
   "cell_type": "code",
   "outputs": [
    {
     "data": {
      "text/plain": "<Figure size 400x400 with 9 Axes>",
      "image/png": "[encoded data removed]"
     },
     "metadata": {},
     "output_type": "display_data"
    }
   ],
   "source": [
    "visualize( train_dataset )"
   ],
   "metadata": {
    "collapsed": false,
    "ExecuteTime": {
     "end_time": "2024-07-17T02:30:27.380176800Z",
     "start_time": "2024-07-17T02:30:26.772218300Z"
    }
   },
   "id": "1e4123395f4d6d9b",
   "execution_count": 91
  },
  {
   "cell_type": "code",
   "outputs": [
    {
     "data": {
      "text/plain": "<Figure size 400x400 with 9 Axes>",
      "image/png": "[encoded data removed]"
     },
     "metadata": {},
     "output_type": "display_data"
    }
   ],
   "source": [
    "train_dataset = train_dataset.shuffle( buffer_size = 64 )\n",
    "visualize( train_dataset )"
   ],
   "metadata": {
    "collapsed": false,
    "ExecuteTime": {
     "end_time": "2024-07-17T02:30:27.932899400Z",
     "start_time": "2024-07-17T02:30:27.384173600Z"
    }
   },
   "id": "13e02ce2e7fe7fce",
   "execution_count": 92
  },
  {
   "cell_type": "code",
   "outputs": [
    {
     "data": {
      "text/plain": "((28, 28, 1), mindspore.uint8)"
     },
     "execution_count": 93,
     "metadata": {},
     "output_type": "execute_result"
    }
   ],
   "source": [
    "image, label = next( train_dataset.create_tuple_iterator() )\n",
    "image.shape, image.dtype"
   ],
   "metadata": {
    "collapsed": false,
    "ExecuteTime": {
     "end_time": "2024-07-17T02:30:28.113356400Z",
     "start_time": "2024-07-17T02:30:27.925908400Z"
    }
   },
   "id": "486c0d5e8901165e",
   "execution_count": 93
  },
  {
   "cell_type": "code",
   "outputs": [
    {
     "data": {
      "text/plain": "((28, 28, 1), mindspore.uint8)"
     },
     "execution_count": 94,
     "metadata": {},
     "output_type": "execute_result"
    }
   ],
   "source": [
    "train_dataset = train_dataset.map( vision.Rescale( 1.0 / 255.0, 0  ), input_columns = 'image' )\n",
    "image.shape, image.dtype"
   ],
   "metadata": {
    "collapsed": false,
    "ExecuteTime": {
     "end_time": "2024-07-17T02:30:28.131378600Z",
     "start_time": "2024-07-17T02:30:28.111354200Z"
    }
   },
   "id": "7dbad89f6867e329",
   "execution_count": 94
  },
  {
   "cell_type": "code",
   "outputs": [
    {
     "data": {
      "text/plain": "((32, 28, 28, 1), mindspore.float32)"
     },
     "execution_count": 95,
     "metadata": {},
     "output_type": "execute_result"
    }
   ],
   "source": [
    "train_dataset = train_dataset.batch( batch_size = 32 )\n",
    "image, label = next(train_dataset.create_tuple_iterator())\n",
    "image.shape, image.dtype"
   ],
   "metadata": {
    "collapsed": false,
    "ExecuteTime": {
     "end_time": "2024-07-17T02:30:28.307720700Z",
     "start_time": "2024-07-17T02:30:28.126377400Z"
    }
   },
   "id": "9b808d93aef4fa7c",
   "execution_count": 95
  },
  {
   "cell_type": "code",
   "outputs": [],
   "source": [
    "class RandomAccessDataset:\n",
    "        def __init__( self ):\n",
    "                self._data = np.ones( ( 5, 2 ) )\n",
    "                self._label = np.ones( ( 5, 1 ) )\n",
    "                # print( self._data, self._label )\n",
    "                \n",
    "        def __getitem__( self, idx ):\n",
    "                return self._data[idx], self._label[idx]\n",
    "        \n",
    "        def __len__( self ):\n",
    "                return len( self._data )"
   ],
   "metadata": {
    "collapsed": false,
    "ExecuteTime": {
     "end_time": "2024-07-17T02:30:28.309733300Z",
     "start_time": "2024-07-17T02:30:28.294334800Z"
    }
   },
   "id": "bea140a76de1cbaa",
   "execution_count": 96
  },
  {
   "cell_type": "code",
   "outputs": [
    {
     "name": "stdout",
     "output_type": "stream",
     "text": [
      "[Tensor(shape=[2], dtype=Float64, value= [ 1.00000000e+00,  1.00000000e+00]), Tensor(shape=[1], dtype=Float64, value= [ 1.00000000e+00])]\n",
      "[Tensor(shape=[2], dtype=Float64, value= [ 1.00000000e+00,  1.00000000e+00]), Tensor(shape=[1], dtype=Float64, value= [ 1.00000000e+00])]\n",
      "[Tensor(shape=[2], dtype=Float64, value= [ 1.00000000e+00,  1.00000000e+00]), Tensor(shape=[1], dtype=Float64, value= [ 1.00000000e+00])]\n",
      "[Tensor(shape=[2], dtype=Float64, value= [ 1.00000000e+00,  1.00000000e+00]), Tensor(shape=[1], dtype=Float64, value= [ 1.00000000e+00])]\n",
      "[Tensor(shape=[2], dtype=Float64, value= [ 1.00000000e+00,  1.00000000e+00]), Tensor(shape=[1], dtype=Float64, value= [ 1.00000000e+00])]\n"
     ]
    }
   ],
   "source": [
    "loader = RandomAccessDataset()\n",
    "dataset = GeneratorDataset( source = loader, column_names = [ 'data', 'label' ] )\n",
    "\n",
    "for data in dataset:\n",
    "        print( data )"
   ],
   "metadata": {
    "collapsed": false,
    "ExecuteTime": {
     "end_time": "2024-07-17T02:30:28.340603800Z",
     "start_time": "2024-07-17T02:30:28.310729100Z"
    }
   },
   "id": "6732adf7febc60aa",
   "execution_count": 97
  },
  {
   "cell_type": "code",
   "outputs": [
    {
     "data": {
      "text/plain": "[array(0), array(1), array(2)]"
     },
     "execution_count": 98,
     "metadata": {},
     "output_type": "execute_result"
    }
   ],
   "source": [
    "loader2 = [ np.array( 0 ), np.array( 1 ), np.array( 2 ) ]\n",
    "loader2"
   ],
   "metadata": {
    "collapsed": false,
    "ExecuteTime": {
     "end_time": "2024-07-17T02:30:28.342603Z",
     "start_time": "2024-07-17T02:30:28.326242Z"
    }
   },
   "id": "948882656300425a",
   "execution_count": 98
  },
  {
   "cell_type": "code",
   "outputs": [
    {
     "name": "stdout",
     "output_type": "stream",
     "text": [
      "[Tensor(shape=[], dtype=Int64, value= 1)]\n",
      "[Tensor(shape=[], dtype=Int64, value= 0)]\n",
      "[Tensor(shape=[], dtype=Int64, value= 2)]\n"
     ]
    }
   ],
   "source": [
    "dataset2 = GeneratorDataset( source = loader2, column_names = [ 'data' ] )\n",
    "\n",
    "for data in dataset2:\n",
    "        print( data )"
   ],
   "metadata": {
    "collapsed": false,
    "ExecuteTime": {
     "end_time": "2024-07-17T02:30:28.410298400Z",
     "start_time": "2024-07-17T02:30:28.342603Z"
    }
   },
   "id": "d79bee50c4bfc94f",
   "execution_count": 99
  },
  {
   "cell_type": "code",
   "outputs": [],
   "source": [
    "class IterableDataset():\n",
    "        def __init__( self, start, end ):\n",
    "                self.start = start\n",
    "                self.end = end\n",
    "        \n",
    "        def __iter__( self ):\n",
    "                self.data = iter( range( self.start, self.end ) )\n",
    "                return self\n",
    "        \n",
    "        \n",
    "        def __next__( self ):\n",
    "                return next( self.data )"
   ],
   "metadata": {
    "collapsed": false,
    "ExecuteTime": {
     "end_time": "2024-07-17T02:40:45.067527800Z",
     "start_time": "2024-07-17T02:40:45.043509800Z"
    }
   },
   "id": "61e17246b75e50ce",
   "execution_count": 116
  },
  {
   "cell_type": "code",
   "outputs": [
    {
     "name": "stdout",
     "output_type": "stream",
     "text": [
      "<mindspore.dataset.engine.datasets_user_defined.GeneratorDataset object at 0x000001F9511410D0>\n"
     ]
    },
    {
     "ename": "RuntimeError",
     "evalue": "Exception thrown from user defined Python function in dataset. \n\n------------------------------------------------------------------\n- Python Call Stack: \n------------------------------------------------------------------\nTraceback (most recent call last):\n  File \"C:\\Users\\EC319\\.conda\\envs\\mindspore_py39\\lib\\site-packages\\mindspore\\dataset\\engine\\datasets_user_defined.py\", line 70, in _iter_fn\n    yield _convert_row(val)\n  File \"C:\\Users\\EC319\\.conda\\envs\\mindspore_py39\\lib\\site-packages\\mindspore\\dataset\\engine\\datasets_user_defined.py\", line 158, in _convert_row\n    item = np.array(row, copy=False)\nValueError: Unable to avoid copy while creating an array as requested.\nIf using `np.array(obj, copy=False)` replace it with `np.asarray(obj)` to allow a copy when needed (no behavior change in NumPy 1.x).\nFor more details, see https://numpy.org/devdocs/numpy_2_0_migration_guide.html#adapting-to-changes-in-the-copy-keyword.\n\n------------------------------------------------------------------\n- Dataset Pipeline Error Message: \n------------------------------------------------------------------\n[ERROR] Execute user Python code failed, check 'Python Call Stack' above.\n\n------------------------------------------------------------------\n- C++ Call Stack: (For framework developers) \n------------------------------------------------------------------\nmindspore\\ccsrc\\minddata\\dataset\\engine\\datasetops\\source\\generator_op.cc(259).\n\n\n",
     "output_type": "error",
     "traceback": [
      "\u001B[1;31m---------------------------------------------------------------------------\u001B[0m",
      "\u001B[1;31mRuntimeError\u001B[0m                              Traceback (most recent call last)",
      "Cell \u001B[1;32mIn[124], line 5\u001B[0m\n\u001B[0;32m      2\u001B[0m dataset3 \u001B[38;5;241m=\u001B[39m GeneratorDataset( source \u001B[38;5;241m=\u001B[39m loader3, column_names \u001B[38;5;241m=\u001B[39m [ \u001B[38;5;124m'\u001B[39m\u001B[38;5;124mdata\u001B[39m\u001B[38;5;124m'\u001B[39m ] )\n\u001B[0;32m      4\u001B[0m \u001B[38;5;28mprint\u001B[39m( dataset3 )\n\u001B[1;32m----> 5\u001B[0m \u001B[38;5;28;01mfor\u001B[39;00m data \u001B[38;5;129;01min\u001B[39;00m dataset3:\n\u001B[0;32m      6\u001B[0m         \u001B[38;5;28mprint\u001B[39m( data )\n",
      "File \u001B[1;32m~\\.conda\\envs\\mindspore_py39\\lib\\site-packages\\mindspore\\dataset\\engine\\iterators.py:152\u001B[0m, in \u001B[0;36mIterator.__next__\u001B[1;34m(self)\u001B[0m\n\u001B[0;32m    149\u001B[0m     \u001B[38;5;28;01mraise\u001B[39;00m \u001B[38;5;167;01mRuntimeError\u001B[39;00m(\u001B[38;5;124m\"\u001B[39m\u001B[38;5;124mIterator does not have a running C++ pipeline.\u001B[39m\u001B[38;5;124m\"\u001B[39m)\n\u001B[0;32m    151\u001B[0m \u001B[38;5;66;03m# Note offload is applied inside _get_next() if applicable since get_next converts to output format\u001B[39;00m\n\u001B[1;32m--> 152\u001B[0m data \u001B[38;5;241m=\u001B[39m \u001B[38;5;28;43mself\u001B[39;49m\u001B[38;5;241;43m.\u001B[39;49m\u001B[43m_get_next\u001B[49m\u001B[43m(\u001B[49m\u001B[43m)\u001B[49m\n\u001B[0;32m    153\u001B[0m \u001B[38;5;28;01mif\u001B[39;00m \u001B[38;5;129;01mnot\u001B[39;00m data:\n\u001B[0;32m    154\u001B[0m     \u001B[38;5;28;01mif\u001B[39;00m \u001B[38;5;28mself\u001B[39m\u001B[38;5;241m.\u001B[39m__index \u001B[38;5;241m==\u001B[39m \u001B[38;5;241m0\u001B[39m:\n",
      "File \u001B[1;32m~\\.conda\\envs\\mindspore_py39\\lib\\site-packages\\mindspore\\dataset\\engine\\iterators.py:301\u001B[0m, in \u001B[0;36mTupleIterator._get_next\u001B[1;34m(self)\u001B[0m\n\u001B[0;32m    293\u001B[0m \u001B[38;5;250m\u001B[39m\u001B[38;5;124;03m\"\"\"\u001B[39;00m\n\u001B[0;32m    294\u001B[0m \u001B[38;5;124;03mReturns the next record in the dataset as a list\u001B[39;00m\n\u001B[0;32m    295\u001B[0m \n\u001B[0;32m    296\u001B[0m \u001B[38;5;124;03mReturns:\u001B[39;00m\n\u001B[0;32m    297\u001B[0m \u001B[38;5;124;03m    List, the next record in the dataset.\u001B[39;00m\n\u001B[0;32m    298\u001B[0m \u001B[38;5;124;03m\"\"\"\u001B[39;00m\n\u001B[0;32m    300\u001B[0m \u001B[38;5;28;01mif\u001B[39;00m \u001B[38;5;28mself\u001B[39m\u001B[38;5;241m.\u001B[39moffload_model \u001B[38;5;129;01mis\u001B[39;00m \u001B[38;5;28;01mNone\u001B[39;00m:\n\u001B[1;32m--> 301\u001B[0m     \u001B[38;5;28;01mreturn\u001B[39;00m [\u001B[38;5;28mself\u001B[39m\u001B[38;5;241m.\u001B[39m_transform_md_to_output(t) \u001B[38;5;28;01mfor\u001B[39;00m t \u001B[38;5;129;01min\u001B[39;00m \u001B[38;5;28;43mself\u001B[39;49m\u001B[38;5;241;43m.\u001B[39;49m\u001B[43m_iterator\u001B[49m\u001B[38;5;241;43m.\u001B[39;49m\u001B[43mGetNextAsList\u001B[49m\u001B[43m(\u001B[49m\u001B[43m)\u001B[49m]\n\u001B[0;32m    302\u001B[0m data \u001B[38;5;241m=\u001B[39m [\u001B[38;5;28mself\u001B[39m\u001B[38;5;241m.\u001B[39m_transform_md_to_tensor(t) \u001B[38;5;28;01mfor\u001B[39;00m t \u001B[38;5;129;01min\u001B[39;00m \u001B[38;5;28mself\u001B[39m\u001B[38;5;241m.\u001B[39m_iterator\u001B[38;5;241m.\u001B[39mGetNextAsList()]\n\u001B[0;32m    303\u001B[0m \u001B[38;5;28;01mif\u001B[39;00m data:\n",
      "\u001B[1;31mRuntimeError\u001B[0m: Exception thrown from user defined Python function in dataset. \n\n------------------------------------------------------------------\n- Python Call Stack: \n------------------------------------------------------------------\nTraceback (most recent call last):\n  File \"C:\\Users\\EC319\\.conda\\envs\\mindspore_py39\\lib\\site-packages\\mindspore\\dataset\\engine\\datasets_user_defined.py\", line 70, in _iter_fn\n    yield _convert_row(val)\n  File \"C:\\Users\\EC319\\.conda\\envs\\mindspore_py39\\lib\\site-packages\\mindspore\\dataset\\engine\\datasets_user_defined.py\", line 158, in _convert_row\n    item = np.array(row, copy=False)\nValueError: Unable to avoid copy while creating an array as requested.\nIf using `np.array(obj, copy=False)` replace it with `np.asarray(obj)` to allow a copy when needed (no behavior change in NumPy 1.x).\nFor more details, see https://numpy.org/devdocs/numpy_2_0_migration_guide.html#adapting-to-changes-in-the-copy-keyword.\n\n------------------------------------------------------------------\n- Dataset Pipeline Error Message: \n------------------------------------------------------------------\n[ERROR] Execute user Python code failed, check 'Python Call Stack' above.\n\n------------------------------------------------------------------\n- C++ Call Stack: (For framework developers) \n------------------------------------------------------------------\nmindspore\\ccsrc\\minddata\\dataset\\engine\\datasetops\\source\\generator_op.cc(259).\n\n\n"
     ]
    }
   ],
   "source": [
    "loader3 = IterableDataset( 1, 5 )\n",
    "dataset3 = GeneratorDataset( source = loader3, column_names = [ 'data' ] )\n",
    "\n",
    "print( dataset3 )\n",
    "for data in dataset3:\n",
    "        print( data )"
   ],
   "metadata": {
    "collapsed": false,
    "ExecuteTime": {
     "end_time": "2024-07-17T02:59:25.623211900Z",
     "start_time": "2024-07-17T02:59:25.593661800Z"
    }
   },
   "id": "3db4ac86d0d29c31",
   "execution_count": 124
  },
  {
   "cell_type": "code",
   "outputs": [
    {
     "ename": "RuntimeError",
     "evalue": "Exception thrown from user defined Python function in dataset. \n\n------------------------------------------------------------------\n- Python Call Stack: \n------------------------------------------------------------------\nTraceback (most recent call last):\n  File \"C:\\Users\\EC319\\.conda\\envs\\mindspore_py39\\lib\\site-packages\\mindspore\\dataset\\engine\\datasets_user_defined.py\", line 88, in _generator_fn\n    yield _convert_row(val)\n  File \"C:\\Users\\EC319\\.conda\\envs\\mindspore_py39\\lib\\site-packages\\mindspore\\dataset\\engine\\datasets_user_defined.py\", line 177, in _convert_row\n    item = np.array(x, copy=False)\nValueError: Unable to avoid copy while creating an array as requested.\nIf using `np.array(obj, copy=False)` replace it with `np.asarray(obj)` to allow a copy when needed (no behavior change in NumPy 1.x).\nFor more details, see https://numpy.org/devdocs/numpy_2_0_migration_guide.html#adapting-to-changes-in-the-copy-keyword.\n\n------------------------------------------------------------------\n- Dataset Pipeline Error Message: \n------------------------------------------------------------------\n[ERROR] Execute user Python code failed, check 'Python Call Stack' above.\n\n------------------------------------------------------------------\n- C++ Call Stack: (For framework developers) \n------------------------------------------------------------------\nmindspore\\ccsrc\\minddata\\dataset\\engine\\datasetops\\source\\generator_op.cc(259).\n\n\n",
     "output_type": "error",
     "traceback": [
      "\u001B[1;31m---------------------------------------------------------------------------\u001B[0m",
      "\u001B[1;31mRuntimeError\u001B[0m                              Traceback (most recent call last)",
      "Cell \u001B[1;32mIn[131], line 8\u001B[0m\n\u001B[0;32m      3\u001B[0m                 \u001B[38;5;28;01myield\u001B[39;00m ( i, )\n\u001B[0;32m      6\u001B[0m dataset4 \u001B[38;5;241m=\u001B[39m GeneratorDataset( source \u001B[38;5;241m=\u001B[39m \u001B[38;5;28;01mlambda\u001B[39;00m: my_generator( \u001B[38;5;241m3\u001B[39m, \u001B[38;5;241m6\u001B[39m ), column_names \u001B[38;5;241m=\u001B[39m [ \u001B[38;5;124m'\u001B[39m\u001B[38;5;124mdata\u001B[39m\u001B[38;5;124m'\u001B[39m ] )\n\u001B[1;32m----> 8\u001B[0m \u001B[38;5;28;01mfor\u001B[39;00m data \u001B[38;5;129;01min\u001B[39;00m dataset4\u001B[38;5;241m.\u001B[39mcreate_tuple_iterator():\n\u001B[0;32m      9\u001B[0m         \u001B[38;5;28mprint\u001B[39m( data )\n",
      "File \u001B[1;32m~\\.conda\\envs\\mindspore_py39\\lib\\site-packages\\mindspore\\dataset\\engine\\iterators.py:152\u001B[0m, in \u001B[0;36mIterator.__next__\u001B[1;34m(self)\u001B[0m\n\u001B[0;32m    149\u001B[0m     \u001B[38;5;28;01mraise\u001B[39;00m \u001B[38;5;167;01mRuntimeError\u001B[39;00m(\u001B[38;5;124m\"\u001B[39m\u001B[38;5;124mIterator does not have a running C++ pipeline.\u001B[39m\u001B[38;5;124m\"\u001B[39m)\n\u001B[0;32m    151\u001B[0m \u001B[38;5;66;03m# Note offload is applied inside _get_next() if applicable since get_next converts to output format\u001B[39;00m\n\u001B[1;32m--> 152\u001B[0m data \u001B[38;5;241m=\u001B[39m \u001B[38;5;28;43mself\u001B[39;49m\u001B[38;5;241;43m.\u001B[39;49m\u001B[43m_get_next\u001B[49m\u001B[43m(\u001B[49m\u001B[43m)\u001B[49m\n\u001B[0;32m    153\u001B[0m \u001B[38;5;28;01mif\u001B[39;00m \u001B[38;5;129;01mnot\u001B[39;00m data:\n\u001B[0;32m    154\u001B[0m     \u001B[38;5;28;01mif\u001B[39;00m \u001B[38;5;28mself\u001B[39m\u001B[38;5;241m.\u001B[39m__index \u001B[38;5;241m==\u001B[39m \u001B[38;5;241m0\u001B[39m:\n",
      "File \u001B[1;32m~\\.conda\\envs\\mindspore_py39\\lib\\site-packages\\mindspore\\dataset\\engine\\iterators.py:301\u001B[0m, in \u001B[0;36mTupleIterator._get_next\u001B[1;34m(self)\u001B[0m\n\u001B[0;32m    293\u001B[0m \u001B[38;5;250m\u001B[39m\u001B[38;5;124;03m\"\"\"\u001B[39;00m\n\u001B[0;32m    294\u001B[0m \u001B[38;5;124;03mReturns the next record in the dataset as a list\u001B[39;00m\n\u001B[0;32m    295\u001B[0m \n\u001B[0;32m    296\u001B[0m \u001B[38;5;124;03mReturns:\u001B[39;00m\n\u001B[0;32m    297\u001B[0m \u001B[38;5;124;03m    List, the next record in the dataset.\u001B[39;00m\n\u001B[0;32m    298\u001B[0m \u001B[38;5;124;03m\"\"\"\u001B[39;00m\n\u001B[0;32m    300\u001B[0m \u001B[38;5;28;01mif\u001B[39;00m \u001B[38;5;28mself\u001B[39m\u001B[38;5;241m.\u001B[39moffload_model \u001B[38;5;129;01mis\u001B[39;00m \u001B[38;5;28;01mNone\u001B[39;00m:\n\u001B[1;32m--> 301\u001B[0m     \u001B[38;5;28;01mreturn\u001B[39;00m [\u001B[38;5;28mself\u001B[39m\u001B[38;5;241m.\u001B[39m_transform_md_to_output(t) \u001B[38;5;28;01mfor\u001B[39;00m t \u001B[38;5;129;01min\u001B[39;00m \u001B[38;5;28;43mself\u001B[39;49m\u001B[38;5;241;43m.\u001B[39;49m\u001B[43m_iterator\u001B[49m\u001B[38;5;241;43m.\u001B[39;49m\u001B[43mGetNextAsList\u001B[49m\u001B[43m(\u001B[49m\u001B[43m)\u001B[49m]\n\u001B[0;32m    302\u001B[0m data \u001B[38;5;241m=\u001B[39m [\u001B[38;5;28mself\u001B[39m\u001B[38;5;241m.\u001B[39m_transform_md_to_tensor(t) \u001B[38;5;28;01mfor\u001B[39;00m t \u001B[38;5;129;01min\u001B[39;00m \u001B[38;5;28mself\u001B[39m\u001B[38;5;241m.\u001B[39m_iterator\u001B[38;5;241m.\u001B[39mGetNextAsList()]\n\u001B[0;32m    303\u001B[0m \u001B[38;5;28;01mif\u001B[39;00m data:\n",
      "\u001B[1;31mRuntimeError\u001B[0m: Exception thrown from user defined Python function in dataset. \n\n------------------------------------------------------------------\n- Python Call Stack: \n------------------------------------------------------------------\nTraceback (most recent call last):\n  File \"C:\\Users\\EC319\\.conda\\envs\\mindspore_py39\\lib\\site-packages\\mindspore\\dataset\\engine\\datasets_user_defined.py\", line 88, in _generator_fn\n    yield _convert_row(val)\n  File \"C:\\Users\\EC319\\.conda\\envs\\mindspore_py39\\lib\\site-packages\\mindspore\\dataset\\engine\\datasets_user_defined.py\", line 177, in _convert_row\n    item = np.array(x, copy=False)\nValueError: Unable to avoid copy while creating an array as requested.\nIf using `np.array(obj, copy=False)` replace it with `np.asarray(obj)` to allow a copy when needed (no behavior change in NumPy 1.x).\nFor more details, see https://numpy.org/devdocs/numpy_2_0_migration_guide.html#adapting-to-changes-in-the-copy-keyword.\n\n------------------------------------------------------------------\n- Dataset Pipeline Error Message: \n------------------------------------------------------------------\n[ERROR] Execute user Python code failed, check 'Python Call Stack' above.\n\n------------------------------------------------------------------\n- C++ Call Stack: (For framework developers) \n------------------------------------------------------------------\nmindspore\\ccsrc\\minddata\\dataset\\engine\\datasetops\\source\\generator_op.cc(259).\n\n\n"
     ]
    }
   ],
   "source": [
    "def my_generator( start, end ):\n",
    "        for i in range( start, end ):\n",
    "                yield ( i, )\n",
    "\n",
    "\n",
    "dataset4 = GeneratorDataset( source = lambda: my_generator( 3, 6 ), column_names = [ 'data' ] )\n",
    "\n",
    "for data in dataset4.create_tuple_iterator():\n",
    "        print( data )\n",
    "                "
   ],
   "metadata": {
    "collapsed": false,
    "ExecuteTime": {
     "end_time": "2024-07-17T03:10:20.401209600Z",
     "start_time": "2024-07-17T03:10:20.366092400Z"
    }
   },
   "id": "cd8a80db0fc1b697",
   "execution_count": 131
  },
  {
   "cell_type": "code",
   "outputs": [],
   "source": [
    "from PIL import Image\n",
    "from mindspore.dataset import transforms,vision, text"
   ],
   "metadata": {
    "collapsed": false,
    "ExecuteTime": {
     "end_time": "2024-07-17T03:05:41.997308400Z",
     "start_time": "2024-07-17T03:05:41.976919200Z"
    }
   },
   "id": "404fc6aaa3e04c8",
   "execution_count": 125
  },
  {
   "cell_type": "code",
   "outputs": [
    {
     "data": {
      "text/plain": "(array([[147,  20,  14, ...,  48,  56, 174],\n        [117,  31, 197, ..., 136, 108, 185],\n        [196, 196, 234, ...,  10, 164,  45],\n        ...,\n        [ 39, 151, 105, ...,  12,  74,  95],\n        [249,  10, 184, ..., 250, 238,  24],\n        [201,  62,  21, ..., 248,  79, 176]], dtype=uint8),\n <PIL.Image.Image image mode=L size=48x48>)"
     },
     "execution_count": 128,
     "metadata": {},
     "output_type": "execute_result"
    }
   ],
   "source": [
    "random_np = np.random.randint( 0, 255, ( 48, 48 ), np.uint8 )\n",
    "random_image = Image.fromarray( random_np )\n",
    "\n",
    "random_np, random_image"
   ],
   "metadata": {
    "collapsed": false,
    "ExecuteTime": {
     "end_time": "2024-07-17T03:06:18.600600100Z",
     "start_time": "2024-07-17T03:06:18.571209300Z"
    }
   },
   "id": "7e4fccf3913359ce",
   "execution_count": 128
  },
  {
   "cell_type": "code",
   "outputs": [
    {
     "data": {
      "text/plain": "array([[0.5764706 , 0.07843138, 0.05490196, ..., 0.18823531, 0.21960786,\n        0.68235296],\n       [0.45882356, 0.12156864, 0.7725491 , ..., 0.53333336, 0.42352945,\n        0.7254902 ],\n       [0.7686275 , 0.7686275 , 0.9176471 , ..., 0.03921569, 0.6431373 ,\n        0.1764706 ],\n       ...,\n       [0.15294118, 0.5921569 , 0.41176474, ..., 0.04705883, 0.2901961 ,\n        0.37254903],\n       [0.97647065, 0.03921569, 0.72156864, ..., 0.9803922 , 0.9333334 ,\n        0.09411766],\n       [0.78823537, 0.24313727, 0.08235294, ..., 0.9725491 , 0.30980393,\n        0.6901961 ]], dtype=float32)"
     },
     "execution_count": 129,
     "metadata": {},
     "output_type": "execute_result"
    }
   ],
   "source": [
    "rescale = vision.Rescale( 1.0 / 255.0, 0 )\n",
    "rescale_image = rescale( random_image )\n",
    "\n",
    "rescale_image"
   ],
   "metadata": {
    "collapsed": false,
    "ExecuteTime": {
     "end_time": "2024-07-17T03:08:13.456157400Z",
     "start_time": "2024-07-17T03:08:13.426184900Z"
    }
   },
   "id": "e4a7f669cfae1ff2",
   "execution_count": 129
  },
  {
   "cell_type": "code",
   "outputs": [
    {
     "data": {
      "text/plain": "array([[ 1.4468375 , -0.16964827, -0.24601768, ...,  0.18674232,\n         0.28856817,  1.7904998 ],\n       [ 1.0649905 , -0.02963769,  2.0832493 , ...,  1.306827  ,\n         0.9504364 ,  1.9305104 ],\n       [ 2.070521  ,  2.070521  ,  2.554194  , ..., -0.29693064,\n         1.6632175 ,  0.14855757],\n       ...,\n       [ 0.07218818,  1.4977505 ,  0.9122518 , ..., -0.27147415,\n         0.51767635,  0.7849693 ],\n       [ 2.7451174 , -0.29693064,  1.9177822 , ...,  2.7578456 ,\n         2.6051068 , -0.11873532],\n       [ 2.1341622 ,  0.36493757, -0.15692005, ...,  2.7323892 ,\n         0.58131754,  1.8159562 ]], dtype=float32)"
     },
     "execution_count": 132,
     "metadata": {},
     "output_type": "execute_result"
    }
   ],
   "source": [
    "normalize = vision.Normalize( mean = ( 0.1307, ), std = ( 0.3081, ) )\n",
    "normalize_image = normalize( rescale_image )\n",
    "\n",
    "normalize_image"
   ],
   "metadata": {
    "collapsed": false,
    "ExecuteTime": {
     "end_time": "2024-07-17T03:18:53.286686100Z",
     "start_time": "2024-07-17T03:18:53.267831800Z"
    }
   },
   "id": "137bb6924f789516",
   "execution_count": 132
  },
  {
   "cell_type": "markdown",
   "source": [
    "(height, width, channel) & (channel, height, width)"
   ],
   "metadata": {
    "collapsed": false
   },
   "id": "5477df40f4e0e290"
  },
  {
   "cell_type": "code",
   "outputs": [
    {
     "data": {
      "text/plain": "((48, 48, 1), (1, 48, 48))"
     },
     "execution_count": 133,
     "metadata": {},
     "output_type": "execute_result"
    }
   ],
   "source": [
    "hwc_image = np.expand_dims( normalize_image, -1 )\n",
    "hwc2chw = vision.HWC2CHW()\n",
    "chw_image = hwc2chw( hwc_image )\n",
    "\n",
    "# \n",
    "hwc_image.shape, chw_image.shape"
   ],
   "metadata": {
    "collapsed": false,
    "ExecuteTime": {
     "end_time": "2024-07-17T03:22:27.449400800Z",
     "start_time": "2024-07-17T03:22:27.431740400Z"
    }
   },
   "id": "65b0152266206450",
   "execution_count": 133
  },
  {
   "cell_type": "code",
   "outputs": [
    {
     "data": {
      "text/plain": "<mindspore.dataset.engine.datasets_user_defined.GeneratorDataset at 0x1f94fcf7af0>"
     },
     "execution_count": 135,
     "metadata": {},
     "output_type": "execute_result"
    }
   ],
   "source": [
    "texts = [ 'Welcome to Beijing' ]\n",
    "test_dataset = GeneratorDataset( texts, 'text' )\n",
    "\n",
    "test_dataset"
   ],
   "metadata": {
    "collapsed": false,
    "ExecuteTime": {
     "end_time": "2024-07-17T03:25:26.694483400Z",
     "start_time": "2024-07-17T03:25:26.665383200Z"
    }
   },
   "id": "ae3740650e6a99a",
   "execution_count": 135
  },
  {
   "cell_type": "code",
   "outputs": [
    {
     "ename": "RuntimeError",
     "evalue": "Exception thrown from user defined Python function in dataset. \n\n------------------------------------------------------------------\n- Python Call Stack: \n------------------------------------------------------------------\nTraceback (most recent call last):\n  File \"C:\\Users\\EC319\\.conda\\envs\\mindspore_py39\\lib\\site-packages\\mindspore\\dataset\\engine\\datasets_user_defined.py\", line 103, in _cpp_sampler_fn\n    yield _convert_row(val)\n  File \"C:\\Users\\EC319\\.conda\\envs\\mindspore_py39\\lib\\site-packages\\mindspore\\dataset\\engine\\datasets_user_defined.py\", line 158, in _convert_row\n    item = np.array(row, copy=False)\nValueError: Unable to avoid copy while creating an array as requested.\nIf using `np.array(obj, copy=False)` replace it with `np.asarray(obj)` to allow a copy when needed (no behavior change in NumPy 1.x).\nFor more details, see https://numpy.org/devdocs/numpy_2_0_migration_guide.html#adapting-to-changes-in-the-copy-keyword.\n\n------------------------------------------------------------------\n- Dataset Pipeline Error Message: \n------------------------------------------------------------------\n[ERROR] Execute user Python code failed, check 'Python Call Stack' above.\n\n------------------------------------------------------------------\n- C++ Call Stack: (For framework developers) \n------------------------------------------------------------------\nmindspore\\ccsrc\\minddata\\dataset\\engine\\datasetops\\source\\generator_op.cc(259).\n\n\n",
     "output_type": "error",
     "traceback": [
      "\u001B[1;31m---------------------------------------------------------------------------\u001B[0m",
      "\u001B[1;31mRuntimeError\u001B[0m                              Traceback (most recent call last)",
      "Cell \u001B[1;32mIn[136], line 6\u001B[0m\n\u001B[0;32m      2\u001B[0m         \u001B[38;5;28;01mreturn\u001B[39;00m content\u001B[38;5;241m.\u001B[39msplit()\n\u001B[0;32m      4\u001B[0m test_dataset \u001B[38;5;241m=\u001B[39m test_dataset\u001B[38;5;241m.\u001B[39mmap( text\u001B[38;5;241m.\u001B[39mPythonTokenizer( my_tokenizer ) )\n\u001B[1;32m----> 6\u001B[0m \u001B[38;5;28;43mnext\u001B[39;49m\u001B[43m(\u001B[49m\u001B[43m \u001B[49m\u001B[43mtest_dataset\u001B[49m\u001B[38;5;241;43m.\u001B[39;49m\u001B[43mcreate_tuple_iterator\u001B[49m\u001B[43m(\u001B[49m\u001B[43m)\u001B[49m\u001B[43m \u001B[49m\u001B[43m)\u001B[49m\n",
      "File \u001B[1;32m~\\.conda\\envs\\mindspore_py39\\lib\\site-packages\\mindspore\\dataset\\engine\\iterators.py:152\u001B[0m, in \u001B[0;36mIterator.__next__\u001B[1;34m(self)\u001B[0m\n\u001B[0;32m    149\u001B[0m     \u001B[38;5;28;01mraise\u001B[39;00m \u001B[38;5;167;01mRuntimeError\u001B[39;00m(\u001B[38;5;124m\"\u001B[39m\u001B[38;5;124mIterator does not have a running C++ pipeline.\u001B[39m\u001B[38;5;124m\"\u001B[39m)\n\u001B[0;32m    151\u001B[0m \u001B[38;5;66;03m# Note offload is applied inside _get_next() if applicable since get_next converts to output format\u001B[39;00m\n\u001B[1;32m--> 152\u001B[0m data \u001B[38;5;241m=\u001B[39m \u001B[38;5;28;43mself\u001B[39;49m\u001B[38;5;241;43m.\u001B[39;49m\u001B[43m_get_next\u001B[49m\u001B[43m(\u001B[49m\u001B[43m)\u001B[49m\n\u001B[0;32m    153\u001B[0m \u001B[38;5;28;01mif\u001B[39;00m \u001B[38;5;129;01mnot\u001B[39;00m data:\n\u001B[0;32m    154\u001B[0m     \u001B[38;5;28;01mif\u001B[39;00m \u001B[38;5;28mself\u001B[39m\u001B[38;5;241m.\u001B[39m__index \u001B[38;5;241m==\u001B[39m \u001B[38;5;241m0\u001B[39m:\n",
      "File \u001B[1;32m~\\.conda\\envs\\mindspore_py39\\lib\\site-packages\\mindspore\\dataset\\engine\\iterators.py:301\u001B[0m, in \u001B[0;36mTupleIterator._get_next\u001B[1;34m(self)\u001B[0m\n\u001B[0;32m    293\u001B[0m \u001B[38;5;250m\u001B[39m\u001B[38;5;124;03m\"\"\"\u001B[39;00m\n\u001B[0;32m    294\u001B[0m \u001B[38;5;124;03mReturns the next record in the dataset as a list\u001B[39;00m\n\u001B[0;32m    295\u001B[0m \n\u001B[0;32m    296\u001B[0m \u001B[38;5;124;03mReturns:\u001B[39;00m\n\u001B[0;32m    297\u001B[0m \u001B[38;5;124;03m    List, the next record in the dataset.\u001B[39;00m\n\u001B[0;32m    298\u001B[0m \u001B[38;5;124;03m\"\"\"\u001B[39;00m\n\u001B[0;32m    300\u001B[0m \u001B[38;5;28;01mif\u001B[39;00m \u001B[38;5;28mself\u001B[39m\u001B[38;5;241m.\u001B[39moffload_model \u001B[38;5;129;01mis\u001B[39;00m \u001B[38;5;28;01mNone\u001B[39;00m:\n\u001B[1;32m--> 301\u001B[0m     \u001B[38;5;28;01mreturn\u001B[39;00m [\u001B[38;5;28mself\u001B[39m\u001B[38;5;241m.\u001B[39m_transform_md_to_output(t) \u001B[38;5;28;01mfor\u001B[39;00m t \u001B[38;5;129;01min\u001B[39;00m \u001B[38;5;28;43mself\u001B[39;49m\u001B[38;5;241;43m.\u001B[39;49m\u001B[43m_iterator\u001B[49m\u001B[38;5;241;43m.\u001B[39;49m\u001B[43mGetNextAsList\u001B[49m\u001B[43m(\u001B[49m\u001B[43m)\u001B[49m]\n\u001B[0;32m    302\u001B[0m data \u001B[38;5;241m=\u001B[39m [\u001B[38;5;28mself\u001B[39m\u001B[38;5;241m.\u001B[39m_transform_md_to_tensor(t) \u001B[38;5;28;01mfor\u001B[39;00m t \u001B[38;5;129;01min\u001B[39;00m \u001B[38;5;28mself\u001B[39m\u001B[38;5;241m.\u001B[39m_iterator\u001B[38;5;241m.\u001B[39mGetNextAsList()]\n\u001B[0;32m    303\u001B[0m \u001B[38;5;28;01mif\u001B[39;00m data:\n",
      "\u001B[1;31mRuntimeError\u001B[0m: Exception thrown from user defined Python function in dataset. \n\n------------------------------------------------------------------\n- Python Call Stack: \n------------------------------------------------------------------\nTraceback (most recent call last):\n  File \"C:\\Users\\EC319\\.conda\\envs\\mindspore_py39\\lib\\site-packages\\mindspore\\dataset\\engine\\datasets_user_defined.py\", line 103, in _cpp_sampler_fn\n    yield _convert_row(val)\n  File \"C:\\Users\\EC319\\.conda\\envs\\mindspore_py39\\lib\\site-packages\\mindspore\\dataset\\engine\\datasets_user_defined.py\", line 158, in _convert_row\n    item = np.array(row, copy=False)\nValueError: Unable to avoid copy while creating an array as requested.\nIf using `np.array(obj, copy=False)` replace it with `np.asarray(obj)` to allow a copy when needed (no behavior change in NumPy 1.x).\nFor more details, see https://numpy.org/devdocs/numpy_2_0_migration_guide.html#adapting-to-changes-in-the-copy-keyword.\n\n------------------------------------------------------------------\n- Dataset Pipeline Error Message: \n------------------------------------------------------------------\n[ERROR] Execute user Python code failed, check 'Python Call Stack' above.\n\n------------------------------------------------------------------\n- C++ Call Stack: (For framework developers) \n------------------------------------------------------------------\nmindspore\\ccsrc\\minddata\\dataset\\engine\\datasetops\\source\\generator_op.cc(259).\n\n\n"
     ]
    }
   ],
   "source": [
    "def my_tokenizer( content ):\n",
    "        return content.split()\n",
    "\n",
    "test_dataset = test_dataset.map( text.PythonTokenizer( my_tokenizer ) )\n",
    "\n",
    "next( test_dataset.create_tuple_iterator() )"
   ],
   "metadata": {
    "collapsed": false,
    "ExecuteTime": {
     "end_time": "2024-07-17T03:27:12.391919700Z",
     "start_time": "2024-07-17T03:27:12.331976900Z"
    }
   },
   "id": "7f524070f3e4db2f",
   "execution_count": 136
  },
  {
   "cell_type": "code",
   "outputs": [],
   "source": [],
   "metadata": {
    "collapsed": false
   },
   "id": "9185b91ff98e64bf"
  }
 ],
 "metadata": {
  "kernelspec": {
   "display_name": "Python 3",
   "language": "python",
   "name": "python3"
  },
  "language_info": {
   "codemirror_mode": {
    "name": "ipython",
    "version": 2
   },
   "file_extension": ".py",
   "mimetype": "text/x-python",
   "name": "python",
   "nbconvert_exporter": "python",
   "pygments_lexer": "ipython2",
   "version": "2.7.6"
  }
 },
 "nbformat": 4,
 "nbformat_minor": 5
}
