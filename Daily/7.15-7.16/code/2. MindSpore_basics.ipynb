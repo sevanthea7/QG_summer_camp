{
 "cells": [
  {
   "cell_type": "code",
   "execution_count": 18,
   "id": "initial_id",
   "metadata": {
    "collapsed": true,
    "ExecuteTime": {
     "end_time": "2024-07-16T14:22:28.388249500Z",
     "start_time": "2024-07-16T14:22:28.384205500Z"
    }
   },
   "outputs": [],
   "source": [
    "import mindspore\n",
    "import numpy as np\n",
    "from mindspore import ops\n",
    "from mindspore import Tensor, CSRTensor, COOTensor"
   ]
  },
  {
   "cell_type": "code",
   "outputs": [
    {
     "data": {
      "text/plain": "(Tensor(shape=[2, 4], dtype=Int64, value=\n [[1, 0, 1, 0],\n  [0, 1, 0, 1]]),\n (2, 4),\n mindspore.int64)"
     },
     "execution_count": 19,
     "metadata": {},
     "output_type": "execute_result"
    }
   ],
   "source": [
    "data = [[ 1, 0, 1, 0 ],\n",
    "        [0, 1, 0, 1 ]]\n",
    "t_data = Tensor( data )\n",
    "\n",
    "t_data, t_data.shape, t_data.dtype"
   ],
   "metadata": {
    "collapsed": false,
    "ExecuteTime": {
     "end_time": "2024-07-16T14:22:28.422704500Z",
     "start_time": "2024-07-16T14:22:28.390745800Z"
    }
   },
   "id": "60f038ca55d9342c",
   "execution_count": 19
  },
  {
   "cell_type": "code",
   "outputs": [
    {
     "data": {
      "text/plain": "(Tensor(shape=[2, 4], dtype=Int64, value=\n [[1, 0, 1, 0],\n  [0, 1, 0, 1]]),\n (2, 4),\n mindspore.int64)"
     },
     "execution_count": 20,
     "metadata": {},
     "output_type": "execute_result"
    }
   ],
   "source": [
    "np_data = np.array( data )\n",
    "t_np_data = Tensor( np_data )\n",
    "\n",
    "t_np_data, t_np_data.shape, t_np_data.dtype"
   ],
   "metadata": {
    "collapsed": false,
    "ExecuteTime": {
     "end_time": "2024-07-16T14:22:28.422704500Z",
     "start_time": "2024-07-16T14:22:28.405712900Z"
    }
   },
   "id": "ba7096f3942843c4",
   "execution_count": 20
  },
  {
   "cell_type": "code",
   "outputs": [
    {
     "data": {
      "text/plain": "Tensor(shape=[2, 2], dtype=Float32, value=\n[[1., 1.],\n [1., 1.]])"
     },
     "execution_count": 25,
     "metadata": {},
     "output_type": "execute_result"
    }
   ],
   "source": [
    "from mindspore.common.initializer import One, Normal\n",
    "tensor1 = mindspore.Tensor( shape = ( 2, 2 ), dtype = mindspore.float32, init = One() )\n",
    "tensor1.init_data()"
   ],
   "metadata": {
    "collapsed": false,
    "ExecuteTime": {
     "end_time": "2024-07-16T14:30:31.489520300Z",
     "start_time": "2024-07-16T14:30:31.463966900Z"
    }
   },
   "id": "1bc6a91891eb4c06",
   "execution_count": 25
  },
  {
   "cell_type": "code",
   "outputs": [
    {
     "data": {
      "text/plain": "Tensor(shape=[2, 2], dtype=Float32, value=\n[[-0.01950843, -0.0051634 ],\n [ 0.01545637,  0.00787017]])"
     },
     "execution_count": 29,
     "metadata": {},
     "output_type": "execute_result"
    }
   ],
   "source": [
    "tensor2 = mindspore.Tensor( shape = ( 2, 2 ), dtype = mindspore.float32, init = Normal() )\n",
    "tensor2.init_data()"
   ],
   "metadata": {
    "collapsed": false,
    "ExecuteTime": {
     "end_time": "2024-07-16T14:32:40.850669Z",
     "start_time": "2024-07-16T14:32:40.838132200Z"
    }
   },
   "id": "b52181e904f0425a",
   "execution_count": 29
  },
  {
   "cell_type": "code",
   "outputs": [],
   "source": [],
   "metadata": {
    "collapsed": false
   },
   "id": "9ffd4fe4642d8e26"
  }
 ],
 "metadata": {
  "kernelspec": {
   "display_name": "Python 3",
   "language": "python",
   "name": "python3"
  },
  "language_info": {
   "codemirror_mode": {
    "name": "ipython",
    "version": 2
   },
   "file_extension": ".py",
   "mimetype": "text/x-python",
   "name": "python",
   "nbconvert_exporter": "python",
   "pygments_lexer": "ipython2",
   "version": "2.7.6"
  }
 },
 "nbformat": 4,
 "nbformat_minor": 5
}
