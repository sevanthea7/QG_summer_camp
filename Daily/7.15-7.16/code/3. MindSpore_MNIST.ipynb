{
 "cells": [
  {
   "cell_type": "code",
   "execution_count": 1,
   "id": "initial_id",
   "metadata": {
    "collapsed": true,
    "ExecuteTime": {
     "end_time": "2024-07-22T08:31:25.825174300Z",
     "start_time": "2024-07-22T08:31:25.425368700Z"
    }
   },
   "outputs": [
    {
     "ename": "ModuleNotFoundError",
     "evalue": "No module named 'mindspore'",
     "output_type": "error",
     "traceback": [
      "\u001B[1;31m---------------------------------------------------------------------------\u001B[0m",
      "\u001B[1;31mModuleNotFoundError\u001B[0m                       Traceback (most recent call last)",
      "Cell \u001B[1;32mIn[1], line 1\u001B[0m\n\u001B[1;32m----> 1\u001B[0m \u001B[38;5;28;01mimport\u001B[39;00m \u001B[38;5;21;01mmindspore\u001B[39;00m\n\u001B[0;32m      2\u001B[0m \u001B[38;5;28;01mfrom\u001B[39;00m \u001B[38;5;21;01mmindspore\u001B[39;00m \u001B[38;5;28;01mimport\u001B[39;00m nn\n\u001B[0;32m      3\u001B[0m \u001B[38;5;28;01mfrom\u001B[39;00m \u001B[38;5;21;01mmindspore\u001B[39;00m\u001B[38;5;21;01m.\u001B[39;00m\u001B[38;5;21;01mdataset\u001B[39;00m \u001B[38;5;28;01mimport\u001B[39;00m vision, transforms\n",
      "\u001B[1;31mModuleNotFoundError\u001B[0m: No module named 'mindspore'"
     ]
    }
   ],
   "source": [
    "import mindspore\n",
    "from mindspore import nn\n",
    "from mindspore.dataset import vision, transforms\n",
    "from mindspore.dataset import MnistDataset\n"
   ]
  },
  {
   "cell_type": "markdown",
   "source": [
    "下载导入数据集"
   ],
   "metadata": {
    "collapsed": false
   },
   "id": "252bdb6a9fc0e20a"
  },
  {
   "cell_type": "code",
   "outputs": [
    {
     "name": "stdout",
     "output_type": "stream",
     "text": [
      "Downloading data from https://mindspore-website.obs.cn-north-4.myhuaweicloud.com/notebook/datasets/MNIST_Data.zip (10.3 MB)\n",
      "\n",
      "file_sizes: 100%|██████████████████████████| 10.8M/10.8M [00:03<00:00, 3.29MB/s]\n",
      "Extracting zip file...\n",
      "Successfully downloaded / unzipped to ../data\n"
     ]
    }
   ],
   "source": [
    "from download import download\n",
    "\n",
    "url = \"https://mindspore-website.obs.cn-north-4.myhuaweicloud.com/\" \\\n",
    "      \"notebook/datasets/MNIST_Data.zip\"\n",
    "path = download( url, \"../data\", kind = 'zip', replace = True )"
   ],
   "metadata": {
    "collapsed": false,
    "ExecuteTime": {
     "end_time": "2024-07-16T13:47:21.874066900Z",
     "start_time": "2024-07-16T13:47:17.493051500Z"
    }
   },
   "id": "9552300bbd62c64b",
   "execution_count": 9
  },
  {
   "cell_type": "markdown",
   "source": [
    "网站给出的训练集目录结构\n",
    "MNIST_Data\n",
    "└── train\n",
    "    ├── train-images-idx3-ubyte (60000个训练图片)\n",
    "    ├── train-labels-idx1-ubyte (60000个训练标签)\n",
    "└── test\n",
    "    ├── t10k-images-idx3-ubyte (10000个测试图片)\n",
    "    ├── t10k-labels-idx1-ubyte (10000个测试标签)\n"
   ],
   "metadata": {
    "collapsed": false
   },
   "id": "5c4255e19daf4ae"
  },
  {
   "cell_type": "markdown",
   "source": [
    "划分训练集、测试集 -> 化为数据集对象"
   ],
   "metadata": {
    "collapsed": false
   },
   "id": "3771eae749a3b4be"
  },
  {
   "cell_type": "code",
   "outputs": [
    {
     "data": {
      "text/plain": "['image', 'label']"
     },
     "execution_count": 8,
     "metadata": {},
     "output_type": "execute_result"
    }
   ],
   "source": [
    "train_dataset = MnistDataset( 'MNIST_Data/train' )\n",
    "test_dataset = MnistDataset( 'MNIST_Data/test' )\n",
    "\n",
    "train_dataset.get_col_names()"
   ],
   "metadata": {
    "collapsed": false,
    "ExecuteTime": {
     "end_time": "2024-07-16T13:36:30.494284600Z",
     "start_time": "2024-07-16T13:36:30.478864200Z"
    }
   },
   "id": "c8e3c8084fca38a",
   "execution_count": 8
  },
  {
   "cell_type": "code",
   "outputs": [],
   "source": [
    "def datapip( dataset, batch_size ):\n",
    "      image_transforms = [\n",
    "\t\tvision.Rescale( 1.0 / 225.0, 0 ),\t\t# 将输入的图像缩放为1/225\n",
    "        vision.Normalize( mean = ( 0.1307, ), std = ( 0.3081, ) ),\t\t# 均值和标准差值的归一化处理\n",
    "        vision.HWC2CHW()\n",
    "\t  ]\n",
    "      label_transform = transforms.TypeCast( mindspore.int32 )\n",
    "    \n",
    "      dataset = dataset.map( image_transforms, 'image' )\n",
    "      dataset = dataset.map( label_transform, 'label' )\n",
    "      dataset = dataset.batch( batch_size )\n",
    "    \n",
    "      return dataset"
   ],
   "metadata": {
    "collapsed": false
   },
   "id": "e3de805c1171711e"
  },
  {
   "cell_type": "code",
   "outputs": [],
   "source": [
    "train_dataset = datapip( train_dataset, 64 )\n",
    "test_dataset = datapip( test_dataset, 64 )"
   ],
   "metadata": {
    "collapsed": false
   },
   "id": "d91b391401ca2033"
  },
  {
   "cell_type": "code",
   "outputs": [],
   "source": [
    "for image, label in test_dataset.create_tuple_iterator():\n",
    "    print(f\"Shape of image [N, C, H, W]: {image.shape} {image.dtype}\")\n",
    "    print(f\"Shape of label: {label.shape} {label.dtype}\")\n",
    "    break\n",
    "for data in test_dataset.create_dict_iterator():\n",
    "    print(f\"Shape of image [N, C, H, W]: {data['image'].shape} {data['image'].dtype}\")\n",
    "    print(f\"Shape of label: {data['label'].shape} {data['label'].dtype}\")\n",
    "    break\n"
   ],
   "metadata": {
    "collapsed": false
   },
   "id": "27cb2ecc5dd02af8"
  },
  {
   "cell_type": "code",
   "outputs": [],
   "source": [
    "# Define model\n",
    "class Network(nn.Cell):\n",
    "    def __init__(self):\n",
    "        super().__init__()\n",
    "        self.flatten = nn.Flatten()\n",
    "        self.dense_relu_sequential = nn.SequentialCell(\n",
    "            nn.Dense(28*28, 512),\n",
    "            nn.ReLU(),\n",
    "            nn.Dense(512, 512),\n",
    "            nn.ReLU(),\n",
    "            nn.Dense(512, 10)\n",
    "        )\n",
    "\n",
    "    def construct(self, x):\n",
    "        x = self.flatten(x)\n",
    "        logits = self.dense_relu_sequential(x)\n",
    "        return logits\n",
    "\n",
    "model = Network()\n",
    "print(model)\n"
   ],
   "metadata": {
    "collapsed": false
   },
   "id": "98cfcaf1b4dc0464"
  },
  {
   "cell_type": "code",
   "outputs": [],
   "source": [
    "# Instantiate loss function and optimizer\n",
    "loss_fn = nn.CrossEntropyLoss()\n",
    "optimizer = nn.SGD(model.trainable_params(), 1e-2)\n",
    "\n",
    "# 1. Define forward function\n",
    "def forward_fn(data, label):\n",
    "    logits = model(data)\n",
    "    loss = loss_fn(logits, label)\n",
    "    return loss, logits\n",
    "\n",
    "# 2. Get gradient function\n",
    "grad_fn = mindspore.value_and_grad(forward_fn, None, optimizer.parameters, has_aux=True)\n",
    "\n",
    "# 3. Define function of one-step training\n",
    "def train_step(data, label):\n",
    "    (loss, _), grads = grad_fn(data, label)\n",
    "    optimizer(grads)\n",
    "    return loss\n",
    "\n",
    "def train(model, dataset):\n",
    "    size = dataset.get_dataset_size()\n",
    "    model.set_train()\n",
    "    for batch, (data, label) in enumerate(dataset.create_tuple_iterator()):\n",
    "        loss = train_step(data, label)\n",
    "\n",
    "        if batch % 100 == 0:\n",
    "            loss, current = loss.asnumpy(), batch\n",
    "            print(f\"loss: {loss:>7f}  [{current:>3d}/{size:>3d}]\")\n"
   ],
   "metadata": {
    "collapsed": false
   },
   "id": "c06788a622f2926c"
  }
 ],
 "metadata": {
  "kernelspec": {
   "display_name": "Python 3",
   "language": "python",
   "name": "python3"
  },
  "language_info": {
   "codemirror_mode": {
    "name": "ipython",
    "version": 2
   },
   "file_extension": ".py",
   "mimetype": "text/x-python",
   "name": "python",
   "nbconvert_exporter": "python",
   "pygments_lexer": "ipython2",
   "version": "2.7.6"
  }
 },
 "nbformat": 4,
 "nbformat_minor": 5
}
