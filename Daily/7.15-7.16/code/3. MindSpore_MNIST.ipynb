{
 "cells": [
  {
   "cell_type": "code",
   "execution_count": 2,
   "id": "initial_id",
   "metadata": {
    "collapsed": true,
    "ExecuteTime": {
     "end_time": "2024-07-16T13:33:28.204200300Z",
     "start_time": "2024-07-16T13:33:26.944151600Z"
    }
   },
   "outputs": [],
   "source": [
    "import mindspore\n",
    "from mindspore import nn\n",
    "from mindspore.dataset import vision, transforms\n",
    "from mindspore.dataset import MnistDataset\n"
   ]
  },
  {
   "cell_type": "markdown",
   "source": [
    "下载导入数据集"
   ],
   "metadata": {
    "collapsed": false
   },
   "id": "252bdb6a9fc0e20a"
  },
  {
   "cell_type": "code",
   "outputs": [
    {
     "name": "stdout",
     "output_type": "stream",
     "text": [
      "Downloading data from https://mindspore-website.obs.cn-north-4.myhuaweicloud.com/notebook/datasets/MNIST_Data.zip (10.3 MB)\n",
      "\n",
      "file_sizes: 100%|██████████████████████████| 10.8M/10.8M [00:03<00:00, 3.29MB/s]\n",
      "Extracting zip file...\n",
      "Successfully downloaded / unzipped to ../data\n"
     ]
    }
   ],
   "source": [
    "from download import download\n",
    "\n",
    "url = \"https://mindspore-website.obs.cn-north-4.myhuaweicloud.com/\" \\\n",
    "      \"notebook/datasets/MNIST_Data.zip\"\n",
    "path = download( url, \"../data\", kind = 'zip', replace = True )"
   ],
   "metadata": {
    "collapsed": false,
    "ExecuteTime": {
     "end_time": "2024-07-16T13:47:21.874066900Z",
     "start_time": "2024-07-16T13:47:17.493051500Z"
    }
   },
   "id": "9552300bbd62c64b",
   "execution_count": 9
  },
  {
   "cell_type": "markdown",
   "source": [
    "网站给出的训练集目录结构\n",
    "MNIST_Data\n",
    "└── train\n",
    "    ├── train-images-idx3-ubyte (60000个训练图片)\n",
    "    ├── train-labels-idx1-ubyte (60000个训练标签)\n",
    "└── test\n",
    "    ├── t10k-images-idx3-ubyte (10000个测试图片)\n",
    "    ├── t10k-labels-idx1-ubyte (10000个测试标签)\n"
   ],
   "metadata": {
    "collapsed": false
   },
   "id": "5c4255e19daf4ae"
  },
  {
   "cell_type": "markdown",
   "source": [
    "划分训练集、测试集 -> 化为数据集对象"
   ],
   "metadata": {
    "collapsed": false
   },
   "id": "3771eae749a3b4be"
  },
  {
   "cell_type": "code",
   "outputs": [
    {
     "data": {
      "text/plain": "['image', 'label']"
     },
     "execution_count": 8,
     "metadata": {},
     "output_type": "execute_result"
    }
   ],
   "source": [
    "train_dataset = MnistDataset( 'MNIST_Data/train' )\n",
    "test_dataset = MnistDataset( 'MNIST_Data/test' )\n",
    "\n",
    "train_dataset.get_col_names()"
   ],
   "metadata": {
    "collapsed": false,
    "ExecuteTime": {
     "end_time": "2024-07-16T13:36:30.494284600Z",
     "start_time": "2024-07-16T13:36:30.478864200Z"
    }
   },
   "id": "c8e3c8084fca38a",
   "execution_count": 8
  },
  {
   "cell_type": "code",
   "outputs": [],
   "source": [
    "def datapip( dataset, batch_size ):\n",
    "      image_transforms = [\n",
    "\t\tvision.Rescale( 1.0 / 225.0, 0 ),\t\t# 将输入的图像缩放为1/225\n",
    "        vision.Normalize( mean = ( 0.1307, ), std = ( 0.3081, ) ),\t\t# 均值和标准差值的归一化处理\n",
    "        vision.HWC2CHW()\n",
    "\t  ]\n",
    "      label_transform = transforms.TypeCast( mindspore.int32 )\n",
    "    \n",
    "      dataset = dataset.map( image_transforms, 'image' )\n",
    "      dataset = dataset.map( label_transform, 'label' )\n",
    "      dataset = dataset.batch( batch_size )\n",
    "    \n",
    "      return dataset"
   ],
   "metadata": {
    "collapsed": false
   },
   "id": "e3de805c1171711e"
  },
  {
   "cell_type": "code",
   "outputs": [],
   "source": [
    "train_dataset = datapip( train_dataset, 64 )\n",
    "test_dataset = datapip( test_dataset, 64 )"
   ],
   "metadata": {
    "collapsed": false
   },
   "id": "d91b391401ca2033"
  }
 ],
 "metadata": {
  "kernelspec": {
   "display_name": "Python 3",
   "language": "python",
   "name": "python3"
  },
  "language_info": {
   "codemirror_mode": {
    "name": "ipython",
    "version": 2
   },
   "file_extension": ".py",
   "mimetype": "text/x-python",
   "name": "python",
   "nbconvert_exporter": "python",
   "pygments_lexer": "ipython2",
   "version": "2.7.6"
  }
 },
 "nbformat": 4,
 "nbformat_minor": 5
}
