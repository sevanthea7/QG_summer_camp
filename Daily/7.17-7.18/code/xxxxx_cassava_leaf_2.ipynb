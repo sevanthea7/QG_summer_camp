{
 "cells": [
  {
   "cell_type": "code",
   "execution_count": null,
   "id": "initial_id",
   "metadata": {
    "collapsed": true
   },
   "outputs": [],
   "source": [
    "import torch\n",
    "import torch.nn as nn\n",
    "import torch.optim as optim\n",
    "from torch.utils.data import DataLoader, Dataset, random_split\n",
    "import torch.nn.functional as F\n",
    "from torchvision import transforms, datasets\n",
    "import pandas as pd\n",
    "import numpy as np\n",
    "import os\n",
    "import matplotlib.pyplot as plt"
   ]
  },
  {
   "cell_type": "code",
   "outputs": [],
   "source": [
    "class Bottleneck(nn.Module):\n",
    "    exp = 4\n",
    "\n",
    "    def __init__( self, in_channels, out_channels, stride=1):\n",
    "        super( Bottleneck, self ).__init__()\n",
    "        self.conv1 = nn.Conv2d( in_channels, out_channels, kernel_size=1, bias=False)\n",
    "        self.bn1 = nn.BatchNorm2d(out_channels)\n",
    "        self.conv2 = nn.Conv2d( out_channels, out_channels, kernel_size=3, stride=stride, padding=1, bias=False)\n",
    "        self.bn2 = nn.BatchNorm2d( out_channels )\n",
    "        self.conv3 = nn.Conv2d( out_channels, self.exp * out_channels, kernel_size=1, bias=False )\n",
    "        self.bn3 = nn.BatchNorm2d( self.exp * out_channels)\n",
    "\n",
    "        self.shortcut = nn.Sequential()\n",
    "        if stride != 1 or in_channels != self.exp * out_channels:\n",
    "            self.shortcut = nn.Sequential(\n",
    "                nn.Conv2d( in_channels, self.exp * out_channels, kernel_size=1, stride=stride, bias=False),\n",
    "                nn.BatchNorm2d( self.exp * out_channels )\n",
    "            )\n",
    "\n",
    "    def forward(self, x):\n",
    "        out = F.relu(self.bn1(self.conv1(x)))\n",
    "        out = F.relu(self.bn2(self.conv2(out)))\n",
    "        out = self.bn3(self.conv3(out))\n",
    "        out += self.shortcut(x)\n",
    "        out = F.relu(out)\n",
    "        return out"
   ],
   "metadata": {
    "collapsed": false
   },
   "id": "3cb026b8235b7615",
   "execution_count": null
  },
  {
   "cell_type": "code",
   "outputs": [],
   "source": [
    "class ResNet(nn.Module):\n",
    "    def __init__( self, block, block_num, num_classes = 5 ):\n",
    "        super(ResNet, self).__init__()\n",
    "        self.in_channels = 64\n",
    "\n",
    "        self.conv1 = nn.Conv2d( 3, 64, kernel_size = 7, stride = 2, padding = 3, bias = False )\n",
    "        self.bn1 = nn.BatchNorm2d( self.in_channels )\n",
    "        self.relu = nn.ReLU( inplace = True )\n",
    "        self.maxpool = nn.MaxPool2d( kernel_size = 3, stride = 2, padding = 1 )\n",
    "        \n",
    "        self.layer1 = self._make_layer( block, 64, block_num[0], stride = 1 )\n",
    "        self.layer2 = self._make_layer( block, 128, block_num[1], stride = 2 )\n",
    "        self.layer3 = self._make_layer( block, 256, block_num[2], stride = 2 )\n",
    "        self.layer4 = self._make_layer( block, 512, block_num[3], stride = 2 )\n",
    "        self.avgpool = nn.AdaptiveAvgPool2d( ( 1, 1 ) )\n",
    "        # self.fc = nn.Linear( 512 * block.exp, num_classes )\n",
    "        # '''\n",
    "        self.fc = nn.Sequential( nn.Linear( 512 * block.exp, 512),\n",
    "                                 nn.ReLU(),\n",
    "                                 nn.Dropout( 0.3 ),\n",
    "                                 nn.Linear( 512, num_classes )\n",
    "                                )\n",
    "        # '''\n",
    "        \n",
    "        for m in self.modules():\n",
    "            if isinstance( m, nn.Conv2d ):\n",
    "                nn.init.kaiming_normal_( m.weight, mode = 'fan_out', nonlinearity = 'relu' )\n",
    "                \n",
    "\n",
    "    def _make_layer( self, block, channel, block_num, stride ):\n",
    "        strides = [ stride ] + [1]*( block_num - 1 )\n",
    "        layers = []\n",
    "        for stride in strides:\n",
    "            layers.append( block( self.in_channels, channel, stride ) )\n",
    "            self.in_channels = channel * block.exp\n",
    "        return nn.Sequential( *layers )\n",
    "\n",
    "    def forward( self, x ):\n",
    "        x = self.conv1( x )\n",
    "        x = self.bn1( x )\n",
    "        x = F.relu( x )\n",
    "        x = F.max_pool2d( x, kernel_size = 3, stride = 2, padding = 1 )\n",
    "        \n",
    "        x = self.layer1( x )\n",
    "        x = self.layer2( x )\n",
    "        x = self.layer3( x )\n",
    "        x = self.layer4( x )\n",
    "        \n",
    "        x = self.avgpool( x )\n",
    "        x = torch.flatten( x, 1 )\n",
    "        x = self.fc( x )\n",
    "        return x"
   ],
   "metadata": {
    "collapsed": false
   },
   "id": "1aa754462eda31ca",
   "execution_count": null
  },
  {
   "cell_type": "code",
   "outputs": [],
   "source": [
    "class CassavaDataset( Dataset ):\n",
    "    def __init__( self, csv_f, img_folder, transform, s_num = 4000 ):\n",
    "        self.img_labels = pd.read_csv( csv_f )[ :s_num ]\n",
    "        self.img_folder = img_folder\n",
    "        self.transform = transform\n",
    "\n",
    "    def __len__( self ):\n",
    "        return len( self.img_labels )\n",
    "\n",
    "    def __getitem__( self, idx ):\n",
    "        img_name = str( self.img_labels.iloc[ idx, 0 ] )\n",
    "        label = self.img_labels.iloc[ idx, 1 ]\n",
    "        img_path = os.path.join( self.img_folder, img_name )\n",
    "        image = Image.open( img_path ).convert( \"RGB\" )\n",
    "        if self.transform:\n",
    "            image = self.transform( image )\n",
    "        return image, label"
   ],
   "metadata": {
    "collapsed": false
   },
   "id": "4bd08daddd2a7a2a",
   "execution_count": null
  },
  {
   "cell_type": "code",
   "outputs": [],
   "source": [
    "pre = transforms.Compose( [ transforms.RandomResizedCrop( 224 ),\n",
    "                                   transforms.RandomHorizontalFlip(),\n",
    "                                   transforms.RandomRotation( 15 ),\n",
    "                                   transforms.ToTensor(),\n",
    "                                   transforms.Normalize( ( 0.5, 0.5, 0.5 ), ( 0.5, 0.5, 0.5 ) )\n",
    "                            ] )\n",
    "\n",
    "csv_f = '../data/cassava-leaf-disease-classification/train.csv'\n",
    "img_folder = '../data/cassava-leaf-disease-classification/train_images'\n",
    "data = CassavaDataset( csv_f, img_folder, transform = pre, s_num = 4000 )\n",
    "\n",
    "len( data )"
   ],
   "metadata": {
    "collapsed": false
   },
   "id": "d063270853a33aca",
   "execution_count": null
  },
  {
   "cell_type": "code",
   "outputs": [],
   "source": [
    "train_size = int( 0.9 * len( data ) )\n",
    "# train_dataset = data[ :train_size ]\n",
    "train_dataset, test_dataset = random_split( data, [train_size, (len( data ) - train_size) ])\n",
    "\n",
    "train_dataset"
   ],
   "metadata": {
    "collapsed": false
   },
   "id": "2660262a78376663",
   "execution_count": null
  },
  {
   "cell_type": "code",
   "outputs": [],
   "source": [
    "batch_size = 32\n",
    "\n",
    "trainloader = DataLoader( train_dataset, batch_size = batch_size, shuffle = True )\n",
    "testloader = DataLoader( test_dataset, batch_size = batch_size, shuffle = False )"
   ],
   "metadata": {
    "collapsed": false
   },
   "id": "6b9c510e47a5ee34",
   "execution_count": null
  },
  {
   "cell_type": "code",
   "outputs": [],
   "source": [
    "num_classes = 5\n",
    "device = torch.device( \"cuda:0\" if torch.cuda.is_available() else\"cpu\" )\n",
    "def ResNet50( num_classes = num_classes ):\n",
    "    return ResNet( Bottleneck, [ 3, 4, 6, 3 ], num_classes )"
   ],
   "metadata": {
    "collapsed": false
   },
   "id": "d93929b75273a195",
   "execution_count": null
  },
  {
   "cell_type": "code",
   "outputs": [],
   "source": [
    "net = ResNet50()\n",
    "net.to( device )\n",
    "loss_f = nn.CrossEntropyLoss()\n",
    "optimizer = optim.Adam( net.parameters(), lr = 0.01 )\n",
    "t_steps = len( trainloader )\n",
    "test_num = len( test_dataset )\n",
    "\n",
    "for epoch in range( 5 ):\n",
    "    net.train()\n",
    "    running_loss = 0.0\n",
    "    for step, data in enumerate( trainloader, start = 0 ):\n",
    "        imgs, labels = data\n",
    "        rate = ( ( step + 1 ) / t_steps )\n",
    "        optimizer.zero_grad()\n",
    "        outputs = net( imgs.to( device ) )\n",
    "        loss = loss_f( outputs, labels.to( device ) )\n",
    "        loss.backward()\n",
    "        optimizer.step()\n",
    "        running_loss += loss.item()\n",
    "        \n",
    "        a = '*' * int( rate * 50 )\n",
    "        b = '.' * int( ( 1 - rate ) * 50 )\n",
    "        print( '\\r train loss: {:^3.0f}%[ {} -> {} ]{:.3f}'.format( int( rate * 100 ),a, b, loss ), end = '' )\n",
    "    print()    \n",
    "    \n",
    "    net.eval()\n",
    "    r = 0.0\n",
    "    best_R = 0.0\n",
    "    with torch.no_grad():\n",
    "        for data_test in testloader:\n",
    "            t_img, t_lbl = data_test\n",
    "            outputs = net( t_img.to( device ) )\n",
    "            pred_y = torch.max( outputs, dim = 1 )[1]\n",
    "            r += ( pred_y == t_lbl.to( device ) ).sum().item()\n",
    "        acc_R = r / test_num\n",
    "        if acc_R > best_R:\n",
    "            best_R = acc_R\n",
    "            torch.save( net.state_dict(), '../path/Net_best.pth' )\n",
    "        print( '[epoch %d] train_loss: %.3f    test_accuracy: %.3f' % ( epoch + 1, running_loss, acc_R ) )\n",
    "        \n",
    "        \n",
    "    print( 'finished' )"
   ],
   "metadata": {
    "collapsed": false
   },
   "id": "b6cba6ba11e05970",
   "execution_count": null
  },
  {
   "cell_type": "code",
   "outputs": [],
   "source": [
    "from PIL import Image\n",
    "\n",
    "\n",
    "img_transform = transforms.Compose([transforms.Resize((224, 224)),\n",
    "                                    transforms.ToTensor(),\n",
    "                                    transforms.Normalize((0.5, 0.5, 0.5), (0.5, 0.5, 0.5))]\n",
    "                                   )\n",
    "img = Image.open( '../data/cassava-leaf-disease-classification/test_images/2216849948.jpg' )\n",
    "plt.imshow(img)\n",
    "import json\n",
    "\n",
    "img = img_transform(img)\n",
    "img = torch.unsqueeze(img, dim=0)\n",
    "\n",
    "with open('../data/cassava-leaf-disease-classification/label_num_to_disease_map.json', 'r') as f:\n",
    "    sorted_class = json.load(f)\n",
    "# print(sorted_class)\n",
    "net.load_state_dict(torch.load('../path/Net_best.pth'))\n",
    "net.eval()\n",
    "\n",
    "with torch.no_grad():\n",
    "    output = torch.squeeze(net(img))\n",
    "    predict = torch.softmax(output, dim=0)\n",
    "    p_class = torch.argmax(predict).numpy()\n",
    "    print(p_class, sorted_class[str(p_class)], predict[p_class].item())"
   ],
   "metadata": {
    "collapsed": false
   },
   "id": "c1c68e0fb83396b",
   "execution_count": null
  },
  {
   "cell_type": "markdown",
   "source": [],
   "metadata": {
    "collapsed": false
   },
   "id": "1f6b0e16c045758b"
  },
  {
   "cell_type": "code",
   "outputs": [],
   "source": [
    "import csv\n",
    "\n",
    "output_path = 'submission.csv'\n",
    "with open(output_path, mode='w', newline='') as file:\n",
    "    writer = csv.writer(file)\n",
    "    writer.writerow( ['image_id', 'label'] )\n",
    "    writer.writerow( ['2216849948.jpg', p_class ] )"
   ],
   "metadata": {
    "collapsed": false
   },
   "id": "43d200f913f48ae",
   "execution_count": null
  },
  {
   "cell_type": "code",
   "outputs": [],
   "source": [],
   "metadata": {
    "collapsed": false
   },
   "id": "4c5ccc7c2c51333a",
   "execution_count": null
  }
 ],
 "metadata": {
  "kernelspec": {
   "display_name": "Python 3",
   "language": "python",
   "name": "python3"
  },
  "language_info": {
   "codemirror_mode": {
    "name": "ipython",
    "version": 2
   },
   "file_extension": ".py",
   "mimetype": "text/x-python",
   "name": "python",
   "nbconvert_exporter": "python",
   "pygments_lexer": "ipython2",
   "version": "2.7.6"
  }
 },
 "nbformat": 4,
 "nbformat_minor": 5
}
