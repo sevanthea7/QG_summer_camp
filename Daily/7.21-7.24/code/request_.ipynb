{
 "cells": [
  {
   "cell_type": "code",
   "execution_count": 42,
   "id": "initial_id",
   "metadata": {
    "collapsed": true,
    "ExecuteTime": {
     "end_time": "2024-07-21T12:53:00.440421900Z",
     "start_time": "2024-07-21T12:53:00.435656500Z"
    }
   },
   "outputs": [],
   "source": [
    "import requests\n",
    "import argparse\n",
    "import sys"
   ]
  },
  {
   "cell_type": "code",
   "outputs": [],
   "source": [
    "Pytorch_REST_API_URL = 'http://127.0.0.1:5000/predict'"
   ],
   "metadata": {
    "collapsed": false,
    "ExecuteTime": {
     "end_time": "2024-07-21T12:53:00.449076900Z",
     "start_time": "2024-07-21T12:53:00.440939500Z"
    }
   },
   "id": "204abfbf9d52c4b7",
   "execution_count": 43
  },
  {
   "cell_type": "code",
   "outputs": [],
   "source": [
    "def predict_result( image_path ):\n",
    "    image = open( image_path, 'rb' ).read()\n",
    "    payload = { 'image': image }\n",
    "    \n",
    "    # 发送request请求\n",
    "    r = requests.post( Pytorch_REST_API_URL, file = payload ).json()\n",
    "    \n",
    "    if r[ 'success' ]:\n",
    "        for ( i, result ) in enumerate( r[ 'predictions' ] ):\n",
    "            print( '{}.{}:{:4f}'.format( i + 1, result[ 'label' ], result[ 'posibility' ] ) )\n",
    "    else:\n",
    "        print( 'request failed' )\n",
    "        "
   ],
   "metadata": {
    "collapsed": false,
    "ExecuteTime": {
     "end_time": "2024-07-21T12:53:00.449076900Z",
     "start_time": "2024-07-21T12:53:00.445067400Z"
    }
   },
   "id": "43f71db1398c9868",
   "execution_count": 44
  },
  {
   "cell_type": "code",
   "outputs": [
    {
     "ename": "NameError",
     "evalue": "name 'sys' is not defined",
     "output_type": "error",
     "traceback": [
      "\u001B[1;31m---------------------------------------------------------------------------\u001B[0m",
      "\u001B[1;31mNameError\u001B[0m                                 Traceback (most recent call last)",
      "Cell \u001B[1;32mIn[1], line 1\u001B[0m\n\u001B[1;32m----> 1\u001B[0m sys\u001B[38;5;241m.\u001B[39margv \u001B[38;5;241m=\u001B[39m [\u001B[38;5;124m'\u001B[39m\u001B[38;5;124mipykernel_launcher.py\u001B[39m\u001B[38;5;124m'\u001B[39m, \u001B[38;5;124m'\u001B[39m\u001B[38;5;124m--file\u001B[39m\u001B[38;5;124m'\u001B[39m, \u001B[38;5;124m'\u001B[39m\u001B[38;5;124m../data/test1.jpg\u001B[39m\u001B[38;5;124m'\u001B[39m]\n\u001B[0;32m      3\u001B[0m parser \u001B[38;5;241m=\u001B[39m argparse\u001B[38;5;241m.\u001B[39mArgumentParser( description\u001B[38;5;241m=\u001B[39m\u001B[38;5;124m'\u001B[39m\u001B[38;5;124mClassifier\u001B[39m\u001B[38;5;124m'\u001B[39m )\n\u001B[0;32m      4\u001B[0m parser\u001B[38;5;241m.\u001B[39madd_argument( \u001B[38;5;124m'\u001B[39m\u001B[38;5;124m--file\u001B[39m\u001B[38;5;124m'\u001B[39m, \u001B[38;5;28mtype\u001B[39m \u001B[38;5;241m=\u001B[39m \u001B[38;5;28mstr\u001B[39m, help \u001B[38;5;241m=\u001B[39m \u001B[38;5;124m'\u001B[39m\u001B[38;5;124mtest image file\u001B[39m\u001B[38;5;124m'\u001B[39m )\n",
      "\u001B[1;31mNameError\u001B[0m: name 'sys' is not defined"
     ]
    }
   ],
   "source": [
    "sys.argv = ['ipykernel_launcher.py', '--file', '../data/test1.jpg']\n",
    "\n",
    "parser = argparse.ArgumentParser( description='Classifier' )\n",
    "parser.add_argument( '--file', type = str, help = 'test image file' )\n",
    "\n",
    "args = parser.parse_args()\n",
    "predict_result( args.file )"
   ],
   "metadata": {
    "collapsed": false,
    "ExecuteTime": {
     "end_time": "2024-07-22T06:43:50.608180700Z",
     "start_time": "2024-07-22T06:43:50.216762300Z"
    }
   },
   "id": "75fbe6061183ac2d",
   "execution_count": 1
  }
 ],
 "metadata": {
  "kernelspec": {
   "display_name": "Python 3",
   "language": "python",
   "name": "python3"
  },
  "language_info": {
   "codemirror_mode": {
    "name": "ipython",
    "version": 2
   },
   "file_extension": ".py",
   "mimetype": "text/x-python",
   "name": "python",
   "nbconvert_exporter": "python",
   "pygments_lexer": "ipython2",
   "version": "2.7.6"
  }
 },
 "nbformat": 4,
 "nbformat_minor": 5
}
