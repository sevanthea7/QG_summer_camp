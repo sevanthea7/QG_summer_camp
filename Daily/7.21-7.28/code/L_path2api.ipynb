{
 "cells": [
  {
   "cell_type": "code",
   "execution_count": null,
   "id": "initial_id",
   "metadata": {
    "collapsed": true
   },
   "outputs": [],
   "source": [
    "from flask import Flask, jsonify, request\n",
    "import torch\n",
    "from torchvision import transforms\n",
    "from PIL import Image\n",
    "import io"
   ]
  },
  {
   "cell_type": "code",
   "outputs": [],
   "source": [
    "app = Flask( __name__ )"
   ],
   "metadata": {
    "collapsed": false
   },
   "id": "28e30eb6a8dac4b0"
  },
  {
   "cell_type": "code",
   "outputs": [],
   "source": [
    "model = torch.load( '../data/model.pth' )\n",
    "model.eval()"
   ],
   "metadata": {
    "collapsed": false
   },
   "id": "135cb59dadecf39e"
  },
  {
   "cell_type": "code",
   "outputs": [],
   "source": [
    "def transform_image(image_bytes):\n",
    "    transform = transforms.Compose( [\n",
    "        transforms.Resize(255),\n",
    "        transforms.CenterCrop(224),\n",
    "        transforms.ToTensor(),\n",
    "        transforms.Normalize( [0.485, 0.456, 0.406], \n",
    "                              [0.229, 0.224, 0.225])\n",
    "        ] )\n",
    "    image = Image.open( io.BytesIO( image_bytes ) )\n",
    "    return transform( image ).unsqueeze( 0 )\n",
    "\n",
    "\n",
    "\n",
    "def get_prediction( image_bytes ):\n",
    "    tensor = transform_image( image_bytes) \n",
    "    outputs = model.forward( tensor )\n",
    "    _, y = outputs.max( 1 )\n",
    "    return y.item()\n"
   ],
   "metadata": {
    "collapsed": false
   },
   "id": "ec7601fbe91588bb"
  },
  {
   "cell_type": "code",
   "outputs": [],
   "source": [
    "@app.route('/predict', methods=['POST'])\n",
    "def predict():\n",
    "    if 'image' not in request.files:\n",
    "        return jsonify({'error': 'No image provided'}), 400\n",
    "\n",
    "    image = request.files['image']\n",
    "    image_bytes = image.read()\n",
    "    prediction = get_prediction(image_bytes)\n",
    "    return jsonify({'prediction': prediction}), 200"
   ],
   "metadata": {
    "collapsed": false
   },
   "id": "d08b84579316f4c9"
  }
 ],
 "metadata": {
  "kernelspec": {
   "display_name": "Python 3",
   "language": "python",
   "name": "python3"
  },
  "language_info": {
   "codemirror_mode": {
    "name": "ipython",
    "version": 2
   },
   "file_extension": ".py",
   "mimetype": "text/x-python",
   "name": "python",
   "nbconvert_exporter": "python",
   "pygments_lexer": "ipython2",
   "version": "2.7.6"
  }
 },
 "nbformat": 4,
 "nbformat_minor": 5
}
