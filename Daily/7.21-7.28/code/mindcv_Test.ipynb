{
 "cells": [
  {
   "cell_type": "code",
   "execution_count": 5,
   "id": "initial_id",
   "metadata": {
    "collapsed": true,
    "ExecuteTime": {
     "end_time": "2024-07-22T07:12:47.684058100Z",
     "start_time": "2024-07-22T07:12:47.662296900Z"
    }
   },
   "outputs": [
    {
     "ename": "ModuleNotFoundError",
     "evalue": "No module named 'mindcv'",
     "output_type": "error",
     "traceback": [
      "\u001B[1;31m---------------------------------------------------------------------------\u001B[0m",
      "\u001B[1;31mModuleNotFoundError\u001B[0m                       Traceback (most recent call last)",
      "Cell \u001B[1;32mIn[5], line 1\u001B[0m\n\u001B[1;32m----> 1\u001B[0m \u001B[38;5;28;01mimport\u001B[39;00m \u001B[38;5;21;01mmindcv\u001B[39;00m\n\u001B[0;32m      2\u001B[0m dataset \u001B[38;5;241m=\u001B[39m mindcv\u001B[38;5;241m.\u001B[39mcreate_dataset(\u001B[38;5;124m'\u001B[39m\u001B[38;5;124mcifar10\u001B[39m\u001B[38;5;124m'\u001B[39m, download\u001B[38;5;241m=\u001B[39m\u001B[38;5;28;01mTrue\u001B[39;00m)\n\u001B[0;32m      3\u001B[0m network \u001B[38;5;241m=\u001B[39m mindcv\u001B[38;5;241m.\u001B[39mcreate_model(\u001B[38;5;124m'\u001B[39m\u001B[38;5;124mresnet50\u001B[39m\u001B[38;5;124m'\u001B[39m, pretrained\u001B[38;5;241m=\u001B[39m\u001B[38;5;28;01mTrue\u001B[39;00m)\n",
      "\u001B[1;31mModuleNotFoundError\u001B[0m: No module named 'mindcv'"
     ]
    }
   ],
   "source": [
    "import mindcv\n",
    "dataset = mindcv.create_dataset('cifar10', download=True)\n",
    "network = mindcv.create_model('resnet50', pretrained=True)"
   ]
  },
  {
   "cell_type": "code",
   "outputs": [],
   "source": [],
   "metadata": {
    "collapsed": false,
    "ExecuteTime": {
     "start_time": "2024-07-22T07:10:21.259932800Z"
    }
   },
   "id": "275bb23a2bd8b169",
   "execution_count": null
  },
  {
   "cell_type": "code",
   "outputs": [],
   "source": [],
   "metadata": {
    "collapsed": false,
    "ExecuteTime": {
     "end_time": "2024-07-22T07:10:21.268097200Z",
     "start_time": "2024-07-22T07:10:21.260931Z"
    }
   },
   "id": "98e3bbb38dea46cc"
  }
 ],
 "metadata": {
  "kernelspec": {
   "display_name": "Python 3",
   "language": "python",
   "name": "python3"
  },
  "language_info": {
   "codemirror_mode": {
    "name": "ipython",
    "version": 2
   },
   "file_extension": ".py",
   "mimetype": "text/x-python",
   "name": "python",
   "nbconvert_exporter": "python",
   "pygments_lexer": "ipython2",
   "version": "2.7.6"
  }
 },
 "nbformat": 4,
 "nbformat_minor": 5
}
