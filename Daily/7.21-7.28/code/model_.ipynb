{
 "cells": [
  {
   "cell_type": "code",
   "execution_count": 46,
   "id": "initial_id",
   "metadata": {
    "collapsed": true,
    "ExecuteTime": {
     "end_time": "2024-07-21T12:46:57.294752900Z",
     "start_time": "2024-07-21T12:46:57.283645Z"
    }
   },
   "outputs": [],
   "source": [
    "import io\n",
    "import json\n",
    "import flask\n",
    "import torch\n",
    "import torch.nn as nn\n",
    "import torch.nn.functional as F\n",
    "from PIL import Image\n",
    "from torchvision import transforms\n",
    "from torchvision.models import resnet50\n",
    "from torch.autograd import Variable"
   ]
  },
  {
   "cell_type": "markdown",
   "source": [
    "使用时需要更改的三个东西\n",
    "1. 模型\n",
    "2. 数据预处理方法\n",
    "3. 想要的请求和想要得到的结果"
   ],
   "metadata": {
    "collapsed": false
   },
   "id": "48937524d3d3ae44"
  },
  {
   "cell_type": "code",
   "outputs": [],
   "source": [
    "app = flask.Flask(__name__)\n",
    "model = None\n",
    "use_gpu = False"
   ],
   "metadata": {
    "collapsed": false,
    "ExecuteTime": {
     "end_time": "2024-07-21T12:46:57.309348800Z",
     "start_time": "2024-07-21T12:46:57.289757Z"
    }
   },
   "id": "ef88bde772a97a6a",
   "execution_count": 47
  },
  {
   "cell_type": "code",
   "outputs": [],
   "source": [
    "with open( '../data/imagenet_class_index.txt', 'r' ) as f:\n",
    "    idx2lbl = eval( f.read() )"
   ],
   "metadata": {
    "collapsed": false,
    "ExecuteTime": {
     "end_time": "2024-07-21T12:46:57.309348800Z",
     "start_time": "2024-07-21T12:46:57.299966400Z"
    }
   },
   "id": "f5a907fac60fafe3",
   "execution_count": 48
  },
  {
   "cell_type": "code",
   "outputs": [],
   "source": [
    "def load_model():\n",
    "    global model\n",
    "    model = resnet50( pretrained=True )\n",
    "    model.eval()\n",
    "    \n",
    "    if use_gpu:\n",
    "        model.cuda() "
   ],
   "metadata": {
    "collapsed": false,
    "ExecuteTime": {
     "end_time": "2024-07-21T12:46:57.309348800Z",
     "start_time": "2024-07-21T12:46:57.306364900Z"
    }
   },
   "id": "80c3000cdb9778c4",
   "execution_count": 49
  },
  {
   "cell_type": "code",
   "outputs": [],
   "source": [
    "def prepare_image( image, target_size ):\n",
    "    if image.mode != 'RGB':\n",
    "        image = image.convert( 'RGB' )\n",
    "        \n",
    "    image = transforms.Resize( target_size )( image )\n",
    "    image = transforms.ToTensor()( image )\n",
    "    image = transforms.Normalize( mean=[0.485, 0.456, 0.406], std=[0.229, 0.224, 0.225] )( image )\n",
    "    \n",
    "    image = image[ None ]\n",
    "    if use_gpu:\n",
    "        image = image.cuda()\n",
    "    return Variable( image, volatile = True )\n",
    "\n",
    "    "
   ],
   "metadata": {
    "collapsed": false,
    "ExecuteTime": {
     "end_time": "2024-07-21T12:46:57.316700100Z",
     "start_time": "2024-07-21T12:46:57.312354100Z"
    }
   },
   "id": "123b758d4275ffd1",
   "execution_count": 50
  },
  {
   "cell_type": "markdown",
   "source": [
    "开启服务"
   ],
   "metadata": {
    "collapsed": false
   },
   "id": "2af72418a5cf0ad7"
  },
  {
   "cell_type": "code",
   "outputs": [],
   "source": [
    "@app.route( '/predict', methods = [ 'POST' ] )\n",
    "def predict():\n",
    "    data = { 'success': False }\n",
    "    \n",
    "    if flask.request.files.get( 'image' ):\n",
    "        image = flask.request.files[ 'image' ].read()\n",
    "        image = Image.open( io.BytesIO(image) )\n",
    "        \n",
    "        image = prepare_image( image, target_size = ( 224, 224 ) )\n",
    "        \n",
    "        predicts = F.softmax( model( image ), dim = 1 )\n",
    "        results = torch.topk( predicts.cpu().data, k = 3, dim = 1 )         # 可能性最大的k个预测结果\n",
    "        \n",
    "        data[ 'predictions' ] = list()\n",
    "        \n",
    "        for prob, label in zip( results[0][0], results[1][0] ):\n",
    "            label_name = idx2lbl[ label ]\n",
    "            r = { 'label': label_name, 'probability': float( prob ) }\n",
    "            data[ 'predictions' ].append( r )\n",
    "            \n",
    "        data[ 'success' ] = True\n",
    "        \n",
    "        \n",
    "    return flask.jasonify( data )"
   ],
   "metadata": {
    "collapsed": false,
    "ExecuteTime": {
     "end_time": "2024-07-21T12:46:57.323276600Z",
     "start_time": "2024-07-21T12:46:57.315701900Z"
    }
   },
   "id": "6aef689a80d480bf",
   "execution_count": 51
  },
  {
   "cell_type": "code",
   "outputs": [
    {
     "name": "stdout",
     "output_type": "stream",
     "text": [
      " * Serving Flask app '__main__'\n",
      " * Debug mode: off\n"
     ]
    },
    {
     "name": "stderr",
     "output_type": "stream",
     "text": [
      "WARNING: This is a development server. Do not use it in a production deployment. Use a production WSGI server instead.\n",
      " * Running on http://127.0.0.1:5000\n",
      "Press CTRL+C to quit\n",
      "C:\\Users\\EC319\\AppData\\Local\\Temp\\ipykernel_11636\\3025148707.py:12: UserWarning: volatile was removed and now has no effect. Use `with torch.no_grad():` instead.\n",
      "  return Variable( image, volatile = True )\n",
      "[2024-07-21 20:47:02,809] ERROR in app: Exception on /predict [POST]\n",
      "Traceback (most recent call last):\n",
      "  File \"D:\\anaconda\\Lib\\site-packages\\flask\\app.py\", line 2529, in wsgi_app\n",
      "    response = self.full_dispatch_request()\n",
      "               ^^^^^^^^^^^^^^^^^^^^^^^^^^^^\n",
      "  File \"D:\\anaconda\\Lib\\site-packages\\flask\\app.py\", line 1825, in full_dispatch_request\n",
      "    rv = self.handle_user_exception(e)\n",
      "         ^^^^^^^^^^^^^^^^^^^^^^^^^^^^^\n",
      "  File \"D:\\anaconda\\Lib\\site-packages\\flask\\app.py\", line 1823, in full_dispatch_request\n",
      "    rv = self.dispatch_request()\n",
      "         ^^^^^^^^^^^^^^^^^^^^^^^\n",
      "  File \"D:\\anaconda\\Lib\\site-packages\\flask\\app.py\", line 1799, in dispatch_request\n",
      "    return self.ensure_sync(self.view_functions[rule.endpoint])(**view_args)\n",
      "           ^^^^^^^^^^^^^^^^^^^^^^^^^^^^^^^^^^^^^^^^^^^^^^^^^^^^^^^^^^^^^^^^^\n",
      "  File \"C:\\Users\\EC319\\AppData\\Local\\Temp\\ipykernel_11636\\1927850404.py\", line 17, in predict\n",
      "    label_name = idx2lbl[ label ]\n",
      "                 ~~~~~~~^^^^^^^^~\n",
      "KeyError: tensor(285)\n",
      "127.0.0.1 - - [21/Jul/2024 20:47:02] \"POST /predict HTTP/1.1\" 500 -\n",
      "[2024-07-21 20:48:44,589] ERROR in app: Exception on /predict [POST]\n",
      "Traceback (most recent call last):\n",
      "  File \"D:\\anaconda\\Lib\\site-packages\\flask\\app.py\", line 2529, in wsgi_app\n",
      "    response = self.full_dispatch_request()\n",
      "               ^^^^^^^^^^^^^^^^^^^^^^^^^^^^\n",
      "  File \"D:\\anaconda\\Lib\\site-packages\\flask\\app.py\", line 1825, in full_dispatch_request\n",
      "    rv = self.handle_user_exception(e)\n",
      "         ^^^^^^^^^^^^^^^^^^^^^^^^^^^^^\n",
      "  File \"D:\\anaconda\\Lib\\site-packages\\flask\\app.py\", line 1823, in full_dispatch_request\n",
      "    rv = self.dispatch_request()\n",
      "         ^^^^^^^^^^^^^^^^^^^^^^^\n",
      "  File \"D:\\anaconda\\Lib\\site-packages\\flask\\app.py\", line 1799, in dispatch_request\n",
      "    return self.ensure_sync(self.view_functions[rule.endpoint])(**view_args)\n",
      "           ^^^^^^^^^^^^^^^^^^^^^^^^^^^^^^^^^^^^^^^^^^^^^^^^^^^^^^^^^^^^^^^^^\n",
      "  File \"C:\\Users\\EC319\\AppData\\Local\\Temp\\ipykernel_11636\\1927850404.py\", line 17, in predict\n",
      "    label_name = idx2lbl[ label ]\n",
      "                 ~~~~~~~^^^^^^^^~\n",
      "KeyError: tensor(285)\n",
      "127.0.0.1 - - [21/Jul/2024 20:48:44] \"POST /predict HTTP/1.1\" 500 -\n"
     ]
    }
   ],
   "source": [
    "load_model()\n",
    "app.run()"
   ],
   "metadata": {
    "collapsed": false,
    "ExecuteTime": {
     "end_time": "2024-07-21T12:55:04.433654600Z",
     "start_time": "2024-07-21T12:46:57.325278600Z"
    }
   },
   "id": "36ad4880ab37930b",
   "execution_count": 52
  }
 ],
 "metadata": {
  "kernelspec": {
   "display_name": "Python 3",
   "language": "python",
   "name": "python3"
  },
  "language_info": {
   "codemirror_mode": {
    "name": "ipython",
    "version": 2
   },
   "file_extension": ".py",
   "mimetype": "text/x-python",
   "name": "python",
   "nbconvert_exporter": "python",
   "pygments_lexer": "ipython2",
   "version": "2.7.6"
  }
 },
 "nbformat": 4,
 "nbformat_minor": 5
}
