{
 "cells": [
  {
   "cell_type": "code",
   "execution_count": 1,
   "id": "initial_id",
   "metadata": {
    "collapsed": true,
    "ExecuteTime": {
     "end_time": "2024-07-30T07:23:25.833703100Z",
     "start_time": "2024-07-30T07:23:21.089559700Z"
    }
   },
   "outputs": [],
   "source": [
    "import jieba\n",
    "import pandas as pd"
   ]
  },
  {
   "cell_type": "code",
   "outputs": [],
   "source": [
    "def load_tsv( path ):\n",
    "    data = pd.read_csv( path, sep = '\\t' )\n",
    "    data_x = data.iloc[ :, -1 ]\n",
    "    data_y = data.iloc[ :, 1 ]\n",
    "    return data_x, data_y"
   ],
   "metadata": {
    "collapsed": false,
    "ExecuteTime": {
     "end_time": "2024-07-30T07:23:25.839546700Z",
     "start_time": "2024-07-30T07:23:25.833703100Z"
    }
   },
   "id": "c0e4856ea6055d70",
   "execution_count": 2
  },
  {
   "cell_type": "code",
   "outputs": [],
   "source": [
    "def save_data( data_x, path ):\n",
    "    with open( path, 'w', encoding = 'UTF8' ) as f:\n",
    "        for lines in data_x:\n",
    "            for i, line in enumerate( lines ):\n",
    "                f.write( str( line ) )\n",
    "                if i != len( lines ) - 1:                   # 如果不是最后一行\n",
    "                    f.write( ',' )\n",
    "            f.write( '\\n' )"
   ],
   "metadata": {
    "collapsed": false,
    "ExecuteTime": {
     "end_time": "2024-07-30T07:23:25.854010200Z",
     "start_time": "2024-07-30T07:23:25.839546700Z"
    }
   },
   "id": "b03b657884b3cc4a",
   "execution_count": 3
  },
  {
   "cell_type": "code",
   "outputs": [],
   "source": [
    "def drop_stopword( datas ):                                 # 去掉停用词、无意义符号\n",
    "    for data in datas:\n",
    "        for word in data:\n",
    "            if word in stop_words:\n",
    "                data.remove( word )\n",
    "    return datas"
   ],
   "metadata": {
    "collapsed": false,
    "ExecuteTime": {
     "end_time": "2024-07-30T07:23:25.854010200Z",
     "start_time": "2024-07-30T07:23:25.846333700Z"
    }
   },
   "id": "e850c45de8ce98a",
   "execution_count": 4
  },
  {
   "cell_type": "code",
   "outputs": [
    {
     "name": "stderr",
     "output_type": "stream",
     "text": [
      "Building prefix dict from the default dictionary ...\n",
      "Dumping model to file cache C:\\Users\\EC319\\AppData\\Local\\Temp\\jieba.cache\n",
      "Loading model cost 0.599 seconds.\n",
      "Prefix dict has been built successfully.\n"
     ]
    }
   ],
   "source": [
    "train_x, train_y = load_tsv( '../data/train.tsv' )\n",
    "train_x = [ list( jieba.cut( x ) ) for x in train_x ]       # 利用中文分词组件对训练集测试集分别进行分词 \n",
    "\n",
    "test_x, test_y = load_tsv( '../data/test.tsv' )\n",
    "test_x = [ list( jieba.cut( x ) ) for x in test_x ]"
   ],
   "metadata": {
    "collapsed": false,
    "ExecuteTime": {
     "end_time": "2024-07-30T07:23:32.994128Z",
     "start_time": "2024-07-30T07:23:25.851771800Z"
    }
   },
   "id": "b6025add27f9d1f0",
   "execution_count": 5
  },
  {
   "cell_type": "code",
   "outputs": [
    {
     "name": "stdout",
     "output_type": "stream",
     "text": [
      "data preprocessed successfully\n"
     ]
    }
   ],
   "source": [
    "with open( '../data/cn_stopwords.txt', 'r', encoding = 'UTF8' ) as f:\n",
    "    stop_words = [ word.strip() for word in f.readlines() ]\n",
    "    \n",
    "    \n",
    "train_x = drop_stopword( train_x )\n",
    "test_x = drop_stopword( test_x )\n",
    "\n",
    "save_data( train_x, '../data/train.txt' )\n",
    "save_data( test_x, '../data/test.txt' )\n",
    "\n",
    "print( 'data preprocessed successfully' )"
   ],
   "metadata": {
    "collapsed": false,
    "ExecuteTime": {
     "end_time": "2024-07-30T07:23:38.646464800Z",
     "start_time": "2024-07-30T07:23:32.996545100Z"
    }
   },
   "id": "eada4b01fa472789",
   "execution_count": 6
  }
 ],
 "metadata": {
  "kernelspec": {
   "display_name": "Python 3",
   "language": "python",
   "name": "python3"
  },
  "language_info": {
   "codemirror_mode": {
    "name": "ipython",
    "version": 2
   },
   "file_extension": ".py",
   "mimetype": "text/x-python",
   "name": "python",
   "nbconvert_exporter": "python",
   "pygments_lexer": "ipython2",
   "version": "2.7.6"
  }
 },
 "nbformat": 4,
 "nbformat_minor": 5
}
