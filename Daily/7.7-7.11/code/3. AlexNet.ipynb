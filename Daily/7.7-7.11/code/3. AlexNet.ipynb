{
 "cells": [
  {
   "cell_type": "code",
   "outputs": [],
   "source": [
    "import torch\n",
    "import torch.nn as nn"
   ],
   "metadata": {
    "collapsed": true,
    "ExecuteTime": {
     "end_time": "2024-07-29T07:29:21.350674600Z",
     "start_time": "2024-07-29T07:29:21.311745200Z"
    }
   },
   "id": "initial_id",
   "execution_count": 7
  },
  {
   "cell_type": "markdown",
   "source": [
    "Conv2d: 改变深度\n",
    "MaxPool2d: 改变长宽"
   ],
   "metadata": {
    "collapsed": false
   },
   "id": "ef3c7fc6f8e8d3c1"
  },
  {
   "cell_type": "code",
   "outputs": [],
   "source": [
    "class AlexNet( nn.Module ):\n",
    "    def __init__( self, num_classes, init_weights ):\n",
    "        super( AlexNet, self ).__init__()\n",
    "        self.method = nn.Sequential(\n",
    "            nn.Conv2d( 3, 48, kernel_size = 11, stride = 4, padding =2 ),           \n",
    "            # in: 3, 224, 224   (224-11+2)/4 + 1 = (为了保证是整数所以选择性删去最后一行) out: 48, 55, 55\n",
    "            nn.ReLU( inplace=True ),\n",
    "            nn.MaxPool2d( kernel_size = 3, stride = 2 ),            # (55-3)/2 + 1 = 27     out: 48, 27, 27\n",
    "            \n",
    "            nn.Conv2d( 48, 128, kernel_size = 5, padding = 2 ),     # out: 128, 27, 27\n",
    "            nn.ReLU( inplace=True ),\n",
    "            nn.MaxPool2d( kernel_size = 3, stride = 2 ),            # (27-5+2)/2 + 1 = 13   out: 128, 13, 13\n",
    "            \n",
    "            nn.Conv2d( 128, 192, kernel_size = 3, padding = 1 ),    # out: 192, 13, 13\n",
    "            nn.ReLU( inplace=True ),\n",
    "            \n",
    "            nn.Conv2d( 192, 192, kernel_size = 3, padding = 1 ),    # out: 192, 13, 13\n",
    "            nn.ReLU( inplace=True ),\n",
    "            \n",
    "            nn.Conv2d( 192, 128, kernel_size = 3, padding = 1 ),    # out: 128, 13, 13\n",
    "            nn.ReLU( inplace=True ),\n",
    "            \n",
    "            nn.MaxPool2d( kernel_size = 3, stride = 2 )             # (13-3)/2 +1 = 6       out: 128, 6, 6\n",
    "        )\n",
    "        self.classifier = nn.Sequential(\n",
    "            nn.Dropout( p = 0.5 ),              # 以0.5的概率随机失活节点\n",
    "            nn.Linear( 128 * 6 * 6, 2048 ),     # 规定接下来的全连接层有2048个节点\n",
    "            nn.ReLU( inplace=True ),\n",
    "            \n",
    "            nn.Dropout( p = 0.5 ),              # 全连接层连接之前进行随机失活操作\n",
    "            nn.Linear( 2048, 2048 ),\n",
    "            nn.ReLU( inplace=True ),\n",
    "            \n",
    "            nn.Linear( 2048, num_classes ),\n",
    "        )\n",
    "        if init_weights:\n",
    "            self._initialize_weights()\n",
    "            \n",
    "    def forward( self, x ):\n",
    "        x = self.method( x )\n",
    "        x = torch.flatten( x, start_dim = 1 )   # 深度、高度、宽度展平，不改变batch\n",
    "        return self.classifier( x )\n",
    "        \n",
    "        \n",
    "        \n",
    "    def _initialize_weights( self ):            # 初始化权重的方法\n",
    "        for m in self.modules():\n",
    "            if isinstance( m, nn.Conv2d ):      # 如果m是卷积层的话，初始化它的权重和偏值\n",
    "                nn.init.kaiming_normal_( m.weight, mode='fan_out' )\n",
    "                if m.bias is not None:\n",
    "                    nn.init.constant_( m.bias, 0 )\n",
    "            elif isinstance( m, nn.Linear ):\n",
    "                nn.init.normal_( m.weight, 0, 0.01 )\n",
    "                nn.init.constant_( m.bias, 0 )\n",
    "            "
   ],
   "metadata": {
    "collapsed": false,
    "ExecuteTime": {
     "end_time": "2024-07-29T07:29:21.351674100Z",
     "start_time": "2024-07-29T07:29:21.319261300Z"
    }
   },
   "id": "6114ce895f415d4d",
   "execution_count": 8
  },
  {
   "cell_type": "markdown",
   "source": [
    "导入数据集\n",
    "\n",
    "- ImageFolder函数假设所有的文件按文件夹保存，每个文件夹下存储同一类别的图片，文件夹名为类别名\n",
    "- json\n",
    "    - json.load：表示读取文件，返回python对象\n",
    "    - json.dump：表示写入文件，文件为json字符串格式，无返回\n",
    "    - json.dumps：将python中的字典类型转换为字符串类型，返回json字符串 [dict→str]   -> indent参数，格式化输出\n",
    "    - json.loads：将json字符串转换为字典类型，返回python对象 [str→dict]"
   ],
   "metadata": {
    "collapsed": false
   },
   "id": "dfc0fa5dee473764"
  },
  {
   "cell_type": "code",
   "outputs": [],
   "source": [
    "from torchvision import transforms, datasets, utils\n",
    "import torch.optim as optim\n",
    "import matplotlib.pyplot as plt\n",
    "import numpy as np\n",
    "import json\n",
    "\n",
    "device = torch.device( \"cuda:0\" if torch.cuda.is_available() else\"cpu\" )\n",
    "\n",
    "data_pre = {\n",
    "    \"train\": transforms.Compose( [ transforms.RandomResizedCrop( 224 ),                     # 随机裁剪为大小为224*224的图片\n",
    "                                   transforms.RandomHorizontalFlip(),                       # 随机水平方向翻转图片，默认概率0.5\n",
    "                                   transforms.ToTensor(),                                   # 将图片转为Tensor格式\n",
    "                                   transforms.Normalize( ( 0.5, 0.5, 0.5 ), ( 0.5, 0.5, 0.5 ) ) ]\n",
    "    ),\n",
    "    \"val\": transforms.Compose( [ transforms.Resize( ( 224, 224 ) ),                         # 转成和随机裁剪一样的格式形状\n",
    "                                 transforms.ToTensor(),\n",
    "                                 transforms.Normalize( ( 0.5, 0.5, 0.5 ), ( 0.5, 0.5, 0.5 ) ) ]\n",
    "        \n",
    "    ),\n",
    "}\n",
    "\n",
    "train_dataset = datasets.ImageFolder( root = \"./data/flower_data/train\", transform = data_pre[ 'train' ] )\n",
    "train_num = len( train_dataset )\n",
    "test_dataset = datasets.ImageFolder( root = './data/flower_data/val', transform = data_pre[ 'val' ] )\n",
    "test_num = len( test_dataset )\n",
    "\n",
    "flower_list = train_dataset.class_to_idx                # {'daisy':0, 'dandelion':1, 'roses':2, 'sunflower':3, 'tulips':4}\n",
    "flower_dict = dict( ( val, key ) for key, val in flower_list.items() )     # 颠倒键值和值的顺序，方便一一对应\n",
    "json_s = json.dumps( flower_dict, indent = 4 )\n",
    "with open( './data/classes.json', 'w' ) as json_f:\n",
    "    json_f.write( json_s )\n",
    "    json_f.close()"
   ],
   "metadata": {
    "collapsed": false,
    "ExecuteTime": {
     "end_time": "2024-07-29T07:29:21.352676Z",
     "start_time": "2024-07-29T07:29:21.323205100Z"
    }
   },
   "id": "a954eb3e4ab81f48",
   "execution_count": 9
  },
  {
   "cell_type": "markdown",
   "source": [
    "划分训练集测试集"
   ],
   "metadata": {
    "collapsed": false
   },
   "id": "6975fa8a7af88b4c"
  },
  {
   "cell_type": "code",
   "outputs": [],
   "source": [
    "batch_size = 32\n",
    "\n",
    "trainloader = torch.utils.data.DataLoader( train_dataset, batch_size = batch_size, shuffle = True )\n",
    "testloader = torch.utils.data.DataLoader( test_dataset, batch_size = batch_size, shuffle = False )\n"
   ],
   "metadata": {
    "collapsed": false,
    "ExecuteTime": {
     "end_time": "2024-07-29T07:29:21.353675700Z",
     "start_time": "2024-07-29T07:29:21.348428800Z"
    }
   },
   "id": "91ff763ae235a387",
   "execution_count": 10
  },
  {
   "cell_type": "markdown",
   "source": [
    "测试图片"
   ],
   "metadata": {
    "collapsed": false
   },
   "id": "43946c3c2aecbbe0"
  },
  {
   "cell_type": "code",
   "outputs": [
    {
     "data": {
      "text/plain": "\"\\ntest_data_iter = iter( trainloader )\\ntest_img, test_lbl = test_data_iter.__next__()\\n\\ndef imshow(img):\\n    img = img / 2 * 0.5                                             # 还原transform对数据的预处理\\n    npimg = img.numpy()                                             # 转化成numpy格式\\n    plt.imshow( np.transpose( npimg, ( 1, 2, 0 ) ) )                # 高度，宽度，深度\\n    plt.show\\n    \\n    \\nprint( ' '.join( '%5s' % flower_dict[ test_lbl[j].item() ] for j in range( 4 ) ) )\\nimshow( utils.make_grid( test_img ) )\\n\""
     },
     "execution_count": 11,
     "metadata": {},
     "output_type": "execute_result"
    }
   ],
   "source": [
    "'''\n",
    "test_data_iter = iter( trainloader )\n",
    "test_img, test_lbl = test_data_iter.__next__()\n",
    "\n",
    "def imshow(img):\n",
    "    img = img / 2 * 0.5                                             # 还原transform对数据的预处理\n",
    "    npimg = img.numpy()                                             # 转化成numpy格式\n",
    "    plt.imshow( np.transpose( npimg, ( 1, 2, 0 ) ) )                # 高度，宽度，深度\n",
    "    plt.show\n",
    "    \n",
    "    \n",
    "print( ' '.join( '%5s' % flower_dict[ test_lbl[j].item() ] for j in range( 4 ) ) )\n",
    "imshow( utils.make_grid( test_img ) )\n",
    "'''"
   ],
   "metadata": {
    "collapsed": false,
    "ExecuteTime": {
     "end_time": "2024-07-29T07:29:21.387395100Z",
     "start_time": "2024-07-29T07:29:21.353675700Z"
    }
   },
   "id": "c7962072dcc124d",
   "execution_count": 11
  },
  {
   "cell_type": "code",
   "outputs": [
    {
     "name": "stdout",
     "output_type": "stream",
     "text": [
      " train loss: 15 %[ ******* -> .......................................... ]1.552"
     ]
    }
   ],
   "source": [
    "net = AlexNet( num_classes = 5, init_weights = True )\n",
    "net.to( device )\n",
    "loss_f = nn.CrossEntropyLoss()\n",
    "optimizer = optim.Adam( net.parameters(), lr = 0.001 )\n",
    "t_steps = len( trainloader )\n",
    "\n",
    "for epoch in range( 10 ):\n",
    "    net.train()\n",
    "    running_loss = 0.0                  # 每个epoch的损失\n",
    "    for step, data in enumerate( trainloader, start = 0 ):\n",
    "        imgs, labels = data\n",
    "        rate = ( ( step + 1 ) / t_steps )\n",
    "        optimizer.zero_grad()\n",
    "        outputs = net( imgs.to( device ) )\n",
    "        loss = loss_f( outputs, labels.to( device ) )\n",
    "        loss.backward()\n",
    "        optimizer.step()\n",
    "        running_loss += loss.item()\n",
    "        \n",
    "        a = '*' * int( rate * 50 )\n",
    "        b = '.' * int( ( 1 - rate ) * 50 )\n",
    "        print( '\\r train loss: {:^3.0f}%[ {} -> {} ]{:.3f}'.format( int( rate * 100 ),a, b, loss ), end = '' )\n",
    "    print()    \n",
    "    \n",
    "    net.eval()\n",
    "    r = 0.0                 # 用于记录预测正确的个数\n",
    "    best_R = 0.0\n",
    "    with torch.no_grad():\n",
    "        for data_test in testloader:\n",
    "            t_img, t_lbl = data_test\n",
    "            outputs = net( t_img.to( device ) )\n",
    "            pred_y = torch.max( outputs, dim = 1 )[1]\n",
    "            r += ( pred_y == t_lbl.to( device ) ).sum().item()\n",
    "        acc_R = r / test_num\n",
    "        if acc_R > best_R:\n",
    "            best_R = acc_R\n",
    "            torch.save( net.state_dict(), '../path/AlexNet_best.pth' )                # 随时记录最最优训练结果\n",
    "        print( '[epoch %d] train_loss: %.3f    test_accuracy: %.3f' % ( epoch + 1, running_loss, acc_R ) )\n",
    "        \n",
    "        \n",
    "    print( 'finished' )"
   ],
   "metadata": {
    "collapsed": false,
    "is_executing": true,
    "ExecuteTime": {
     "start_time": "2024-07-29T07:29:21.362300300Z"
    }
   },
   "id": "c3dc48be1c622125",
   "execution_count": null
  },
  {
   "cell_type": "markdown",
   "source": [
    "预测"
   ],
   "metadata": {
    "collapsed": false
   },
   "id": "4b1eaffd1679c20e"
  },
  {
   "cell_type": "code",
   "outputs": [],
   "source": [
    "from PIL import Image\n",
    "\n",
    "img_trans = transforms.Compose(\n",
    "    [ transforms.Resize( ( 224, 224 ) ),\n",
    "      transforms.ToTensor(),\n",
    "      transforms.Normalize( ( 0.5, 0.5, 0.5 ), ( 0.5, 0.5, 0.5 ) ) ]\n",
    ")\n",
    "\n",
    "img = Image.open( './data/test4.png' ).convert( 'RGB' )\n",
    "plt.imshow( img )"
   ],
   "metadata": {
    "collapsed": false,
    "is_executing": true
   },
   "id": "79acd965823b7e52",
   "execution_count": null
  },
  {
   "cell_type": "code",
   "outputs": [],
   "source": [
    "img = img_trans( img )\n",
    "# print( img.size() )\n",
    "img = torch.unsqueeze( img, dim = 0 )               # 补充batch项内容 -> 1\n",
    "# print( img.size() )\n",
    "\n",
    "with open( './data/classes.json', 'r' ) as f:\n",
    "    class_i = json.load( f )\n",
    "    \n",
    "    \n",
    "net.load_state_dict( torch.load( '../path/AlexNet_best.pth' ) )\n",
    "net.eval()\n",
    "with torch.no_grad():\n",
    "    output = torch.squeeze( net( img ) )\n",
    "    # print( output.size() )\n",
    "    predict = torch.softmax( output, dim = 0 )\n",
    "    # print( predict )\n",
    "    p_class = torch.argmax( predict ).numpy()\n",
    "    print( class_i[ str( p_class ) ], predict[ p_class ].item() )"
   ],
   "metadata": {
    "collapsed": false,
    "is_executing": true
   },
   "id": "d0b7822a484c3077",
   "execution_count": null
  }
 ],
 "metadata": {
  "kernelspec": {
   "display_name": "Python 3",
   "language": "python",
   "name": "python3"
  },
  "language_info": {
   "codemirror_mode": {
    "name": "ipython",
    "version": 2
   },
   "file_extension": ".py",
   "mimetype": "text/x-python",
   "name": "python",
   "nbconvert_exporter": "python",
   "pygments_lexer": "ipython2",
   "version": "2.7.6"
  }
 },
 "nbformat": 4,
 "nbformat_minor": 5
}
