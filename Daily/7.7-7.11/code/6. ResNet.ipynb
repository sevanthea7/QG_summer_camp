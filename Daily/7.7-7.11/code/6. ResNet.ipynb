{
 "cells": [
  {
   "cell_type": "code",
   "execution_count": 1,
   "id": "initial_id",
   "metadata": {
    "collapsed": true,
    "ExecuteTime": {
     "end_time": "2024-07-10T02:36:00.906405100Z",
     "start_time": "2024-07-10T02:35:56.594871400Z"
    }
   },
   "outputs": [],
   "source": [
    "import torch\n",
    "import torch.nn as nn"
   ]
  },
  {
   "cell_type": "markdown",
   "source": [
    "18层、34层"
   ],
   "metadata": {
    "collapsed": false
   },
   "id": "17c7b4527e2ccd84"
  },
  {
   "cell_type": "code",
   "outputs": [],
   "source": [
    "class BasicBlock( nn.Module ):\n",
    "    exp = 1\n",
    "    def __init__( self, in_channels, out_channels, stride = 1, downsample = None ):\n",
    "        super( BasicBlock, self ).__init__()\n",
    "        self.conv1 = nn.Conv2d( in_channels = in_channels,\n",
    "                                out_channels = out_channels, \n",
    "                                kernel_size = 3, \n",
    "                                stride = stride, \n",
    "                                padding = 1, \n",
    "                                bias = False )\n",
    "        self.bn1 = nn.BatchNorm2d( out_channels )\n",
    "        self.relu = nn.ReLU()\n",
    "        self.conv2 = nn.Conv2d( in_channels = out_channels,\n",
    "                                out_channels = out_channels,\n",
    "                                kernel_size = 3,\n",
    "                                stride = stride,\n",
    "                                padding = 1,\n",
    "                                bias = False )\n",
    "        self.bn2 = nn.BatchNorm2d( out_channels )\n",
    "        self.downsample = downsample                # 定义下采样方法，默认为None\n",
    "        \n",
    "        \n",
    "        def forward( self, x ):\n",
    "            idt = x\n",
    "            if self.downsample is not None:\n",
    "                idt = self.downsample( x )          # 如果下采样参数不为None就走捷径\n",
    "            \n",
    "            x = self.conv1( x )\n",
    "            x = self.bn1( x )\n",
    "            x = self.relu( x )\n",
    "            \n",
    "            x = self.conv2( x )\n",
    "            x = self.bn2( x )\n",
    "            \n",
    "            x += idt                                # 需要加上捷径输出之后再进入最后一个激活函数\n",
    "            return self.relu( x )"
   ],
   "metadata": {
    "collapsed": false,
    "ExecuteTime": {
     "end_time": "2024-07-10T02:36:00.914389400Z",
     "start_time": "2024-07-10T02:36:00.910403400Z"
    }
   },
   "id": "7876f27c5dda9623",
   "execution_count": 2
  },
  {
   "cell_type": "markdown",
   "source": [
    "50层、101层、152层"
   ],
   "metadata": {
    "collapsed": false
   },
   "id": "f750513286ab6084"
  },
  {
   "cell_type": "code",
   "outputs": [],
   "source": [
    "class Bottleneck( nn.Module ):\n",
    "    exp = 4                                         # 设置参数来构造第三层\n",
    "    def __init__( self, in_channels, out_channels, stride = 1, downsample = None ):\n",
    "        super( Bottleneck, self ).__init__()\n",
    "        self.conv1 = nn.Conv2d( in_channels = in_channels, \n",
    "                                out_channels = out_channels, \n",
    "                                kernel_size = 1, \n",
    "                                stride = stride, \n",
    "                                padding = 1, \n",
    "                                bias = False )\n",
    "        self.bn1 = nn.BatchNorm2d( out_channels )\n",
    "        self.relu = nn.ReLU()\n",
    "        self.conv2 = nn.Conv2d( in_channels = out_channels, \n",
    "                                out_channels = out_channels,\n",
    "                                kernel_size = 3, \n",
    "                                stride = stride, \n",
    "                                padding = 1, \n",
    "                                bias = False )\n",
    "        self.bn2 = nn.BatchNorm2d( out_channels )\n",
    "        self.conv3 = nn.Conv2d( in_channels = out_channels, \n",
    "                                out_channels = out_channels * self.exp, \n",
    "                                kernel_size = 1, \n",
    "                                padding = 1, \n",
    "                                bias = False )\n",
    "        self.relu = nn.ReLU( inplace = True )\n",
    "        self.downsample = downsample\n",
    "        \n",
    "    \n",
    "    def forward( self, x ):\n",
    "        idt = x\n",
    "        if self.downsample is not None:\n",
    "            idt = self.downsample( x )\n",
    "        \n",
    "        x = self.conv1( x )\n",
    "        x = self.bn1( x )\n",
    "        x = self.relu( x )\n",
    "        \n",
    "        x = self.conv2( x )\n",
    "        x = self.bn2( x )\n",
    "        x = self.relu( x )\n",
    "        \n",
    "        x = self.conv3( x )\n",
    "        x = self.bn3( x )\n",
    "        \n",
    "        x += idt\n",
    "        return self.relu( x )"
   ],
   "metadata": {
    "collapsed": false,
    "ExecuteTime": {
     "end_time": "2024-07-10T02:36:00.927532800Z",
     "start_time": "2024-07-10T02:36:00.919449100Z"
    }
   },
   "id": "9eef57bd7ef1a21c",
   "execution_count": 3
  },
  {
   "cell_type": "markdown",
   "source": [
    "![](https://sevanthea7.oss-cn-beijing.aliyuncs.com/QGworks/202407100843088.png)"
   ],
   "metadata": {
    "collapsed": false
   },
   "id": "e85e116d63673ff7"
  },
  {
   "cell_type": "code",
   "outputs": [],
   "source": [
    "class ResNet( nn.Module ):\n",
    "    '''\n",
    "    block：按照层数传入上面对应的类\n",
    "    block_num：按照表传入对应列表    18-layers: [ 2, 2, 2, 2 ]   34-layers: [ 3, 4, 6, 3 ], etc\n",
    "    '''\n",
    "    def __init__( self, block, block_num, num_classes, include_top = True ):\n",
    "        super( ResNet, self ).__init__()\n",
    "        self.include_top = include_top\n",
    "        self.in_channels = 64\n",
    "        \n",
    "        self.conv1 = nn.Conv2d( 3,                      # RGB图像，深度为3\n",
    "                                self.in_channels, \n",
    "                                kernel_size = 7, \n",
    "                                stride = 2,\n",
    "                                padding = 3,\n",
    "                                bias = False )\n",
    "        self.bn1 = nn.BatchNorm2d( self.in_channels )   # 卷积核个数变深度\n",
    "        self.relu = nn.ReLU( inplace = True )\n",
    "        self.maxpool = nn.MaxPool2d( kernel_size = 3, stride = 2, padding = 1 )\n",
    "        \n",
    "        self.layer1 = self._make_layer( block, 64, block_num[0] )\n",
    "        self.layer2 = self._make_layer( block, 128, block_num[1], stride = 2 )\n",
    "        self.layer3 = self._make_layer( block, 256, block_num[2], stride = 2 )\n",
    "        self.layer4 = self._make_layer( block, 512, block_num[3], stride = 2 )\n",
    "        \n",
    "        if self.include_top:\n",
    "            self.avgpool = nn.AdaptiveAvgPool2d( ( 1, 1 ) )                 # 自适应平均池化下采样 -> 出来都是1×1\n",
    "            self.fc = nn.Linear( 512 * block.exp, num_classes )\n",
    "            \n",
    "        for m in self.modules():                                            # 权重初始化\n",
    "            if isinstance( m, nn.Conv2d ):\n",
    "                nn.init.kaiming_normal_( m.weight, mode = 'fan_out', nonlinearity = 'relu' )\n",
    "                \n",
    "        \n",
    "        \n",
    "        \n",
    "        \n",
    "    def _make_layer( self, block, channel, block_num, stride = 1 ):\n",
    "        # 构建捷径函数\n",
    "        downsample = None\n",
    "        if stride != 1 or self.in_channels != channel * block.exp:\n",
    "            downsample = nn.Sequential(\n",
    "                nn.Conv2d( self.in_channels,\n",
    "                           channel * block.exp, \n",
    "                           kernel_size = 1, \n",
    "                           stride = stride, \n",
    "                           bias = False ),\n",
    "                nn.BatchNorm2d( channel * block.exp ),\n",
    "            )\n",
    "        layers = []\n",
    "        layers.append( block( self.in_channels,\n",
    "                              channel,\n",
    "                              stride = stride, \n",
    "                              downsample = downsample ) )\n",
    "        self.in_channels = channel * block.exp\n",
    "        \n",
    "        for _ in range( 1, block_num ):\n",
    "            # 捷径在输入和输出形状不一致时通过1x1卷积层调整尺寸以实现加法操作来调整输入的尺寸,第二节开始由于输入和输出形状相同所有都是实线\n",
    "            layers.append( block( self.in_channels, channel ) )\n",
    "        \n",
    "        \n",
    "        return nn.Sequential( *layers )\n",
    "    \n",
    "    \n",
    "    \n",
    "    def forward( self, x ):\n",
    "        x = self.conv1( x )\n",
    "        x = self.bn1( x )\n",
    "        x = self.relu1( x )\n",
    "        x = self.maxpool1( x )\n",
    "        \n",
    "        x = self.layer1( x )\n",
    "        x = self.layer2( x )\n",
    "        x = self.layer3( x )\n",
    "        x = self.layer4( x )\n",
    "        \n",
    "        if self.include_top:\n",
    "            x = self.avgpool1( x )\n",
    "            x = torch.flatten( x, 1 )\n",
    "            x = self.fc( x )\n",
    "            \n",
    "        return x"
   ],
   "metadata": {
    "collapsed": false,
    "ExecuteTime": {
     "end_time": "2024-07-10T02:36:00.943051Z",
     "start_time": "2024-07-10T02:36:00.932944100Z"
    }
   },
   "id": "37cba666c2ad4d3d",
   "execution_count": 4
  },
  {
   "cell_type": "code",
   "outputs": [],
   "source": [
    "def ResNet34( num_classes = 5, include_top = True ):\n",
    "    return ResNet( BasicBlock, [ 3, 4, 6, 3 ], num_classes = num_classes, include_top = include_top )\n",
    "\n",
    "\n",
    "def ResNet101( num_classes = 5, include_top = True ):\n",
    "    return ResNet( Bottleneck, [3, 4, 23, 3 ], num_classes = num_classes, include_top = include_top )"
   ],
   "metadata": {
    "collapsed": false,
    "ExecuteTime": {
     "end_time": "2024-07-10T02:36:00.945049Z",
     "start_time": "2024-07-10T02:36:00.941535Z"
    }
   },
   "id": "82944b6d02f86217",
   "execution_count": 5
  },
  {
   "cell_type": "code",
   "outputs": [],
   "source": [
    "net = ResNet34()\n"
   ],
   "metadata": {
    "collapsed": false
   },
   "id": "a33b614cd42aeeb3"
  }
 ],
 "metadata": {
  "kernelspec": {
   "display_name": "Python 3",
   "language": "python",
   "name": "python3"
  },
  "language_info": {
   "codemirror_mode": {
    "name": "ipython",
    "version": 2
   },
   "file_extension": ".py",
   "mimetype": "text/x-python",
   "name": "python",
   "nbconvert_exporter": "python",
   "pygments_lexer": "ipython2",
   "version": "2.7.6"
  }
 },
 "nbformat": 4,
 "nbformat_minor": 5
}
