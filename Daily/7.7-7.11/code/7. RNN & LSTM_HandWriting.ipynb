{
 "cells": [
  {
   "cell_type": "code",
   "execution_count": 2,
   "id": "initial_id",
   "metadata": {
    "collapsed": true,
    "ExecuteTime": {
     "end_time": "2024-07-29T07:22:42.503745500Z",
     "start_time": "2024-07-29T07:22:39.610562800Z"
    }
   },
   "outputs": [],
   "source": [
    "import torch\n",
    "import torch.nn as nn\n",
    "from torchvision.datasets import MNIST\n",
    "import torchvision.transforms as transforms\n",
    "from torch.utils.data import DataLoader\n",
    "import numpy as np\n",
    "import pandas as pd "
   ]
  },
  {
   "cell_type": "code",
   "outputs": [],
   "source": [
    "train_dataset = MNIST( root='./data', train = True , download = True, transform = transforms.ToTensor() )\n",
    "train_loader = DataLoader( train_dataset, batch_size = 32, shuffle = True )\n",
    "\n",
    "test_dataset = MNIST( root='./data', train = False, download = False, transform = transforms.ToTensor() )\n",
    "test_loader = DataLoader( test_dataset, batch_size = 32, shuffle = False )"
   ],
   "metadata": {
    "collapsed": false,
    "ExecuteTime": {
     "end_time": "2024-07-29T07:22:42.545490200Z",
     "start_time": "2024-07-29T07:22:42.505744700Z"
    }
   },
   "id": "abc51de9050f455",
   "execution_count": 3
  },
  {
   "cell_type": "markdown",
   "source": [
    "RNN的输入: seq_len, batch_size, input_size( feature_len ) -> batch_size -> dim = 1, 用batch_first = True把batch_size调到最前面"
   ],
   "metadata": {
    "collapsed": false
   },
   "id": "52e74a87f35f75a9"
  },
  {
   "cell_type": "code",
   "outputs": [],
   "source": [
    "class RNN_Model( nn.Module ):\n",
    "    def __init__( self, input_dim, hidden_dim, layer_dim, output_dim ):\n",
    "        super( RNN_Model, self ).__init__()\n",
    "        self.hidden_dim = hidden_dim\n",
    "        self.layer_dim = layer_dim\n",
    "        self.rnn = nn.RNN( input_dim, hidden_dim, layer_dim, batch_first = True, nonlinearity = 'relu' )\n",
    "        self.fc = nn.Linear( hidden_dim, output_dim )\n",
    "            \n",
    "            \n",
    "    def forward( self, x ):\n",
    "        # 初始化隐藏层状态 -> layer_dim, batch_size, hidden_dim     x.size( 0 ) -> batch_size\n",
    "        h0 = torch.zeros( self.layer_dim, x.size( 0 ), self.hidden_dim ).requires_grad_()\n",
    "        out, hn = self.rnn( x, h0.detach() )                # 分离隐藏状态，避免梯度爆炸\n",
    "        \n",
    "        out = self.fc( out[ :, -1, : ] )                    # 只取最后一层隐藏层的状态\n",
    "        return out"
   ],
   "metadata": {
    "collapsed": false,
    "ExecuteTime": {
     "end_time": "2024-07-29T07:22:42.546487900Z",
     "start_time": "2024-07-29T07:22:42.542328500Z"
    }
   },
   "id": "a1aa295ec3a69908",
   "execution_count": 4
  },
  {
   "cell_type": "code",
   "outputs": [
    {
     "data": {
      "text/plain": "'\\n\\n\\nrnn = RNN_Model( input_dim, hidden_dim, layer_dim, output_dim )\\nloss_f = nn.CrossEntropyLoss()\\noptimizer = torch.optim.SGD( rnn.parameters(), lr = 0.05 )\\n'"
     },
     "execution_count": 5,
     "metadata": {},
     "output_type": "execute_result"
    }
   ],
   "source": [
    "input_dim = 28          # 输入的图片都是28×28的\n",
    "hidden_dim = 100        # 隐藏层的维度\n",
    "# layer_dim = 2           # 2层RNN\n",
    "output_dim = 10         # 输出维度 -> 一共有十种数字\n",
    "seq_dim = 28            # 序列长度 -> 自己随便定义\n",
    "'''\n",
    "\n",
    "\n",
    "rnn = RNN_Model( input_dim, hidden_dim, layer_dim, output_dim )\n",
    "loss_f = nn.CrossEntropyLoss()\n",
    "optimizer = torch.optim.SGD( rnn.parameters(), lr = 0.05 )\n",
    "'''"
   ],
   "metadata": {
    "collapsed": false,
    "ExecuteTime": {
     "end_time": "2024-07-29T07:22:42.567702800Z",
     "start_time": "2024-07-29T07:22:42.547571200Z"
    }
   },
   "id": "dee3c7ab79161b32",
   "execution_count": 5
  },
  {
   "cell_type": "code",
   "outputs": [
    {
     "data": {
      "text/plain": "\"\\nfor epoch in range( 2 ):\\n    running_loss = 0.0\\n    for step, data in enumerate( train_loader, 0 ):\\n        img, label = data\\n        img = img.view( -1, seq_dim, input_dim ).requires_grad_()\\n        optimizer.zero_grad()\\n        output = rnn( img )\\n        loss = loss_f( output, label )\\n        loss.backward()\\n        optimizer.step()\\n        running_loss += loss.item()\\n        \\n        if step % 500 == 499:\\n            r = 0\\n            total = 0\\n            for img, label in test_loader:\\n                with torch.no_grad():\\n                    img = img.view( -1, seq_dim, input_dim )    # 验证无需计算梯度\\n                    output = rnn( img )\\n                    pred = torch.max( output.data, 1 )[1]\\n                    total += label.size( 0 )                    # 统计测试集的大小\\n                    r += ( pred == label ).sum()\\n            acc = r / total\\n            accuracy_list.append( acc.item() )\\n            print( '[%d  %5d]   loss:%.3f   accuracy:%.3f' % (epoch + 1, step+1, running_loss / (step+1), acc) )\\n            running_loss = 0.0\\n\""
     },
     "execution_count": 6,
     "metadata": {},
     "output_type": "execute_result"
    }
   ],
   "source": [
    "accuracy_list = []\n",
    "'''\n",
    "for epoch in range( 2 ):\n",
    "    running_loss = 0.0\n",
    "    for step, data in enumerate( train_loader, 0 ):\n",
    "        img, label = data\n",
    "        img = img.view( -1, seq_dim, input_dim ).requires_grad_()\n",
    "        optimizer.zero_grad()\n",
    "        output = rnn( img )\n",
    "        loss = loss_f( output, label )\n",
    "        loss.backward()\n",
    "        optimizer.step()\n",
    "        running_loss += loss.item()\n",
    "        \n",
    "        if step % 500 == 499:\n",
    "            r = 0\n",
    "            total = 0\n",
    "            for img, label in test_loader:\n",
    "                with torch.no_grad():\n",
    "                    img = img.view( -1, seq_dim, input_dim )    # 验证无需计算梯度\n",
    "                    output = rnn( img )\n",
    "                    pred = torch.max( output.data, 1 )[1]\n",
    "                    total += label.size( 0 )                    # 统计测试集的大小\n",
    "                    r += ( pred == label ).sum()\n",
    "            acc = r / total\n",
    "            accuracy_list.append( acc.item() )\n",
    "            print( '[%d  %5d]   loss:%.3f   accuracy:%.3f' % (epoch + 1, step+1, running_loss / (step+1), acc) )\n",
    "            running_loss = 0.0\n",
    "'''              "
   ],
   "metadata": {
    "collapsed": false,
    "ExecuteTime": {
     "end_time": "2024-07-29T07:22:42.568833800Z",
     "start_time": "2024-07-29T07:22:42.560842Z"
    }
   },
   "id": "4d1bd61fb59c9d55",
   "execution_count": 6
  },
  {
   "cell_type": "code",
   "outputs": [],
   "source": [
    "class LSTM_Model( nn.Module ):\n",
    "    def __init__( self, input_dim, hidden_dim, layer_dim, output_dim ):\n",
    "        super( LSTM_Model, self ).__init__()\n",
    "        self.hidden_dim = hidden_dim\n",
    "        self.layer_dim = layer_dim\n",
    "        self.lstm = nn.LSTM( input_dim, hidden_dim, layer_dim, batch_first = True )\n",
    "        self.fc = nn.Linear( hidden_dim, output_dim )\n",
    "            \n",
    "            \n",
    "    def forward( self, x ):\n",
    "        # 初始化隐藏层状态 -> layer_dim, batch_size, hidden_dim     x.size( 0 ) -> batch_size\n",
    "        h0 = torch.zeros( self.layer_dim, x.size( 0 ), self.hidden_dim ).requires_grad_()\n",
    "        c0 = torch.zeros( self.layer_dim, x.size( 0 ), self.hidden_dim ).requires_grad_()\n",
    "        \n",
    "        out, ( hn, cn ) = self.lstm( x, ( h0.detach(), c0.detach() ) )                # 分离隐藏状态，避免梯度爆炸\n",
    "        \n",
    "        out = self.fc( out[ :, -1, : ] )                            # 只取最后一层隐藏层的状态\n",
    "        return out"
   ],
   "metadata": {
    "collapsed": false,
    "ExecuteTime": {
     "end_time": "2024-07-29T07:22:42.582555900Z",
     "start_time": "2024-07-29T07:22:42.567702800Z"
    }
   },
   "id": "af1cf2a20bc1a363",
   "execution_count": 7
  },
  {
   "cell_type": "code",
   "outputs": [
    {
     "name": "stdout",
     "output_type": "stream",
     "text": [
      "[1    500]   loss:2.299   accuracy:0.130\n",
      "[1   1000]   loss:1.140   accuracy:0.177\n",
      "[1   1500]   loss:0.695   accuracy:0.384\n",
      "[2    500]   loss:0.889   accuracy:0.780\n",
      "[2   1000]   loss:0.305   accuracy:0.857\n",
      "[2   1500]   loss:0.152   accuracy:0.893\n",
      "[3    500]   loss:0.286   accuracy:0.934\n",
      "[3   1000]   loss:0.120   accuracy:0.918\n",
      "[3   1500]   loss:0.070   accuracy:0.950\n",
      "[4    500]   loss:0.176   accuracy:0.955\n",
      "[4   1000]   loss:0.078   accuracy:0.958\n",
      "[4   1500]   loss:0.050   accuracy:0.964\n",
      "[5    500]   loss:0.135   accuracy:0.967\n",
      "[5   1000]   loss:0.058   accuracy:0.967\n",
      "[5   1500]   loss:0.036   accuracy:0.965\n"
     ]
    }
   ],
   "source": [
    "layer_dim = 1\n",
    "\n",
    "lstm = LSTM_Model( input_dim, hidden_dim, layer_dim, output_dim )\n",
    "loss_f = nn.CrossEntropyLoss()\n",
    "optimizer = torch.optim.SGD( lstm.parameters(), lr = 0.05 )\n",
    "\n",
    "\n",
    "for epoch in range( 5 ):\n",
    "    lstm.train()\n",
    "    running_loss = 0.0\n",
    "    for step, data in enumerate( train_loader, 0 ):\n",
    "        img, label = data\n",
    "        img = img.view( -1, seq_dim, input_dim ).requires_grad_()\n",
    "        optimizer.zero_grad()\n",
    "        output = lstm( img )\n",
    "        loss = loss_f( output, label )\n",
    "        loss.backward()\n",
    "        optimizer.step()\n",
    "        running_loss += loss.item()\n",
    "        \n",
    "        if step % 500 == 499:\n",
    "            lstm.eval()\n",
    "            r = 0\n",
    "            total = 0\n",
    "            for img, label in test_loader:\n",
    "                with torch.no_grad():\n",
    "                    img = img.view( -1, seq_dim, input_dim )    # 验证无需计算梯度\n",
    "                    output = lstm( img )\n",
    "                    pred = torch.max( output.data, 1 )[1]\n",
    "                    total += label.size( 0 )                    # 统计测试集的大小\n",
    "                    r += ( pred == label ).sum()\n",
    "            acc = r / total\n",
    "            accuracy_list.append( acc.item() )\n",
    "            print( '[%d  %5d]   loss:%.3f   accuracy:%.3f' % (epoch + 1, step+1, running_loss / (step+1), acc) )\n",
    "            running_loss = 0.0\n",
    "                "
   ],
   "metadata": {
    "collapsed": false,
    "ExecuteTime": {
     "end_time": "2024-07-29T07:23:48.915507500Z",
     "start_time": "2024-07-29T07:22:42.576559800Z"
    }
   },
   "id": "5b3ed6a593df1b1c",
   "execution_count": 8
  },
  {
   "cell_type": "code",
   "outputs": [
    {
     "data": {
      "text/plain": "<Figure size 640x480 with 1 Axes>",
      "image/png": "[encoded data removed]"
     },
     "metadata": {},
     "output_type": "display_data"
    }
   ],
   "source": [
    "import matplotlib.pyplot as plt\n",
    "step_list = [ i for i in range( len( accuracy_list ) ) ]\n",
    "plt.plot( step_list, accuracy_list )\n",
    "plt.xlabel('steps')\n",
    "plt.ylabel('accuracy')\n",
    "plt.show()\n"
   ],
   "metadata": {
    "collapsed": false,
    "ExecuteTime": {
     "end_time": "2024-07-29T07:23:49.289911600Z",
     "start_time": "2024-07-29T07:23:48.917507900Z"
    }
   },
   "id": "21151db344ca1d3d",
   "execution_count": 9
  },
  {
   "cell_type": "code",
   "outputs": [],
   "source": [
    "torch.save( lstm.state_dict(), '../path/LSTM.pth' )"
   ],
   "metadata": {
    "collapsed": false,
    "ExecuteTime": {
     "end_time": "2024-07-29T07:23:49.301040900Z",
     "start_time": "2024-07-29T07:23:49.292348900Z"
    }
   },
   "id": "ab3ff607e88f72ef",
   "execution_count": 10
  },
  {
   "cell_type": "code",
   "outputs": [
    {
     "name": "stdout",
     "output_type": "stream",
     "text": [
      "识别数字：3\n"
     ]
    },
    {
     "data": {
      "text/plain": "<Figure size 640x480 with 1 Axes>",
      "image/png": "[encoded data removed]"
     },
     "metadata": {},
     "output_type": "display_data"
    }
   ],
   "source": [
    "from PIL import Image\n",
    "transform = transforms.ToTensor()\n",
    "\n",
    "img = Image.open( './data/test6.jpg' )\n",
    "img = img.resize( ( 28, 28 ) )\n",
    "img = img.convert( 'L' )                        # 灰度\n",
    "img = transforms.ToTensor()( img )\n",
    "img = img.view( 1, 28, 28 )\n",
    "\n",
    "output =lstm( img )\n",
    "pred = torch.max( output.data, dim = 1 )[1]\n",
    "print( '识别数字：%d' % pred.item() )\n",
    "plt.imshow( img.squeeze() )\n",
    "plt.show()"
   ],
   "metadata": {
    "collapsed": false,
    "ExecuteTime": {
     "end_time": "2024-07-29T07:24:25.266610Z",
     "start_time": "2024-07-29T07:24:25.184940700Z"
    }
   },
   "id": "8e6c14944099374e",
   "execution_count": 15
  },
  {
   "cell_type": "code",
   "outputs": [],
   "source": [],
   "metadata": {
    "collapsed": false,
    "ExecuteTime": {
     "end_time": "2024-07-29T07:23:49.668774100Z",
     "start_time": "2024-07-29T07:23:49.656767300Z"
    }
   },
   "id": "edceb13fe3f467c5"
  }
 ],
 "metadata": {
  "kernelspec": {
   "display_name": "Python 3",
   "language": "python",
   "name": "python3"
  },
  "language_info": {
   "codemirror_mode": {
    "name": "ipython",
    "version": 2
   },
   "file_extension": ".py",
   "mimetype": "text/x-python",
   "name": "python",
   "nbconvert_exporter": "python",
   "pygments_lexer": "ipython2",
   "version": "2.7.6"
  }
 },
 "nbformat": 4,
 "nbformat_minor": 5
}
