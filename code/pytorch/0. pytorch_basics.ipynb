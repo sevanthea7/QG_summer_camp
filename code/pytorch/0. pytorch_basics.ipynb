{
 "cells": [
  {
   "cell_type": "code",
   "outputs": [],
   "source": [
    "import torch"
   ],
   "metadata": {
    "collapsed": false,
    "ExecuteTime": {
     "end_time": "2024-07-09T06:45:22.932550500Z",
     "start_time": "2024-07-09T06:45:20.730532500Z"
    }
   },
   "id": "df33a42917995cd",
   "execution_count": 1
  },
  {
   "cell_type": "markdown",
   "source": [
    "1. 随机数"
   ],
   "metadata": {
    "collapsed": false
   },
   "id": "47e3f440fd4176a6"
  },
  {
   "cell_type": "code",
   "outputs": [
    {
     "data": {
      "text/plain": "(tensor([[-0.9943, -0.6065, -0.5218, -0.1695,  0.4143],\n         [-0.3911, -0.3146,  2.1595, -0.4808,  0.5162],\n         [-0.5482,  0.8760, -2.2544, -0.7170,  0.7545],\n         [-0.8475,  1.1356,  0.9290,  0.3876,  2.4676]]),\n tensor([[ 0.7361,  0.4775, -1.2555, -0.4689, -1.1327],\n         [-0.2100,  0.9687,  1.5240,  0.6131,  0.2964],\n         [-0.0666, -0.2799,  1.4633,  3.1023, -1.1122],\n         [ 0.8412,  1.2276, -0.2365,  0.1413, -0.0675]]),\n tensor([[-9.0051e-01, -7.7932e-01,  1.0446e-03,  2.1479e-01,  1.0633e+00],\n         [-1.2076e+00,  2.6069e-01,  1.8750e+00, -3.6173e-02,  6.9895e-02],\n         [-1.1194e+00, -3.5104e-01, -1.3703e+00, -1.8741e-01, -6.6004e-01],\n         [-2.0014e+00, -1.8715e+00, -3.2859e-01, -4.2645e-01, -1.8414e-01]]))"
     },
     "execution_count": 2,
     "metadata": {},
     "output_type": "execute_result"
    }
   ],
   "source": [
    "x = torch.randn( 4, 5 )\n",
    "y = torch.randn( 4, 5 )\n",
    "z = torch.randn( 4, 5 )\n",
    "x, y, z"
   ],
   "metadata": {
    "collapsed": true,
    "ExecuteTime": {
     "end_time": "2024-07-09T06:45:22.965232500Z",
     "start_time": "2024-07-09T06:45:22.933858900Z"
    }
   },
   "id": "initial_id",
   "execution_count": 2
  },
  {
   "cell_type": "markdown",
   "source": [
    "2. torch.max\n",
    "    1) 输出tensor中的最大元素\n",
    "    2) 在某个dim上找最大值\n",
    "    3) 比较两个tensor"
   ],
   "metadata": {
    "collapsed": false
   },
   "id": "55e0fd123295a24a"
  },
  {
   "cell_type": "code",
   "outputs": [
    {
     "data": {
      "text/plain": "tensor(2.4676)"
     },
     "execution_count": 3,
     "metadata": {},
     "output_type": "execute_result"
    }
   ],
   "source": [
    "m = torch.max( x )\n",
    "m"
   ],
   "metadata": {
    "collapsed": false,
    "ExecuteTime": {
     "end_time": "2024-07-09T06:45:22.966734800Z",
     "start_time": "2024-07-09T06:45:22.944511400Z"
    }
   },
   "id": "fc1252f063052a5c",
   "execution_count": 3
  },
  {
   "cell_type": "code",
   "outputs": [
    {
     "name": "stdout",
     "output_type": "stream",
     "text": [
      "tensor([-0.3911,  1.1356,  2.1595,  0.3876,  2.4676])\n",
      "tensor([1, 3, 1, 3, 3])\n"
     ]
    }
   ],
   "source": [
    "m, idx = torch.max( x, 0 )      # m, idx = torch.max( imput = x, dim = 0 )\n",
    "print( m )                      # 依次是每一列中的最大值\n",
    "print( idx )                    # 每一列中最大值的竖直方向的顺序"
   ],
   "metadata": {
    "collapsed": false,
    "ExecuteTime": {
     "end_time": "2024-07-09T06:45:23.011903900Z",
     "start_time": "2024-07-09T06:45:22.951439600Z"
    }
   },
   "id": "c8644aab34b0da20",
   "execution_count": 4
  },
  {
   "cell_type": "code",
   "outputs": [
    {
     "data": {
      "text/plain": "tensor([[ 0.7361,  0.4775, -0.5218, -0.1695,  0.4143],\n        [-0.2100,  0.9687,  2.1595,  0.6131,  0.5162],\n        [-0.0666,  0.8760,  1.4633,  3.1023,  0.7545],\n        [ 0.8412,  1.2276,  0.9290,  0.3876,  2.4676]])"
     },
     "execution_count": 5,
     "metadata": {},
     "output_type": "execute_result"
    }
   ],
   "source": [
    "mt = torch.max( x, y )\n",
    "mt"
   ],
   "metadata": {
    "collapsed": false,
    "ExecuteTime": {
     "end_time": "2024-07-09T06:45:23.014102200Z",
     "start_time": "2024-07-09T06:45:22.962118200Z"
    }
   },
   "id": "a981db88be9622f5",
   "execution_count": 5
  },
  {
   "cell_type": "markdown",
   "source": [
    "应用"
   ],
   "metadata": {
    "collapsed": false
   },
   "id": "461b1799f3225937"
  },
  {
   "cell_type": "code",
   "outputs": [
    {
     "name": "stdout",
     "output_type": "stream",
     "text": [
      "['a', 'b', 'c', 'd'] ['e', 'f', 'g', 'h'] ['i', 'j', 'k', 'l'] ['m', 'n', 'o', 'p'] "
     ]
    }
   ],
   "source": [
    "import torch.utils.data\n",
    "\n",
    "class EgDataset(torch.utils.data.Dataset):\n",
    "    def __init__(self):\n",
    "        self.data = 'abcdefghijklmnop'\n",
    "    def __getitem__(self, index):\n",
    "        return self.data[index]\n",
    "    def __len__(self):\n",
    "        return len(self.data)\n",
    "\n",
    "\n",
    "dataset = EgDataset()           # 实例化\n",
    "# dataloader = torch.utils.data.DataLoader( dataset, batch_size = 1, shuffle = True, num_workers = 0 )\n",
    "# dataloader = torch.utils.data.DataLoader( dataset, batch_size = 1, shuffle = False, num_workers = 0 )\n",
    "dataloader = torch.utils.data.DataLoader( dataset, batch_size = 4, shuffle = False, num_workers = 0 )\n",
    "for d in dataloader:\n",
    "    print( d, end=' ' )"
   ],
   "metadata": {
    "collapsed": false,
    "ExecuteTime": {
     "end_time": "2024-07-09T06:45:23.014494300Z",
     "start_time": "2024-07-09T06:45:22.973117700Z"
    }
   },
   "id": "2e4edff64961eda4",
   "execution_count": 6
  },
  {
   "cell_type": "code",
   "outputs": [
    {
     "data": {
      "text/plain": "tensor([[-9.9434e-01, -6.0645e-01, -5.2180e-01, -1.6953e-01,  4.1426e-01,\n          7.3613e-01,  4.7752e-01, -1.2555e+00, -4.6891e-01, -1.1327e+00,\n         -9.0051e-01, -7.7932e-01,  1.0446e-03,  2.1479e-01,  1.0633e+00],\n        [-3.9114e-01, -3.1458e-01,  2.1595e+00, -4.8075e-01,  5.1620e-01,\n         -2.1004e-01,  9.6868e-01,  1.5240e+00,  6.1310e-01,  2.9644e-01,\n         -1.2076e+00,  2.6069e-01,  1.8750e+00, -3.6173e-02,  6.9895e-02],\n        [-5.4823e-01,  8.7601e-01, -2.2544e+00, -7.1703e-01,  7.5453e-01,\n         -6.6635e-02, -2.7988e-01,  1.4633e+00,  3.1023e+00, -1.1122e+00,\n         -1.1194e+00, -3.5104e-01, -1.3703e+00, -1.8741e-01, -6.6004e-01],\n        [-8.4750e-01,  1.1356e+00,  9.2897e-01,  3.8762e-01,  2.4676e+00,\n          8.4124e-01,  1.2276e+00, -2.3645e-01,  1.4127e-01, -6.7537e-02,\n         -2.0014e+00, -1.8715e+00, -3.2859e-01, -4.2645e-01, -1.8414e-01]])"
     },
     "execution_count": 7,
     "metadata": {},
     "output_type": "execute_result"
    }
   ],
   "source": [
    "mt = torch.cat( [x, y ,z ], dim = 1 )\n",
    "mt"
   ],
   "metadata": {
    "collapsed": false,
    "ExecuteTime": {
     "end_time": "2024-07-09T06:45:23.015000800Z",
     "start_time": "2024-07-09T06:45:22.979991100Z"
    }
   },
   "id": "a421c0aa7122ed5",
   "execution_count": 7
  },
  {
   "cell_type": "markdown",
   "source": [
    "矩阵乘法"
   ],
   "metadata": {
    "collapsed": false
   },
   "id": "3d0eab782ddf354a"
  },
  {
   "cell_type": "code",
   "outputs": [
    {
     "data": {
      "text/plain": "(tensor([[ 2, -1],\n         [-1, 13]]),\n tensor([[ 2, -1],\n         [-1, 13]]))"
     },
     "execution_count": 8,
     "metadata": {},
     "output_type": "execute_result"
    }
   ],
   "source": [
    "a = torch.tensor( [[1, -1],\n",
    "                  [2, 3]] )\n",
    "k1 = a @ a.T\n",
    "k2 = a.matmul( a.T )\n",
    "k1, k2"
   ],
   "metadata": {
    "collapsed": false,
    "ExecuteTime": {
     "end_time": "2024-07-09T06:45:23.126589700Z",
     "start_time": "2024-07-09T06:45:22.987165600Z"
    }
   },
   "id": "dcd44d300527025e",
   "execution_count": 8
  },
  {
   "cell_type": "markdown",
   "source": [
    "对应元素相乘"
   ],
   "metadata": {
    "collapsed": false
   },
   "id": "5d61404be7982c0f"
  },
  {
   "cell_type": "code",
   "outputs": [
    {
     "data": {
      "text/plain": "(tensor([[1, 1],\n         [4, 9]]),\n tensor([[1, 1],\n         [4, 9]]))"
     },
     "execution_count": 9,
     "metadata": {},
     "output_type": "execute_result"
    }
   ],
   "source": [
    "k3 = a * a\n",
    "k4 = a.mul( a )\n",
    "k3, k4"
   ],
   "metadata": {
    "collapsed": false,
    "ExecuteTime": {
     "end_time": "2024-07-09T06:45:23.129227300Z",
     "start_time": "2024-07-09T06:45:23.000218200Z"
    }
   },
   "id": "20fa9d9c63e3fbe1",
   "execution_count": 9
  },
  {
   "cell_type": "markdown",
   "source": [
    ".sum & .item()"
   ],
   "metadata": {
    "collapsed": false
   },
   "id": "bdbcdc2bc01895a0"
  },
  {
   "cell_type": "code",
   "outputs": [
    {
     "data": {
      "text/plain": "(tensor(5), 5)"
     },
     "execution_count": 10,
     "metadata": {},
     "output_type": "execute_result"
    }
   ],
   "source": [
    "s = a.sum()\n",
    "s_item = s.item()\n",
    "s, s_item"
   ],
   "metadata": {
    "collapsed": false,
    "ExecuteTime": {
     "end_time": "2024-07-09T06:45:23.130255700Z",
     "start_time": "2024-07-09T06:45:23.008287400Z"
    }
   },
   "id": "9bee4e01fbcd0633",
   "execution_count": 10
  },
  {
   "cell_type": "markdown",
   "source": [
    "Dataloader:避免过拟合每个epoch都通过dataloader进行reshuffle"
   ],
   "metadata": {
    "collapsed": false
   },
   "id": "f582a21d365f18b5"
  },
  {
   "cell_type": "code",
   "outputs": [],
   "source": [
    "trainloader = torch.utils.data.DataLoader( dataset, batch_size = 4, shuffle =True, num_workers = 0 )"
   ],
   "metadata": {
    "collapsed": false,
    "ExecuteTime": {
     "end_time": "2024-07-09T06:45:23.148374500Z",
     "start_time": "2024-07-09T06:45:23.014494300Z"
    }
   },
   "id": "b141afcbcf3b33bc",
   "execution_count": 11
  },
  {
   "cell_type": "markdown",
   "source": [
    "自定义模型"
   ],
   "metadata": {
    "collapsed": false
   },
   "id": "5bc2735563d561a"
  },
  {
   "cell_type": "code",
   "outputs": [],
   "source": [
    "import torch.nn as nn\n",
    "class MyModel( nn.Module ):\n",
    "    def __init__( self ):\n",
    "        super( MyModel, self ).__init__()\n",
    "        self.flatten = nn.Flatten()\n",
    "        self.OutPut = nn.Sequential(                    # 有序容器\n",
    "            nn.Linear( 32 * 32, 512 ),\n",
    "            nn.ReLU(),\n",
    "            nn.Linear( 512, 10 ),\n",
    "            nn.ReLU(),\n",
    "            nn.Linear( 10, 2 )\n",
    "        )\n",
    "    def forward(self, x):\n",
    "        x = self.flatten( x )\n",
    "        return self.OutPut( x )"
   ],
   "metadata": {
    "collapsed": false,
    "ExecuteTime": {
     "end_time": "2024-07-09T06:45:23.149381300Z",
     "start_time": "2024-07-09T06:45:23.020354700Z"
    }
   },
   "id": "f4a54e0967a10fa4",
   "execution_count": 12
  },
  {
   "cell_type": "markdown",
   "source": [
    "测试"
   ],
   "metadata": {
    "collapsed": false
   },
   "id": "94cad8714637a726"
  },
  {
   "cell_type": "code",
   "outputs": [
    {
     "data": {
      "text/plain": "(tensor([[0.4188, 0.5812]], grad_fn=<SoftmaxBackward0>), tensor([1]))"
     },
     "execution_count": 13,
     "metadata": {},
     "output_type": "execute_result"
    }
   ],
   "source": [
    "x = torch.randn( 1, 32, 32 )\n",
    "method = MyModel()\n",
    "predict = nn.Softmax( dim = 1 )( method( x ) )\n",
    "predict_y = predict.argmax( dim = 1 )\n",
    "predict, predict_y"
   ],
   "metadata": {
    "collapsed": false,
    "ExecuteTime": {
     "end_time": "2024-07-09T06:45:23.150379400Z",
     "start_time": "2024-07-09T06:45:23.024532200Z"
    }
   },
   "id": "f1265852629c370c",
   "execution_count": 13
  },
  {
   "cell_type": "code",
   "outputs": [
    {
     "data": {
      "text/plain": "torch.Size([3, 32, 32])"
     },
     "execution_count": 14,
     "metadata": {},
     "output_type": "execute_result"
    }
   ],
   "source": [
    "img = torch.randn( 3, 32, 32 )\n",
    "img.size()"
   ],
   "metadata": {
    "collapsed": false,
    "ExecuteTime": {
     "end_time": "2024-07-09T06:45:23.151496200Z",
     "start_time": "2024-07-09T06:45:23.036716400Z"
    }
   },
   "id": "36687b7cfd4f0609",
   "execution_count": 14
  },
  {
   "cell_type": "code",
   "outputs": [
    {
     "data": {
      "text/plain": "torch.Size([3, 1024])"
     },
     "execution_count": 15,
     "metadata": {},
     "output_type": "execute_result"
    }
   ],
   "source": [
    "flatten = nn.Flatten()\n",
    "f_img = flatten( img )\n",
    "f_img.size()                # 32*32 = 1024"
   ],
   "metadata": {
    "collapsed": false,
    "ExecuteTime": {
     "end_time": "2024-07-09T06:45:23.152501800Z",
     "start_time": "2024-07-09T06:45:23.041618700Z"
    }
   },
   "id": "55ce9bb7d9dc1fc4",
   "execution_count": 15
  },
  {
   "cell_type": "code",
   "outputs": [
    {
     "data": {
      "text/plain": "torch.Size([3, 256])"
     },
     "execution_count": 16,
     "metadata": {},
     "output_type": "execute_result"
    }
   ],
   "source": [
    "layer1 = nn.Linear( 32*32, 256 )\n",
    "h1 = layer1( f_img )\n",
    "h1.size()"
   ],
   "metadata": {
    "collapsed": false,
    "ExecuteTime": {
     "end_time": "2024-07-09T06:45:23.168906500Z",
     "start_time": "2024-07-09T06:45:23.049590100Z"
    }
   },
   "id": "be289096d9a878ba",
   "execution_count": 16
  },
  {
   "cell_type": "code",
   "outputs": [
    {
     "data": {
      "text/plain": "torch.Size([3, 256])"
     },
     "execution_count": 17,
     "metadata": {},
     "output_type": "execute_result"
    }
   ],
   "source": [
    "h2 = nn.ReLU()( h1 )\n",
    "h2.size()"
   ],
   "metadata": {
    "collapsed": false,
    "ExecuteTime": {
     "end_time": "2024-07-09T06:45:23.170904400Z",
     "start_time": "2024-07-09T06:45:23.057468300Z"
    }
   },
   "id": "2cad69bff78411ad",
   "execution_count": 17
  },
  {
   "cell_type": "code",
   "outputs": [
    {
     "data": {
      "text/plain": "torch.Size([3, 10])"
     },
     "execution_count": 18,
     "metadata": {},
     "output_type": "execute_result"
    }
   ],
   "source": [
    "layer2 = nn.Linear( 256, 10 )\n",
    "h3 = layer2( h2 )\n",
    "h3.size()"
   ],
   "metadata": {
    "collapsed": false,
    "ExecuteTime": {
     "end_time": "2024-07-09T06:45:23.294505500Z",
     "start_time": "2024-07-09T06:45:23.063905700Z"
    }
   },
   "id": "2fd8fb67eea09047",
   "execution_count": 18
  },
  {
   "cell_type": "code",
   "outputs": [
    {
     "data": {
      "text/plain": "tensor([[0.1208, 0.0840, 0.0840, 0.0753, 0.1087, 0.0679, 0.0750, 0.1561, 0.1129,\n         0.1152],\n        [0.1248, 0.1183, 0.0806, 0.1278, 0.0810, 0.0517, 0.1007, 0.1238, 0.0867,\n         0.1047],\n        [0.1111, 0.1036, 0.0933, 0.0941, 0.0865, 0.0719, 0.0905, 0.1269, 0.1443,\n         0.0778]], grad_fn=<SoftmaxBackward0>)"
     },
     "execution_count": 19,
     "metadata": {},
     "output_type": "execute_result"
    }
   ],
   "source": [
    "sm = nn.Softmax( dim = 1 )( h3 )\n",
    "sm"
   ],
   "metadata": {
    "collapsed": false,
    "ExecuteTime": {
     "end_time": "2024-07-09T06:45:23.296492300Z",
     "start_time": "2024-07-09T06:45:23.069947400Z"
    }
   },
   "id": "f60e1d0c5649de16",
   "execution_count": 19
  },
  {
   "cell_type": "markdown",
   "source": [
    "微分"
   ],
   "metadata": {
    "collapsed": false
   },
   "id": "9a8d5099af3c9e7d"
  },
  {
   "cell_type": "code",
   "outputs": [
    {
     "data": {
      "text/plain": "(tensor([[-0.0521,  0.6396,  0.0494,  0.2951, -1.2098],\n         [ 2.7282, -0.7458, -0.7573, -2.4858,  1.1581],\n         [-1.0032, -1.2807, -0.8904, -0.4516,  1.1434],\n         [-0.2337,  1.7488, -0.9077, -0.0215,  0.7101],\n         [ 0.3119, -0.8306,  2.4479, -1.7070, -0.5684]], requires_grad=True),\n tensor([-0.0536, -0.6724, -1.0878, -0.0683,  0.8596], requires_grad=True),\n tensor([ 1.6976, -1.1410, -1.1460, -4.4391,  2.0930], grad_fn=<AddBackward0>))"
     },
     "execution_count": 20,
     "metadata": {},
     "output_type": "execute_result"
    }
   ],
   "source": [
    "x = torch.ones( 5 )         # inputs\n",
    "y = torch.zeros( 5 )         # expects\n",
    "w = torch.randn( 5, 5, requires_grad=True )\n",
    "bias = torch.randn( 5, requires_grad=True )\n",
    "z = torch.matmul( x, w ) + bias\n",
    "\n",
    "w, bias, z"
   ],
   "metadata": {
    "collapsed": false,
    "ExecuteTime": {
     "end_time": "2024-07-09T06:45:23.297492500Z",
     "start_time": "2024-07-09T06:45:23.076535400Z"
    }
   },
   "id": "d26077d18e680e2a",
   "execution_count": 20
  },
  {
   "cell_type": "code",
   "outputs": [
    {
     "data": {
      "text/plain": "5.916619777679443"
     },
     "execution_count": 21,
     "metadata": {},
     "output_type": "execute_result"
    }
   ],
   "source": [
    "# loss = nn.CrossEntropyLoss()( z, y )\n",
    "loss_f = nn.MSELoss()\n",
    "loss = loss_f( z, y )\n",
    "\n",
    "loss.item()"
   ],
   "metadata": {
    "collapsed": false,
    "ExecuteTime": {
     "end_time": "2024-07-09T06:45:23.317859600Z",
     "start_time": "2024-07-09T06:45:23.084889200Z"
    }
   },
   "id": "bd0905c56eb8f1ab",
   "execution_count": 21
  },
  {
   "cell_type": "code",
   "outputs": [
    {
     "data": {
      "text/plain": "torch.Size([2, 2, 3])"
     },
     "execution_count": 25,
     "metadata": {},
     "output_type": "execute_result"
    }
   ],
   "source": [
    "t = torch.tensor( [[[1,2,3],\n",
    "                   [4,5,6]],\n",
    "                  [[7,8,9],\n",
    "                  [10, 11, 12]]])\n",
    "t.size()"
   ],
   "metadata": {
    "collapsed": false,
    "ExecuteTime": {
     "end_time": "2024-07-09T07:14:11.382958900Z",
     "start_time": "2024-07-09T07:14:11.370454Z"
    }
   },
   "id": "5a89b92bf8f22548",
   "execution_count": 25
  },
  {
   "cell_type": "code",
   "outputs": [
    {
     "data": {
      "text/plain": "(tensor([[ 1,  2,  3,  4,  5,  6],\n         [ 7,  8,  9, 10, 11, 12]]),\n torch.Size([2, 6]))"
     },
     "execution_count": 29,
     "metadata": {},
     "output_type": "execute_result"
    }
   ],
   "source": [
    "t = torch.flatten( t, 1 )\n",
    "t, t.size()"
   ],
   "metadata": {
    "collapsed": false,
    "ExecuteTime": {
     "end_time": "2024-07-09T07:15:42.251048100Z",
     "start_time": "2024-07-09T07:15:42.247362300Z"
    }
   },
   "id": "13a481e4256af383",
   "execution_count": 29
  },
  {
   "cell_type": "code",
   "outputs": [],
   "source": [],
   "metadata": {
    "collapsed": false
   },
   "id": "c81e970a62e5636f"
  }
 ],
 "metadata": {
  "kernelspec": {
   "display_name": "Python 3",
   "language": "python",
   "name": "python3"
  },
  "language_info": {
   "codemirror_mode": {
    "name": "ipython",
    "version": 2
   },
   "file_extension": ".py",
   "mimetype": "text/x-python",
   "name": "python",
   "nbconvert_exporter": "python",
   "pygments_lexer": "ipython2",
   "version": "2.7.6"
  }
 },
 "nbformat": 4,
 "nbformat_minor": 5
}
