{
 "cells": [
  {
   "cell_type": "code",
   "execution_count": 16,
   "id": "initial_id",
   "metadata": {
    "collapsed": true,
    "ExecuteTime": {
     "end_time": "2024-07-09T09:14:23.729800400Z",
     "start_time": "2024-07-09T09:14:23.712417600Z"
    }
   },
   "outputs": [],
   "source": [
    "import torch\n",
    "import torch.nn as nn"
   ]
  },
  {
   "cell_type": "code",
   "outputs": [],
   "source": [
    "class VGG( nn.Module ):\n",
    "    def __init__( self, features, num_classes, init_weights ):\n",
    "        super( VGG, self ).__init__()\n",
    "        self.features = features\n",
    "        self.classifier = nn.Sequential(\n",
    "            nn.Dropout( p = 0.5 ),\n",
    "            nn.Linear( 512 * 7 * 7, 2048 ),\n",
    "            nn.ReLU( inplace=True ),\n",
    "            nn.Dropout( p = 0.5 ),\n",
    "            nn.Linear( 2048, 2048 ),\n",
    "            nn.ReLU( inplace=True ),\n",
    "            nn.Linear( 2048, num_classes ),\n",
    "        )\n",
    "        if init_weights:\n",
    "            self._initialize_weights()\n",
    "            \n",
    "    def forward( self, x ):\n",
    "        x = self.features( x )                  # batch × 3 × 224 × 224 -> batch ×512 × 7 × 7\n",
    "        x = torch.flatten( x, start_dim = 1 )   # batch × 512*7*7\n",
    "        return self.classifier( x )\n",
    "        \n",
    "        \n",
    "        \n",
    "    def _initialize_weights( self ):            # 初始化权重的方法\n",
    "        for m in self.modules():\n",
    "            if isinstance( m, nn.Conv2d ):      # 如果m是卷积层的话，初始化它的权重和偏值\n",
    "                nn.init.kaiming_normal_( m.weight, mode='fan_out' )\n",
    "                if m.bias is not None:\n",
    "                    nn.init.constant_( m.bias, 0 )\n",
    "            elif isinstance( m, nn.Linear ):\n",
    "                nn.init.xavier_uniform( m.weight )\n",
    "                nn.init.constant_( m.bias, 0 )\n",
    "        "
   ],
   "metadata": {
    "collapsed": false,
    "ExecuteTime": {
     "end_time": "2024-07-09T09:14:23.745673900Z",
     "start_time": "2024-07-09T09:14:23.737829100Z"
    }
   },
   "id": "3ecc7333f25f1d7a",
   "execution_count": 17
  },
  {
   "cell_type": "code",
   "outputs": [],
   "source": [
    "networks = {\n",
    "    'vgg11': [64, 'M', 128, 'M', 256, 256, 'M', 512, 512, 'M', 512, 512, 'M'],\n",
    "    'vgg13': [64, 64, 'M', 128, 128, 'M', 256, 256, 'M', 512, 512, 'M', 512, 512, 'M'],\n",
    "    'vgg16': [64, 64, 'M', 128, 128, 'M', 256, 256, 256, 'M', 512, 512, 512, 'M', 512, 512, 512, 'M'],\n",
    "    'vgg19': [64, 64, 'M', 128, 128, 'M', 256, 256, 256, 256, 'M', 512, 512, 512, 512, 'M', 512, 512, 512, 512, 'M'],\n",
    "}\n",
    "\n",
    "def make_features( ntw: list ):\n",
    "    layers = []\n",
    "    in_channels = 3         # RGB -> 3\n",
    "    for v in ntw:\n",
    "        if v == 'M':\n",
    "            layers += [ nn.MaxPool2d( kernel_size=2, stride=2 ) ]\n",
    "        else:               # 是数字就是卷积 -> 改变长宽\n",
    "            conv2d = nn.Conv2d( in_channels, v, kernel_size=3, padding = 1 )\n",
    "            layers += [ conv2d, nn.ReLU( inplace=True ) ]\n",
    "            in_channels = v                     # 下一次的inchannel直接变为这一次的输出深度\n",
    "    \n",
    "    return nn.Sequential( *layers )"
   ],
   "metadata": {
    "collapsed": false,
    "ExecuteTime": {
     "end_time": "2024-07-09T09:14:23.759517400Z",
     "start_time": "2024-07-09T09:14:23.754107Z"
    }
   },
   "id": "163ab2bf2031c2d",
   "execution_count": 18
  },
  {
   "cell_type": "markdown",
   "source": [
    "实例化给定的模型"
   ],
   "metadata": {
    "collapsed": false
   },
   "id": "7194feb20b0eb7fc"
  },
  {
   "cell_type": "code",
   "outputs": [],
   "source": [
    "def vgg( model_name, num_classes, init_weights ):\n",
    "    assert model_name in networks, \"Not in dict!\" \n",
    "    ntw = networks[ model_name ]\n",
    "\n",
    "    model = VGG( make_features( ntw ), num_classes, init_weights )\n",
    "    return model"
   ],
   "metadata": {
    "collapsed": false,
    "ExecuteTime": {
     "end_time": "2024-07-09T09:14:23.780692700Z",
     "start_time": "2024-07-09T09:14:23.759009Z"
    }
   },
   "id": "50e08dde15b8cee",
   "execution_count": 19
  },
  {
   "cell_type": "code",
   "outputs": [
    {
     "name": "stderr",
     "output_type": "stream",
     "text": [
      "C:\\Users\\EC319\\AppData\\Local\\Temp\\ipykernel_14904\\4093306880.py:31: UserWarning: nn.init.xavier_uniform is now deprecated in favor of nn.init.xavier_uniform_.\n",
      "  nn.init.xavier_uniform( m.weight )\n"
     ]
    }
   ],
   "source": [
    "vgg_model = vgg( model_name='vgg16', num_classes = 5, init_weights = True )"
   ],
   "metadata": {
    "collapsed": false,
    "ExecuteTime": {
     "end_time": "2024-07-09T09:14:24.571636500Z",
     "start_time": "2024-07-09T09:14:23.763052100Z"
    }
   },
   "id": "b88248b8ce25da17",
   "execution_count": 20
  }
 ],
 "metadata": {
  "kernelspec": {
   "display_name": "Python 3",
   "language": "python",
   "name": "python3"
  },
  "language_info": {
   "codemirror_mode": {
    "name": "ipython",
    "version": 2
   },
   "file_extension": ".py",
   "mimetype": "text/x-python",
   "name": "python",
   "nbconvert_exporter": "python",
   "pygments_lexer": "ipython2",
   "version": "2.7.6"
  }
 },
 "nbformat": 4,
 "nbformat_minor": 5
}
