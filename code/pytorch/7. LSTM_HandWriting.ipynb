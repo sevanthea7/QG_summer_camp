{
 "cells": [
  {
   "cell_type": "code",
   "execution_count": 1,
   "id": "initial_id",
   "metadata": {
    "collapsed": true,
    "ExecuteTime": {
     "end_time": "2024-07-11T02:54:52.696412700Z",
     "start_time": "2024-07-11T02:54:47.380661300Z"
    }
   },
   "outputs": [],
   "source": [
    "from typing import Callable, Union\n",
    "\n",
    "import torch\n",
    "import torch.nn as nn\n",
    "from torch.nn.modules.module import _grad_t\n",
    "from torch.utils.hooks import RemovableHandle\n",
    "from torchvision.datasets import MNIST\n",
    "import torchvision.transforms as transforms\n",
    "from torch.utils.data import DataLoader\n",
    "import torchvision\n",
    "import numpy as np\n",
    "import pandas as pd "
   ]
  },
  {
   "cell_type": "code",
   "outputs": [],
   "source": [
    "train_dataset = MNIST( root='./data', train = True , download = True, transform = transforms.ToTensor() )\n",
    "train_loader = DataLoader( train_dataset, batch_size = 32, shuffle = True )\n",
    "\n",
    "test_dataset = MNIST( root='./data', train = False, download = False, transform = transforms.ToTensor() )\n",
    "test_loader = DataLoader( test_dataset, batch_size = 32, shuffle = False )"
   ],
   "metadata": {
    "collapsed": false,
    "ExecuteTime": {
     "end_time": "2024-07-11T02:54:54.642594300Z",
     "start_time": "2024-07-11T02:54:54.609236300Z"
    }
   },
   "id": "abc51de9050f455",
   "execution_count": 2
  },
  {
   "cell_type": "markdown",
   "source": [
    "RNN的输入: seq_len, batch_size, input_size( feature_len ) -> batch_size -> dim = 1, 用batch_first = True把batch_size调到最前面"
   ],
   "metadata": {
    "collapsed": false
   },
   "id": "52e74a87f35f75a9"
  },
  {
   "cell_type": "code",
   "outputs": [],
   "source": [
    "class LSTM( nn.Module ):\n",
    "    def __init__( self, input_dim, hidden_dim, layer_dim, output_dim ):\n",
    "        def __init__( self, input_dim, hidden_dim, output_dim ):\n",
    "            super( LSTM, self ).__init__()\n",
    "            self.hidden_dim = hidden_dim\n",
    "            self.layer_dim = layer_dim\n",
    "            self.rnn = nn.RNN( input_dim, hidden_dim, layer_dim, batch_first = True, nonlinearity = 'relu' )\n",
    "            self.fc = nn.Linear( hidden_dim, output_dim )\n",
    "            \n",
    "            \n",
    "        def forward( self, x ):\n",
    "            # 初始化隐藏层状态 -> layer_dim, batch_size, hidden_dim     x.size( 0 ) -> batch_size\n",
    "            h0 = torch.zeros( self.layer_dim, x.size( 0 ), self.hidden_dim ).requires_grad_()\n",
    "            out, hn = self.rnn( x, h0.detach() )                # 分离隐藏状态，避免梯度爆炸\n",
    "            \n",
    "            out = self.fc( out[ :, -1, : ] )\n",
    "            return out"
   ],
   "metadata": {
    "collapsed": false
   },
   "id": "a1aa295ec3a69908"
  },
  {
   "cell_type": "code",
   "outputs": [],
   "source": [
    "input_dim = 28          # 输入的图片都是28×28的\n",
    "hidden_dim = 100        # 隐藏层的维度\n",
    "layer_dim = 2           # 2层RNN\n",
    "output_dim = 10         # 输出维度 -> 一共有十种数字\n",
    "\n",
    "lstm = LSTM( input_dim, hidden_dim, layer_dim, output_dim )\n",
    "loss_f = nn.CrossEntropyLoss()\n",
    "optimizer = torch.optim.SGD( lstm.parameters(), lr = 0.1 )"
   ],
   "metadata": {
    "collapsed": false
   },
   "id": "dee3c7ab79161b32"
  },
  {
   "cell_type": "code",
   "outputs": [],
   "source": [],
   "metadata": {
    "collapsed": false
   },
   "id": "af1cf2a20bc1a363"
  }
 ],
 "metadata": {
  "kernelspec": {
   "display_name": "Python 3",
   "language": "python",
   "name": "python3"
  },
  "language_info": {
   "codemirror_mode": {
    "name": "ipython",
    "version": 2
   },
   "file_extension": ".py",
   "mimetype": "text/x-python",
   "name": "python",
   "nbconvert_exporter": "python",
   "pygments_lexer": "ipython2",
   "version": "2.7.6"
  }
 },
 "nbformat": 4,
 "nbformat_minor": 5
}
